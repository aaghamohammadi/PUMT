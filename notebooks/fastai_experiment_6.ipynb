{
 "cells": [
  {
   "cell_type": "code",
   "execution_count": 1,
   "metadata": {},
   "outputs": [],
   "source": [
    "from fastai.tabular import * "
   ]
  },
  {
   "cell_type": "code",
   "execution_count": 2,
   "metadata": {},
   "outputs": [],
   "source": [
    "dPath = Path(\"../docs/dumps\")"
   ]
  },
  {
   "cell_type": "code",
   "execution_count": 3,
   "metadata": {},
   "outputs": [],
   "source": [
    "with open(dPath / \"train_data.pkl\", 'rb') as filename:\n",
    "    train_data = pickle.load(filename)"
   ]
  },
  {
   "cell_type": "code",
   "execution_count": 4,
   "metadata": {},
   "outputs": [],
   "source": [
    "with open(dPath / \"valid_data.pkl\", 'rb') as filename:\n",
    "    valid_data = pickle.load(filename)"
   ]
  },
  {
   "cell_type": "code",
   "execution_count": 5,
   "metadata": {},
   "outputs": [],
   "source": [
    "with open(dPath / \"test_data.pkl\", 'rb') as filename:\n",
    "    test_data = pickle.load(filename)"
   ]
  },
  {
   "cell_type": "code",
   "execution_count": 6,
   "metadata": {},
   "outputs": [],
   "source": [
    "with open(dPath / \"not_running.pkl\", 'rb') as filename:\n",
    "    not_running = pickle.load(filename)"
   ]
  },
  {
   "cell_type": "code",
   "execution_count": 7,
   "metadata": {},
   "outputs": [],
   "source": [
    "with open(dPath / \"rf_exp_05_names.pkl\", 'rb') as filename:\n",
    "    names = pickle.load(filename)"
   ]
  },
  {
   "cell_type": "code",
   "execution_count": 8,
   "metadata": {},
   "outputs": [],
   "source": [
    "with open(dPath / \"mutclslabels.pkl\", 'rb') as filename:\n",
    "    mutclslabels = pickle.load(filename)\n",
    "\n",
    "with open(dPath / \"retypelabels.pkl\", 'rb') as filename:\n",
    "    retypelabels = pickle.load(filename)\n",
    "\n",
    "mutclscodes = dict(zip(mutclslabels,range(len(mutclslabels))))\n",
    "\n",
    "retypecodes = dict(zip(retypelabels,range(len(retypelabels))))"
   ]
  },
  {
   "cell_type": "code",
   "execution_count": 9,
   "metadata": {},
   "outputs": [],
   "source": [
    "test_data.replace(mutclscodes, inplace=True)\n",
    "test_data.replace(retypecodes, inplace=True)"
   ]
  },
  {
   "cell_type": "code",
   "execution_count": 10,
   "metadata": {},
   "outputs": [],
   "source": [
    "test_data['MutatorClass'] = test_data.MutatorClass.astype('category')\n",
    "test_data['returnType'] = test_data.returnType.astype('category')"
   ]
  },
  {
   "cell_type": "code",
   "execution_count": 11,
   "metadata": {},
   "outputs": [
    {
     "data": {
      "text/plain": [
       "67496"
      ]
     },
     "execution_count": 11,
     "metadata": {},
     "output_type": "execute_result"
    }
   ],
   "source": [
    "len(valid_data)"
   ]
  },
  {
   "cell_type": "code",
   "execution_count": 12,
   "metadata": {},
   "outputs": [],
   "source": [
    "from imblearn.over_sampling import RandomOverSampler"
   ]
  },
  {
   "cell_type": "code",
   "execution_count": 13,
   "metadata": {},
   "outputs": [],
   "source": [
    "ros = RandomOverSampler(random_state=42)"
   ]
  },
  {
   "cell_type": "code",
   "execution_count": 14,
   "metadata": {},
   "outputs": [],
   "source": [
    "X_train = train_data.drop(\"Detected\", axis=1)\n",
    "y_train = train_data.Detected"
   ]
  },
  {
   "cell_type": "code",
   "execution_count": 15,
   "metadata": {},
   "outputs": [
    {
     "name": "stdout",
     "output_type": "stream",
     "text": [
      "Wall time: 5.3 s\n"
     ]
    }
   ],
   "source": [
    "%time X_train, y_train = ros.fit_resample(X_train, y_train)"
   ]
  },
  {
   "cell_type": "code",
   "execution_count": 16,
   "metadata": {},
   "outputs": [],
   "source": [
    "train_data = pd.concat([X_train, y_train], axis=1)"
   ]
  },
  {
   "cell_type": "code",
   "execution_count": 17,
   "metadata": {},
   "outputs": [],
   "source": [
    "all_df = pd.concat([train_data, not_running, valid_data],axis=0,ignore_index=True)"
   ]
  },
  {
   "cell_type": "code",
   "execution_count": 18,
   "metadata": {},
   "outputs": [],
   "source": [
    "all_df['MutatorClass'] = all_df.MutatorClass.astype('category')"
   ]
  },
  {
   "cell_type": "code",
   "execution_count": 19,
   "metadata": {},
   "outputs": [],
   "source": [
    "all_df['returnType'] = all_df.returnType.astype('category')"
   ]
  },
  {
   "cell_type": "code",
   "execution_count": 20,
   "metadata": {},
   "outputs": [
    {
     "data": {
      "text/html": [
       "<div>\n",
       "<style scoped>\n",
       "    .dataframe tbody tr th:only-of-type {\n",
       "        vertical-align: middle;\n",
       "    }\n",
       "\n",
       "    .dataframe tbody tr th {\n",
       "        vertical-align: top;\n",
       "    }\n",
       "\n",
       "    .dataframe thead th {\n",
       "        text-align: right;\n",
       "    }\n",
       "</style>\n",
       "<table border=\"1\" class=\"dataframe\">\n",
       "  <thead>\n",
       "    <tr style=\"text-align: right;\">\n",
       "      <th></th>\n",
       "      <th>0</th>\n",
       "      <th>1</th>\n",
       "      <th>2</th>\n",
       "      <th>3</th>\n",
       "      <th>4</th>\n",
       "    </tr>\n",
       "  </thead>\n",
       "  <tbody>\n",
       "    <tr>\n",
       "      <th>MutatorClass</th>\n",
       "      <td>2</td>\n",
       "      <td>6</td>\n",
       "      <td>6</td>\n",
       "      <td>0</td>\n",
       "      <td>0</td>\n",
       "    </tr>\n",
       "    <tr>\n",
       "      <th>returnType</th>\n",
       "      <td>3</td>\n",
       "      <td>3</td>\n",
       "      <td>3</td>\n",
       "      <td>3</td>\n",
       "      <td>3</td>\n",
       "    </tr>\n",
       "    <tr>\n",
       "      <th>numExecuted</th>\n",
       "      <td>14</td>\n",
       "      <td>14</td>\n",
       "      <td>14</td>\n",
       "      <td>14</td>\n",
       "      <td>14</td>\n",
       "    </tr>\n",
       "    <tr>\n",
       "      <th>numTestCover</th>\n",
       "      <td>1</td>\n",
       "      <td>1</td>\n",
       "      <td>1</td>\n",
       "      <td>1</td>\n",
       "      <td>1</td>\n",
       "    </tr>\n",
       "    <tr>\n",
       "      <th>numAssertInTM</th>\n",
       "      <td>7</td>\n",
       "      <td>7</td>\n",
       "      <td>7</td>\n",
       "      <td>7</td>\n",
       "      <td>7</td>\n",
       "    </tr>\n",
       "    <tr>\n",
       "      <th>numAssertInTC</th>\n",
       "      <td>14</td>\n",
       "      <td>14</td>\n",
       "      <td>14</td>\n",
       "      <td>14</td>\n",
       "      <td>14</td>\n",
       "    </tr>\n",
       "    <tr>\n",
       "      <th>ppnumberOfClasses</th>\n",
       "      <td>5</td>\n",
       "      <td>5</td>\n",
       "      <td>5</td>\n",
       "      <td>5</td>\n",
       "      <td>5</td>\n",
       "    </tr>\n",
       "    <tr>\n",
       "      <th>ppnumberOfStatements</th>\n",
       "      <td>232</td>\n",
       "      <td>232</td>\n",
       "      <td>232</td>\n",
       "      <td>232</td>\n",
       "      <td>232</td>\n",
       "    </tr>\n",
       "    <tr>\n",
       "      <th>ppavcc</th>\n",
       "      <td>2.125</td>\n",
       "      <td>2.125</td>\n",
       "      <td>2.125</td>\n",
       "      <td>2.125</td>\n",
       "      <td>2.125</td>\n",
       "    </tr>\n",
       "    <tr>\n",
       "      <th>pphalsteadCumulativeBugs</th>\n",
       "      <td>2.63609</td>\n",
       "      <td>2.63609</td>\n",
       "      <td>2.63609</td>\n",
       "      <td>2.63609</td>\n",
       "      <td>2.63609</td>\n",
       "    </tr>\n",
       "    <tr>\n",
       "      <th>pphalsteadEffort</th>\n",
       "      <td>136211</td>\n",
       "      <td>136211</td>\n",
       "      <td>136211</td>\n",
       "      <td>136211</td>\n",
       "      <td>136211</td>\n",
       "    </tr>\n",
       "    <tr>\n",
       "      <th>pphalsteadCumulativeLength</th>\n",
       "      <td>1632</td>\n",
       "      <td>1632</td>\n",
       "      <td>1632</td>\n",
       "      <td>1632</td>\n",
       "      <td>1632</td>\n",
       "    </tr>\n",
       "    <tr>\n",
       "      <th>pphalsteadCumulativeVolume</th>\n",
       "      <td>7908.27</td>\n",
       "      <td>7908.27</td>\n",
       "      <td>7908.27</td>\n",
       "      <td>7908.27</td>\n",
       "      <td>7908.27</td>\n",
       "    </tr>\n",
       "    <tr>\n",
       "      <th>ppmaintainabilityIndex</th>\n",
       "      <td>97.3608</td>\n",
       "      <td>97.3608</td>\n",
       "      <td>97.3608</td>\n",
       "      <td>97.3608</td>\n",
       "      <td>97.3608</td>\n",
       "    </tr>\n",
       "    <tr>\n",
       "      <th>ppcumulativeNumberOfCommentLines</th>\n",
       "      <td>69</td>\n",
       "      <td>69</td>\n",
       "      <td>69</td>\n",
       "      <td>69</td>\n",
       "      <td>69</td>\n",
       "    </tr>\n",
       "    <tr>\n",
       "      <th>pploc</th>\n",
       "      <td>262</td>\n",
       "      <td>262</td>\n",
       "      <td>262</td>\n",
       "      <td>262</td>\n",
       "      <td>262</td>\n",
       "    </tr>\n",
       "    <tr>\n",
       "      <th>ppRVF</th>\n",
       "      <td>13</td>\n",
       "      <td>13</td>\n",
       "      <td>13</td>\n",
       "      <td>13</td>\n",
       "      <td>13</td>\n",
       "    </tr>\n",
       "    <tr>\n",
       "      <th>pptcc</th>\n",
       "      <td>34</td>\n",
       "      <td>34</td>\n",
       "      <td>34</td>\n",
       "      <td>34</td>\n",
       "      <td>34</td>\n",
       "    </tr>\n",
       "    <tr>\n",
       "      <th>ppcumulativeNumberOfComments</th>\n",
       "      <td>16</td>\n",
       "      <td>16</td>\n",
       "      <td>16</td>\n",
       "      <td>16</td>\n",
       "      <td>16</td>\n",
       "    </tr>\n",
       "    <tr>\n",
       "      <th>ppinstability</th>\n",
       "      <td>0.666667</td>\n",
       "      <td>0.666667</td>\n",
       "      <td>0.666667</td>\n",
       "      <td>0.666667</td>\n",
       "      <td>0.666667</td>\n",
       "    </tr>\n",
       "    <tr>\n",
       "      <th>ppdistance</th>\n",
       "      <td>0.333333</td>\n",
       "      <td>0.333333</td>\n",
       "      <td>0.333333</td>\n",
       "      <td>0.333333</td>\n",
       "      <td>0.333333</td>\n",
       "    </tr>\n",
       "    <tr>\n",
       "      <th>ppfanin</th>\n",
       "      <td>1</td>\n",
       "      <td>1</td>\n",
       "      <td>1</td>\n",
       "      <td>1</td>\n",
       "      <td>1</td>\n",
       "    </tr>\n",
       "    <tr>\n",
       "      <th>ppnumberOfMethods</th>\n",
       "      <td>16</td>\n",
       "      <td>16</td>\n",
       "      <td>16</td>\n",
       "      <td>16</td>\n",
       "      <td>16</td>\n",
       "    </tr>\n",
       "    <tr>\n",
       "      <th>ppmaintainabilityIndexNC</th>\n",
       "      <td>97.1251</td>\n",
       "      <td>97.1251</td>\n",
       "      <td>97.1251</td>\n",
       "      <td>97.1251</td>\n",
       "      <td>97.1251</td>\n",
       "    </tr>\n",
       "    <tr>\n",
       "      <th>ppabstractness</th>\n",
       "      <td>0</td>\n",
       "      <td>0</td>\n",
       "      <td>0</td>\n",
       "      <td>0</td>\n",
       "      <td>0</td>\n",
       "    </tr>\n",
       "    <tr>\n",
       "      <th>ppmaxcc</th>\n",
       "      <td>5</td>\n",
       "      <td>5</td>\n",
       "      <td>5</td>\n",
       "      <td>5</td>\n",
       "      <td>5</td>\n",
       "    </tr>\n",
       "    <tr>\n",
       "      <th>ppfanout</th>\n",
       "      <td>2</td>\n",
       "      <td>2</td>\n",
       "      <td>2</td>\n",
       "      <td>2</td>\n",
       "      <td>2</td>\n",
       "    </tr>\n",
       "    <tr>\n",
       "      <th>ccnumberOfMethods</th>\n",
       "      <td>4</td>\n",
       "      <td>4</td>\n",
       "      <td>4</td>\n",
       "      <td>4</td>\n",
       "      <td>4</td>\n",
       "    </tr>\n",
       "    <tr>\n",
       "      <th>cclcom</th>\n",
       "      <td>0</td>\n",
       "      <td>0</td>\n",
       "      <td>0</td>\n",
       "      <td>0</td>\n",
       "      <td>0</td>\n",
       "    </tr>\n",
       "    <tr>\n",
       "      <th>ccavcc</th>\n",
       "      <td>3</td>\n",
       "      <td>3</td>\n",
       "      <td>3</td>\n",
       "      <td>3</td>\n",
       "      <td>3</td>\n",
       "    </tr>\n",
       "    <tr>\n",
       "      <th>ccnumberOfStatements</th>\n",
       "      <td>49</td>\n",
       "      <td>49</td>\n",
       "      <td>49</td>\n",
       "      <td>49</td>\n",
       "      <td>49</td>\n",
       "    </tr>\n",
       "    <tr>\n",
       "      <th>cchalsteadCumulativeBugs</th>\n",
       "      <td>0.593518</td>\n",
       "      <td>0.593518</td>\n",
       "      <td>0.593518</td>\n",
       "      <td>0.593518</td>\n",
       "      <td>0.593518</td>\n",
       "    </tr>\n",
       "    <tr>\n",
       "      <th>cchalsteadEffort</th>\n",
       "      <td>32644</td>\n",
       "      <td>32644</td>\n",
       "      <td>32644</td>\n",
       "      <td>32644</td>\n",
       "      <td>32644</td>\n",
       "    </tr>\n",
       "    <tr>\n",
       "      <th>ccunweightedClassSize</th>\n",
       "      <td>4</td>\n",
       "      <td>4</td>\n",
       "      <td>4</td>\n",
       "      <td>4</td>\n",
       "      <td>4</td>\n",
       "    </tr>\n",
       "    <tr>\n",
       "      <th>ccinstanceVariables</th>\n",
       "      <td>0</td>\n",
       "      <td>0</td>\n",
       "      <td>0</td>\n",
       "      <td>0</td>\n",
       "      <td>0</td>\n",
       "    </tr>\n",
       "    <tr>\n",
       "      <th>ccimportedPackages</th>\n",
       "      <td>3</td>\n",
       "      <td>3</td>\n",
       "      <td>3</td>\n",
       "      <td>3</td>\n",
       "      <td>3</td>\n",
       "    </tr>\n",
       "    <tr>\n",
       "      <th>ccresponseForClass</th>\n",
       "      <td>4</td>\n",
       "      <td>4</td>\n",
       "      <td>4</td>\n",
       "      <td>4</td>\n",
       "      <td>4</td>\n",
       "    </tr>\n",
       "    <tr>\n",
       "      <th>cccbo</th>\n",
       "      <td>4</td>\n",
       "      <td>4</td>\n",
       "      <td>4</td>\n",
       "      <td>4</td>\n",
       "      <td>4</td>\n",
       "    </tr>\n",
       "    <tr>\n",
       "      <th>ccmaintainabilityIndex</th>\n",
       "      <td>67.4658</td>\n",
       "      <td>67.4658</td>\n",
       "      <td>67.4658</td>\n",
       "      <td>67.4658</td>\n",
       "      <td>67.4658</td>\n",
       "    </tr>\n",
       "    <tr>\n",
       "      <th>cccumulativeNumberOfCommentLines</th>\n",
       "      <td>26</td>\n",
       "      <td>26</td>\n",
       "      <td>26</td>\n",
       "      <td>26</td>\n",
       "      <td>26</td>\n",
       "    </tr>\n",
       "  </tbody>\n",
       "</table>\n",
       "</div>"
      ],
      "text/plain": [
       "                                         0         1         2         3  \\\n",
       "MutatorClass                             2         6         6         0   \n",
       "returnType                               3         3         3         3   \n",
       "numExecuted                             14        14        14        14   \n",
       "numTestCover                             1         1         1         1   \n",
       "numAssertInTM                            7         7         7         7   \n",
       "numAssertInTC                           14        14        14        14   \n",
       "ppnumberOfClasses                        5         5         5         5   \n",
       "ppnumberOfStatements                   232       232       232       232   \n",
       "ppavcc                               2.125     2.125     2.125     2.125   \n",
       "pphalsteadCumulativeBugs           2.63609   2.63609   2.63609   2.63609   \n",
       "pphalsteadEffort                    136211    136211    136211    136211   \n",
       "pphalsteadCumulativeLength            1632      1632      1632      1632   \n",
       "pphalsteadCumulativeVolume         7908.27   7908.27   7908.27   7908.27   \n",
       "ppmaintainabilityIndex             97.3608   97.3608   97.3608   97.3608   \n",
       "ppcumulativeNumberOfCommentLines        69        69        69        69   \n",
       "pploc                                  262       262       262       262   \n",
       "ppRVF                                   13        13        13        13   \n",
       "pptcc                                   34        34        34        34   \n",
       "ppcumulativeNumberOfComments            16        16        16        16   \n",
       "ppinstability                     0.666667  0.666667  0.666667  0.666667   \n",
       "ppdistance                        0.333333  0.333333  0.333333  0.333333   \n",
       "ppfanin                                  1         1         1         1   \n",
       "ppnumberOfMethods                       16        16        16        16   \n",
       "ppmaintainabilityIndexNC           97.1251   97.1251   97.1251   97.1251   \n",
       "ppabstractness                           0         0         0         0   \n",
       "ppmaxcc                                  5         5         5         5   \n",
       "ppfanout                                 2         2         2         2   \n",
       "ccnumberOfMethods                        4         4         4         4   \n",
       "cclcom                                   0         0         0         0   \n",
       "ccavcc                                   3         3         3         3   \n",
       "ccnumberOfStatements                    49        49        49        49   \n",
       "cchalsteadCumulativeBugs          0.593518  0.593518  0.593518  0.593518   \n",
       "cchalsteadEffort                     32644     32644     32644     32644   \n",
       "ccunweightedClassSize                    4         4         4         4   \n",
       "ccinstanceVariables                      0         0         0         0   \n",
       "ccimportedPackages                       3         3         3         3   \n",
       "ccresponseForClass                       4         4         4         4   \n",
       "cccbo                                    4         4         4         4   \n",
       "ccmaintainabilityIndex             67.4658   67.4658   67.4658   67.4658   \n",
       "cccumulativeNumberOfCommentLines        26        26        26        26   \n",
       "\n",
       "                                         4  \n",
       "MutatorClass                             0  \n",
       "returnType                               3  \n",
       "numExecuted                             14  \n",
       "numTestCover                             1  \n",
       "numAssertInTM                            7  \n",
       "numAssertInTC                           14  \n",
       "ppnumberOfClasses                        5  \n",
       "ppnumberOfStatements                   232  \n",
       "ppavcc                               2.125  \n",
       "pphalsteadCumulativeBugs           2.63609  \n",
       "pphalsteadEffort                    136211  \n",
       "pphalsteadCumulativeLength            1632  \n",
       "pphalsteadCumulativeVolume         7908.27  \n",
       "ppmaintainabilityIndex             97.3608  \n",
       "ppcumulativeNumberOfCommentLines        69  \n",
       "pploc                                  262  \n",
       "ppRVF                                   13  \n",
       "pptcc                                   34  \n",
       "ppcumulativeNumberOfComments            16  \n",
       "ppinstability                     0.666667  \n",
       "ppdistance                        0.333333  \n",
       "ppfanin                                  1  \n",
       "ppnumberOfMethods                       16  \n",
       "ppmaintainabilityIndexNC           97.1251  \n",
       "ppabstractness                           0  \n",
       "ppmaxcc                                  5  \n",
       "ppfanout                                 2  \n",
       "ccnumberOfMethods                        4  \n",
       "cclcom                                   0  \n",
       "ccavcc                                   3  \n",
       "ccnumberOfStatements                    49  \n",
       "cchalsteadCumulativeBugs          0.593518  \n",
       "cchalsteadEffort                     32644  \n",
       "ccunweightedClassSize                    4  \n",
       "ccinstanceVariables                      0  \n",
       "ccimportedPackages                       3  \n",
       "ccresponseForClass                       4  \n",
       "cccbo                                    4  \n",
       "ccmaintainabilityIndex             67.4658  \n",
       "cccumulativeNumberOfCommentLines        26  "
      ]
     },
     "execution_count": 20,
     "metadata": {},
     "output_type": "execute_result"
    }
   ],
   "source": [
    "all_df.head().T.head(40)"
   ]
  },
  {
   "cell_type": "code",
   "execution_count": 21,
   "metadata": {},
   "outputs": [],
   "source": [
    "all_df = all_df[list(names) + ['Detected']]\n",
    "test_data = test_data[list(names) + ['Detected']]"
   ]
  },
  {
   "cell_type": "code",
   "execution_count": 22,
   "metadata": {},
   "outputs": [],
   "source": [
    "procs = [Categorify, Normalize]"
   ]
  },
  {
   "cell_type": "code",
   "execution_count": 23,
   "metadata": {},
   "outputs": [],
   "source": [
    "valid_idx = range(len(all_df) - len(valid_data)//10, len(all_df))"
   ]
  },
  {
   "cell_type": "code",
   "execution_count": 24,
   "metadata": {},
   "outputs": [],
   "source": [
    "dep_var = 'Detected'\n",
    "cat_names = ['MutatorClass', 'returnType']"
   ]
  },
  {
   "cell_type": "code",
   "execution_count": 25,
   "metadata": {},
   "outputs": [],
   "source": [
    "data = TabularDataBunch.from_df(dPath, all_df, dep_var, valid_idx=valid_idx, procs=procs, cat_names=cat_names,test_df=test_data)"
   ]
  },
  {
   "cell_type": "code",
   "execution_count": 26,
   "metadata": {},
   "outputs": [],
   "source": [
    "learn = tabular_learner(data, layers=[200,100], emb_szs={'MutatorClass': 8, 'returnType': 10}, metrics=[accuracy,Precision(),Recall(),MatthewsCorreff(),AUROC(), FBeta(beta=1)])"
   ]
  },
  {
   "cell_type": "code",
   "execution_count": 27,
   "metadata": {},
   "outputs": [
    {
     "data": {
      "text/plain": [
       "TabularModel\n",
       "======================================================================\n",
       "Layer (type)         Output Shape         Param #    Trainable \n",
       "======================================================================\n",
       "Embedding            [8]                  144        True      \n",
       "______________________________________________________________________\n",
       "Embedding            [10]                 220        True      \n",
       "______________________________________________________________________\n",
       "Dropout              [18]                 0          False     \n",
       "______________________________________________________________________\n",
       "BatchNorm1d          [36]                 72         True      \n",
       "______________________________________________________________________\n",
       "Linear               [200]                11,000     True      \n",
       "______________________________________________________________________\n",
       "ReLU                 [200]                0          False     \n",
       "______________________________________________________________________\n",
       "BatchNorm1d          [200]                400        True      \n",
       "______________________________________________________________________\n",
       "Linear               [100]                20,100     True      \n",
       "______________________________________________________________________\n",
       "ReLU                 [100]                0          False     \n",
       "______________________________________________________________________\n",
       "BatchNorm1d          [100]                200        True      \n",
       "______________________________________________________________________\n",
       "Linear               [2]                  202        True      \n",
       "______________________________________________________________________\n",
       "\n",
       "Total params: 32,338\n",
       "Total trainable params: 32,338\n",
       "Total non-trainable params: 0\n",
       "Optimized with 'torch.optim.adam.Adam', betas=(0.9, 0.99)\n",
       "Using true weight decay as discussed in https://www.fast.ai/2018/07/02/adam-weight-decay/ \n",
       "Loss function : FlattenedLoss\n",
       "======================================================================\n",
       "Callbacks functions applied "
      ]
     },
     "execution_count": 27,
     "metadata": {},
     "output_type": "execute_result"
    }
   ],
   "source": [
    "learn.summary()"
   ]
  },
  {
   "cell_type": "code",
   "execution_count": 28,
   "metadata": {},
   "outputs": [
    {
     "data": {
      "text/html": [
       "\n",
       "    <div>\n",
       "        <style>\n",
       "            /* Turns off some styling */\n",
       "            progress {\n",
       "                /* gets rid of default border in Firefox and Opera. */\n",
       "                border: none;\n",
       "                /* Needs to be in here for Safari polyfill so background images work as expected. */\n",
       "                background-size: auto;\n",
       "            }\n",
       "            .progress-bar-interrupted, .progress-bar-interrupted::-webkit-progress-bar {\n",
       "                background: #F44336;\n",
       "            }\n",
       "        </style>\n",
       "      <progress value='0' class='' max='1' style='width:300px; height:20px; vertical-align: middle;'></progress>\n",
       "      0.00% [0/1 00:00<00:00]\n",
       "    </div>\n",
       "    \n",
       "<table border=\"1\" class=\"dataframe\">\n",
       "  <thead>\n",
       "    <tr style=\"text-align: left;\">\n",
       "      <th>epoch</th>\n",
       "      <th>train_loss</th>\n",
       "      <th>valid_loss</th>\n",
       "      <th>accuracy</th>\n",
       "      <th>precision</th>\n",
       "      <th>recall</th>\n",
       "      <th>matthews_correff</th>\n",
       "      <th>auroc</th>\n",
       "      <th>f_beta</th>\n",
       "      <th>time</th>\n",
       "    </tr>\n",
       "  </thead>\n",
       "  <tbody>\n",
       "  </tbody>\n",
       "</table><p>\n",
       "\n",
       "    <div>\n",
       "        <style>\n",
       "            /* Turns off some styling */\n",
       "            progress {\n",
       "                /* gets rid of default border in Firefox and Opera. */\n",
       "                border: none;\n",
       "                /* Needs to be in here for Safari polyfill so background images work as expected. */\n",
       "                background-size: auto;\n",
       "            }\n",
       "            .progress-bar-interrupted, .progress-bar-interrupted::-webkit-progress-bar {\n",
       "                background: #F44336;\n",
       "            }\n",
       "        </style>\n",
       "      <progress value='93' class='' max='22995' style='width:300px; height:20px; vertical-align: middle;'></progress>\n",
       "      0.40% [93/22995 01:14<5:05:29 2.4487]\n",
       "    </div>\n",
       "    "
      ],
      "text/plain": [
       "<IPython.core.display.HTML object>"
      ]
     },
     "metadata": {},
     "output_type": "display_data"
    },
    {
     "name": "stdout",
     "output_type": "stream",
     "text": [
      "LR Finder is complete, type {learner_name}.recorder.plot() to see the graph.\n"
     ]
    }
   ],
   "source": [
    "learn.lr_find()"
   ]
  },
  {
   "cell_type": "code",
   "execution_count": 29,
   "metadata": {},
   "outputs": [
    {
     "name": "stdout",
     "output_type": "stream",
     "text": [
      "Min numerical gradient: 9.12E-03\n",
      "Min loss divided by 10: 4.79E-03\n"
     ]
    },
    {
     "data": {
      "image/png": "[encoded data removed]",
      "text/plain": [
       "<Figure size 432x288 with 1 Axes>"
      ]
     },
     "metadata": {
      "needs_background": "light"
     },
     "output_type": "display_data"
    }
   ],
   "source": [
    "learn.recorder.plot(suggestion=True)"
   ]
  },
  {
   "cell_type": "code",
   "execution_count": null,
   "metadata": {},
   "outputs": [],
   "source": [
    "learn.fit_one_cycle?"
   ]
  },
  {
   "cell_type": "code",
   "execution_count": 30,
   "metadata": {},
   "outputs": [
    {
     "data": {
      "text/html": [
       "<table border=\"1\" class=\"dataframe\">\n",
       "  <thead>\n",
       "    <tr style=\"text-align: left;\">\n",
       "      <th>epoch</th>\n",
       "      <th>train_loss</th>\n",
       "      <th>valid_loss</th>\n",
       "      <th>accuracy</th>\n",
       "      <th>precision</th>\n",
       "      <th>recall</th>\n",
       "      <th>matthews_correff</th>\n",
       "      <th>auroc</th>\n",
       "      <th>f_beta</th>\n",
       "      <th>time</th>\n",
       "    </tr>\n",
       "  </thead>\n",
       "  <tbody>\n",
       "    <tr>\n",
       "      <td>0</td>\n",
       "      <td>0.590990</td>\n",
       "      <td>0.539893</td>\n",
       "      <td>0.760261</td>\n",
       "      <td>0.809381</td>\n",
       "      <td>0.910610</td>\n",
       "      <td>0.140390</td>\n",
       "      <td>0.626575</td>\n",
       "      <td>0.857017</td>\n",
       "      <td>08:27</td>\n",
       "    </tr>\n",
       "    <tr>\n",
       "      <td>1</td>\n",
       "      <td>0.538770</td>\n",
       "      <td>0.519702</td>\n",
       "      <td>0.765447</td>\n",
       "      <td>0.837970</td>\n",
       "      <td>0.871174</td>\n",
       "      <td>0.256371</td>\n",
       "      <td>0.705341</td>\n",
       "      <td>0.854249</td>\n",
       "      <td>08:38</td>\n",
       "    </tr>\n",
       "  </tbody>\n",
       "</table>"
      ],
      "text/plain": [
       "<IPython.core.display.HTML object>"
      ]
     },
     "metadata": {},
     "output_type": "display_data"
    }
   ],
   "source": [
    "learn.fit_one_cycle(2, max_lr = 6.31E-02)"
   ]
  },
  {
   "cell_type": "code",
   "execution_count": 31,
   "metadata": {},
   "outputs": [
    {
     "data": {
      "text/html": [
       "<table border=\"1\" class=\"dataframe\">\n",
       "  <thead>\n",
       "    <tr style=\"text-align: right;\">\n",
       "      <th>MutatorClass</th>\n",
       "      <th>returnType</th>\n",
       "      <th>cchalsteadCumulativeBugs</th>\n",
       "      <th>ppnumberOfMethods</th>\n",
       "      <th>ccfanIn</th>\n",
       "      <th>mmhalsteadVocabulary</th>\n",
       "      <th>pptcc</th>\n",
       "      <th>ppmaintainabilityIndexNC</th>\n",
       "      <th>mminstanceVariablesReferenced</th>\n",
       "      <th>ppdistance</th>\n",
       "      <th>numAssertInTM</th>\n",
       "      <th>ppnumberOfClasses</th>\n",
       "      <th>ppmaxcc</th>\n",
       "      <th>ccmaintainabilityIndexNC</th>\n",
       "      <th>cchalsteadEffort</th>\n",
       "      <th>ppinstability</th>\n",
       "      <th>numAssertInTC</th>\n",
       "      <th>ppavcc</th>\n",
       "      <th>pploc</th>\n",
       "      <th>mmnumberOfExpressions</th>\n",
       "      <th>mmhalsteadDifficulty</th>\n",
       "      <th>ccmaintainabilityIndex</th>\n",
       "      <th>ppnumberOfStatements</th>\n",
       "      <th>ppRVF</th>\n",
       "      <th>numTestCover</th>\n",
       "      <th>ccimportedPackages</th>\n",
       "      <th>ppmaintainabilityIndex</th>\n",
       "      <th>ppabstractness</th>\n",
       "      <th>ccunweightedClassSize</th>\n",
       "      <th>ccnumberOfStatements</th>\n",
       "      <th>ccexternalMethodCalls</th>\n",
       "      <th>ppfanout</th>\n",
       "      <th>ppfanin</th>\n",
       "      <th>mmvariablesReferenced</th>\n",
       "      <th>mmhalsteadEffort</th>\n",
       "      <th>mmexternalMethodsCalled</th>\n",
       "      <th>cchalsteadCumulativeVolume</th>\n",
       "      <th>numExecuted</th>\n",
       "      <th>target</th>\n",
       "      <th>prediction</th>\n",
       "    </tr>\n",
       "  </thead>\n",
       "  <tbody>\n",
       "    <tr>\n",
       "      <td>2</td>\n",
       "      <td>3.0</td>\n",
       "      <td>-0.4273</td>\n",
       "      <td>-0.5192</td>\n",
       "      <td>-0.2551</td>\n",
       "      <td>-0.4843</td>\n",
       "      <td>-0.5200</td>\n",
       "      <td>-0.4263</td>\n",
       "      <td>-0.2189</td>\n",
       "      <td>-0.4057</td>\n",
       "      <td>-0.0541</td>\n",
       "      <td>-0.4961</td>\n",
       "      <td>-0.5490</td>\n",
       "      <td>-0.1170</td>\n",
       "      <td>-0.1720</td>\n",
       "      <td>1.0291</td>\n",
       "      <td>-0.0626</td>\n",
       "      <td>-0.1324</td>\n",
       "      <td>-0.5073</td>\n",
       "      <td>-0.2381</td>\n",
       "      <td>-0.2790</td>\n",
       "      <td>-0.8695</td>\n",
       "      <td>-0.5083</td>\n",
       "      <td>-0.6446</td>\n",
       "      <td>-0.2214</td>\n",
       "      <td>-0.6517</td>\n",
       "      <td>-0.1711</td>\n",
       "      <td>-0.8741</td>\n",
       "      <td>-0.5280</td>\n",
       "      <td>-0.4702</td>\n",
       "      <td>-0.5987</td>\n",
       "      <td>-0.6323</td>\n",
       "      <td>-0.5130</td>\n",
       "      <td>-0.4326</td>\n",
       "      <td>-0.1585</td>\n",
       "      <td>-0.2860</td>\n",
       "      <td>-0.4273</td>\n",
       "      <td>-0.0342</td>\n",
       "      <td>True</td>\n",
       "      <td>True</td>\n",
       "    </tr>\n",
       "    <tr>\n",
       "      <td>6</td>\n",
       "      <td>3.0</td>\n",
       "      <td>-0.4273</td>\n",
       "      <td>-0.5192</td>\n",
       "      <td>-0.2551</td>\n",
       "      <td>-0.4843</td>\n",
       "      <td>-0.5200</td>\n",
       "      <td>-0.4263</td>\n",
       "      <td>-0.2189</td>\n",
       "      <td>-0.4057</td>\n",
       "      <td>-0.0541</td>\n",
       "      <td>-0.4961</td>\n",
       "      <td>-0.5490</td>\n",
       "      <td>-0.1170</td>\n",
       "      <td>-0.1720</td>\n",
       "      <td>1.0291</td>\n",
       "      <td>-0.0626</td>\n",
       "      <td>-0.1324</td>\n",
       "      <td>-0.5073</td>\n",
       "      <td>-0.2381</td>\n",
       "      <td>-0.2790</td>\n",
       "      <td>-0.8695</td>\n",
       "      <td>-0.5083</td>\n",
       "      <td>-0.6446</td>\n",
       "      <td>-0.2214</td>\n",
       "      <td>-0.6517</td>\n",
       "      <td>-0.1711</td>\n",
       "      <td>-0.8741</td>\n",
       "      <td>-0.5280</td>\n",
       "      <td>-0.4702</td>\n",
       "      <td>-0.5987</td>\n",
       "      <td>-0.6323</td>\n",
       "      <td>-0.5130</td>\n",
       "      <td>-0.4326</td>\n",
       "      <td>-0.1585</td>\n",
       "      <td>-0.2860</td>\n",
       "      <td>-0.4273</td>\n",
       "      <td>-0.0342</td>\n",
       "      <td>True</td>\n",
       "      <td>True</td>\n",
       "    </tr>\n",
       "    <tr>\n",
       "      <td>6</td>\n",
       "      <td>3.0</td>\n",
       "      <td>-0.4273</td>\n",
       "      <td>-0.5192</td>\n",
       "      <td>-0.2551</td>\n",
       "      <td>-0.4843</td>\n",
       "      <td>-0.5200</td>\n",
       "      <td>-0.4263</td>\n",
       "      <td>-0.2189</td>\n",
       "      <td>-0.4057</td>\n",
       "      <td>-0.0541</td>\n",
       "      <td>-0.4961</td>\n",
       "      <td>-0.5490</td>\n",
       "      <td>-0.1170</td>\n",
       "      <td>-0.1720</td>\n",
       "      <td>1.0291</td>\n",
       "      <td>-0.0626</td>\n",
       "      <td>-0.1324</td>\n",
       "      <td>-0.5073</td>\n",
       "      <td>-0.2381</td>\n",
       "      <td>-0.2790</td>\n",
       "      <td>-0.8695</td>\n",
       "      <td>-0.5083</td>\n",
       "      <td>-0.6446</td>\n",
       "      <td>-0.2214</td>\n",
       "      <td>-0.6517</td>\n",
       "      <td>-0.1711</td>\n",
       "      <td>-0.8741</td>\n",
       "      <td>-0.5280</td>\n",
       "      <td>-0.4702</td>\n",
       "      <td>-0.5987</td>\n",
       "      <td>-0.6323</td>\n",
       "      <td>-0.5130</td>\n",
       "      <td>-0.4326</td>\n",
       "      <td>-0.1585</td>\n",
       "      <td>-0.2860</td>\n",
       "      <td>-0.4273</td>\n",
       "      <td>-0.0342</td>\n",
       "      <td>True</td>\n",
       "      <td>True</td>\n",
       "    </tr>\n",
       "    <tr>\n",
       "      <td>0</td>\n",
       "      <td>3.0</td>\n",
       "      <td>-0.4273</td>\n",
       "      <td>-0.5192</td>\n",
       "      <td>-0.2551</td>\n",
       "      <td>-0.4843</td>\n",
       "      <td>-0.5200</td>\n",
       "      <td>-0.4263</td>\n",
       "      <td>-0.2189</td>\n",
       "      <td>-0.4057</td>\n",
       "      <td>-0.0541</td>\n",
       "      <td>-0.4961</td>\n",
       "      <td>-0.5490</td>\n",
       "      <td>-0.1170</td>\n",
       "      <td>-0.1720</td>\n",
       "      <td>1.0291</td>\n",
       "      <td>-0.0626</td>\n",
       "      <td>-0.1324</td>\n",
       "      <td>-0.5073</td>\n",
       "      <td>-0.2381</td>\n",
       "      <td>-0.2790</td>\n",
       "      <td>-0.8695</td>\n",
       "      <td>-0.5083</td>\n",
       "      <td>-0.6446</td>\n",
       "      <td>-0.2214</td>\n",
       "      <td>-0.6517</td>\n",
       "      <td>-0.1711</td>\n",
       "      <td>-0.8741</td>\n",
       "      <td>-0.5280</td>\n",
       "      <td>-0.4702</td>\n",
       "      <td>-0.5987</td>\n",
       "      <td>-0.6323</td>\n",
       "      <td>-0.5130</td>\n",
       "      <td>-0.4326</td>\n",
       "      <td>-0.1585</td>\n",
       "      <td>-0.2860</td>\n",
       "      <td>-0.4273</td>\n",
       "      <td>-0.0342</td>\n",
       "      <td>True</td>\n",
       "      <td>True</td>\n",
       "    </tr>\n",
       "    <tr>\n",
       "      <td>0</td>\n",
       "      <td>3.0</td>\n",
       "      <td>-0.4273</td>\n",
       "      <td>-0.5192</td>\n",
       "      <td>-0.2551</td>\n",
       "      <td>-0.4843</td>\n",
       "      <td>-0.5200</td>\n",
       "      <td>-0.4263</td>\n",
       "      <td>-0.2189</td>\n",
       "      <td>-0.4057</td>\n",
       "      <td>-0.0541</td>\n",
       "      <td>-0.4961</td>\n",
       "      <td>-0.5490</td>\n",
       "      <td>-0.1170</td>\n",
       "      <td>-0.1720</td>\n",
       "      <td>1.0291</td>\n",
       "      <td>-0.0626</td>\n",
       "      <td>-0.1324</td>\n",
       "      <td>-0.5073</td>\n",
       "      <td>-0.2381</td>\n",
       "      <td>-0.2790</td>\n",
       "      <td>-0.8695</td>\n",
       "      <td>-0.5083</td>\n",
       "      <td>-0.6446</td>\n",
       "      <td>-0.2214</td>\n",
       "      <td>-0.6517</td>\n",
       "      <td>-0.1711</td>\n",
       "      <td>-0.8741</td>\n",
       "      <td>-0.5280</td>\n",
       "      <td>-0.4702</td>\n",
       "      <td>-0.5987</td>\n",
       "      <td>-0.6323</td>\n",
       "      <td>-0.5130</td>\n",
       "      <td>-0.4326</td>\n",
       "      <td>-0.1585</td>\n",
       "      <td>-0.2860</td>\n",
       "      <td>-0.4273</td>\n",
       "      <td>-0.0342</td>\n",
       "      <td>True</td>\n",
       "      <td>True</td>\n",
       "    </tr>\n",
       "  </tbody>\n",
       "</table>"
      ],
      "text/plain": [
       "<IPython.core.display.HTML object>"
      ]
     },
     "metadata": {},
     "output_type": "display_data"
    }
   ],
   "source": [
    "learn.show_results(5)"
   ]
  },
  {
   "cell_type": "code",
   "execution_count": 32,
   "metadata": {},
   "outputs": [
    {
     "data": {
      "text/html": [],
      "text/plain": [
       "<IPython.core.display.HTML object>"
      ]
     },
     "metadata": {},
     "output_type": "display_data"
    }
   ],
   "source": [
    "interp = ClassificationInterpretation.from_learner(learn)"
   ]
  },
  {
   "cell_type": "code",
   "execution_count": 33,
   "metadata": {},
   "outputs": [
    {
     "data": {
      "text/plain": [
       "array([[ 527,  897],\n",
       "       [ 686, 4639]], dtype=int64)"
      ]
     },
     "execution_count": 33,
     "metadata": {},
     "output_type": "execute_result"
    }
   ],
   "source": [
    "interp.confusion_matrix()"
   ]
  },
  {
   "cell_type": "code",
   "execution_count": 34,
   "metadata": {},
   "outputs": [
    {
     "data": {
      "text/plain": [
       "[(False, True, 897), (True, False, 686)]"
      ]
     },
     "execution_count": 34,
     "metadata": {},
     "output_type": "execute_result"
    }
   ],
   "source": [
    "interp.most_confused()"
   ]
  },
  {
   "cell_type": "code",
   "execution_count": 35,
   "metadata": {},
   "outputs": [
    {
     "data": {
      "image/png": "[encoded data removed]",
      "text/plain": [
       "<Figure size 432x288 with 1 Axes>"
      ]
     },
     "metadata": {
      "needs_background": "light"
     },
     "output_type": "display_data"
    }
   ],
   "source": [
    "interp.plot_confusion_matrix(normalize=True)"
   ]
  },
  {
   "cell_type": "code",
   "execution_count": 36,
   "metadata": {},
   "outputs": [],
   "source": [
    "learn.save('fastai_exp_6')\n",
    "learn = learn.load('fastai_exp_6')"
   ]
  },
  {
   "cell_type": "code",
   "execution_count": 47,
   "metadata": {},
   "outputs": [],
   "source": [
    "learn.unfreeze()"
   ]
  },
  {
   "cell_type": "code",
   "execution_count": null,
   "metadata": {},
   "outputs": [],
   "source": [
    "learn.lr_find()"
   ]
  },
  {
   "cell_type": "code",
   "execution_count": null,
   "metadata": {},
   "outputs": [],
   "source": [
    "learn.recorder.plot(suggestion=True)"
   ]
  },
  {
   "cell_type": "code",
   "execution_count": 48,
   "metadata": {},
   "outputs": [
    {
     "data": {
      "text/html": [
       "<table border=\"1\" class=\"dataframe\">\n",
       "  <thead>\n",
       "    <tr style=\"text-align: left;\">\n",
       "      <th>epoch</th>\n",
       "      <th>train_loss</th>\n",
       "      <th>valid_loss</th>\n",
       "      <th>accuracy</th>\n",
       "      <th>precision</th>\n",
       "      <th>recall</th>\n",
       "      <th>matthews_correff</th>\n",
       "      <th>auroc</th>\n",
       "      <th>f_beta</th>\n",
       "      <th>time</th>\n",
       "    </tr>\n",
       "  </thead>\n",
       "  <tbody>\n",
       "    <tr>\n",
       "      <td>0</td>\n",
       "      <td>0.542132</td>\n",
       "      <td>0.540062</td>\n",
       "      <td>0.765150</td>\n",
       "      <td>0.832740</td>\n",
       "      <td>0.878873</td>\n",
       "      <td>0.239149</td>\n",
       "      <td>0.687699</td>\n",
       "      <td>0.855185</td>\n",
       "      <td>08:35</td>\n",
       "    </tr>\n",
       "  </tbody>\n",
       "</table>"
      ],
      "text/plain": [
       "<IPython.core.display.HTML object>"
      ]
     },
     "metadata": {},
     "output_type": "display_data"
    }
   ],
   "source": [
    "learn.fit_one_cycle(1, max_lr = 6.31E-02)"
   ]
  },
  {
   "cell_type": "code",
   "execution_count": 49,
   "metadata": {},
   "outputs": [
    {
     "data": {
      "text/html": [],
      "text/plain": [
       "<IPython.core.display.HTML object>"
      ]
     },
     "metadata": {},
     "output_type": "display_data"
    }
   ],
   "source": [
    "preds,_ = learn.get_preds(ds_type=DatasetType.Test)\n",
    "result = preds.numpy()[:, 0]"
   ]
  },
  {
   "cell_type": "code",
   "execution_count": 50,
   "metadata": {},
   "outputs": [
    {
     "data": {
      "text/plain": [
       "(58476,\n",
       " tensor([[0.5188, 0.4812],\n",
       "         [0.3528, 0.6472],\n",
       "         [0.2980, 0.7020],\n",
       "         ...,\n",
       "         [0.4887, 0.5113],\n",
       "         [0.3328, 0.6672],\n",
       "         [0.3644, 0.6356]]))"
      ]
     },
     "execution_count": 50,
     "metadata": {},
     "output_type": "execute_result"
    }
   ],
   "source": [
    "len(preds), preds"
   ]
  },
  {
   "cell_type": "code",
   "execution_count": 51,
   "metadata": {},
   "outputs": [
    {
     "data": {
      "text/plain": [
       "(array([  670,  7705, 15386, 16753, 17962, 17962, 16753, 15386,  7705,   670], dtype=int64),\n",
       " array([0.02131 , 0.117048, 0.212786, 0.308524, 0.404262, 0.5     , 0.595738, 0.691476, 0.787214, 0.882952, 0.97869 ],\n",
       "       dtype=float32))"
      ]
     },
     "execution_count": 51,
     "metadata": {},
     "output_type": "execute_result"
    }
   ],
   "source": [
    "np.histogram(preds)"
   ]
  },
  {
   "cell_type": "code",
   "execution_count": 52,
   "metadata": {},
   "outputs": [
    {
     "data": {
      "text/plain": [
       "0        False\n",
       "1         True\n",
       "2         True\n",
       "3         True\n",
       "4         True\n",
       "         ...  \n",
       "58471    False\n",
       "58472    False\n",
       "58473    False\n",
       "58474    False\n",
       "58475    False\n",
       "Name: Detected, Length: 58476, dtype: bool"
      ]
     },
     "execution_count": 52,
     "metadata": {},
     "output_type": "execute_result"
    }
   ],
   "source": [
    "test_data.Detected"
   ]
  },
  {
   "cell_type": "code",
   "execution_count": 53,
   "metadata": {},
   "outputs": [
    {
     "name": "stdout",
     "output_type": "stream",
     "text": [
      "0.6882382521154622\n"
     ]
    }
   ],
   "source": [
    "from sklearn.metrics import average_precision_score, precision_score, recall_score\n",
    "print(average_precision_score(test_data.Detected, preds[:,1] >= 0.5, average='micro'))"
   ]
  },
  {
   "cell_type": "code",
   "execution_count": 54,
   "metadata": {},
   "outputs": [
    {
     "data": {
      "text/plain": [
       "0.5834490657762645"
      ]
     },
     "execution_count": 54,
     "metadata": {},
     "output_type": "execute_result"
    }
   ],
   "source": [
    "from sklearn import metrics\n",
    "metrics.roc_auc_score(test_data.Detected, preds[:,1] >= 0.5)"
   ]
  },
  {
   "cell_type": "code",
   "execution_count": 56,
   "metadata": {},
   "outputs": [
    {
     "name": "stdout",
     "output_type": "stream",
     "text": [
      "              precision    recall  f1-score   support\n",
      "\n",
      "       False       0.51      0.35      0.42     20633\n",
      "        True       0.70      0.81      0.75     37843\n",
      "\n",
      "    accuracy                           0.65     58476\n",
      "   macro avg       0.60      0.58      0.58     58476\n",
      "weighted avg       0.63      0.65      0.63     58476\n",
      "\n"
     ]
    }
   ],
   "source": [
    "from sklearn.metrics import classification_report\n",
    "print(classification_report(test_data.Detected, preds[:,1] >= 0.5))"
   ]
  },
  {
   "cell_type": "code",
   "execution_count": 57,
   "metadata": {},
   "outputs": [],
   "source": [
    "with open(dPath / \"fastai_exp_6.pkl\", 'wb') as filename:\n",
    "    pickle.dump(preds,filename)"
   ]
  },
  {
   "cell_type": "code",
   "execution_count": null,
   "metadata": {},
   "outputs": [],
   "source": [
    "np.histogram(preds[:,1])"
   ]
  },
  {
   "cell_type": "code",
   "execution_count": null,
   "metadata": {},
   "outputs": [],
   "source": []
  }
 ],
 "metadata": {
  "kernelspec": {
   "display_name": "Python 3",
   "language": "python",
   "name": "python3"
  },
  "language_info": {
   "codemirror_mode": {
    "name": "ipython",
    "version": 3
   },
   "file_extension": ".py",
   "mimetype": "text/x-python",
   "name": "python",
   "nbconvert_exporter": "python",
   "pygments_lexer": "ipython3",
   "version": "3.6.10"
  }
 },
 "nbformat": 4,
 "nbformat_minor": 4
}

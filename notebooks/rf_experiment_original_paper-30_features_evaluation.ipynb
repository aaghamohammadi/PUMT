{
 "cells": [
  {
   "cell_type": "code",
   "execution_count": 1,
   "metadata": {},
   "outputs": [],
   "source": [
    "import pandas as pd\n",
    "import numpy as np\n",
    "from pathlib import Path\n",
    "import pickle\n",
    "from sklearn.metrics import classification_report\n",
    "from sklearn import metrics\n",
    "import warnings\n",
    "warnings.filterwarnings(\"ignore\")"
   ]
  },
  {
   "cell_type": "code",
   "execution_count": 2,
   "metadata": {},
   "outputs": [],
   "source": [
    "dPath = Path(\"../docs/dumps\")"
   ]
  },
  {
   "cell_type": "code",
   "execution_count": 3,
   "metadata": {},
   "outputs": [],
   "source": [
    "with open(dPath / \"test_set_data.pkl\", 'rb') as filename:\n",
    "    test_data = pickle.load(filename)"
   ]
  },
  {
   "cell_type": "code",
   "execution_count": 4,
   "metadata": {},
   "outputs": [],
   "source": [
    "with open(dPath / \"rf_exp_10.pkl\", 'rb') as filename:\n",
    "    rf = pickle.load(filename)"
   ]
  },
  {
   "cell_type": "code",
   "execution_count": 5,
   "metadata": {},
   "outputs": [],
   "source": [
    "with open(dPath / \"rf_exp_03_names.pkl\", 'rb') as filename:\n",
    "    names = pickle.load(filename)"
   ]
  },
  {
   "cell_type": "code",
   "execution_count": 6,
   "metadata": {},
   "outputs": [],
   "source": [
    "X_test = []\n",
    "y_test = []"
   ]
  },
  {
   "cell_type": "code",
   "execution_count": 7,
   "metadata": {},
   "outputs": [],
   "source": [
    "for i in range(len(test_data)):\n",
    "    test_data[i] = test_data[i][test_data[i].numExecuted > 0]\n",
    "    X_test.append(test_data[i].drop(\"Detected\", axis=1))\n",
    "    y_test.append(test_data[i].Detected)\n",
    "    X_test[i] = test_data[i][names]"
   ]
  },
  {
   "cell_type": "code",
   "execution_count": 8,
   "metadata": {},
   "outputs": [],
   "source": [
    "for i in range(len(test_data)):\n",
    "    X_test[i] = X_test[i][names]"
   ]
  },
  {
   "cell_type": "code",
   "execution_count": 9,
   "metadata": {},
   "outputs": [],
   "source": [
    "with open(dPath / \"mutclslabels.pkl\", 'rb') as filename:\n",
    "    mutclslabels = pickle.load(filename)"
   ]
  },
  {
   "cell_type": "code",
   "execution_count": 10,
   "metadata": {},
   "outputs": [],
   "source": [
    "with open(dPath / \"retypelabels.pkl\", 'rb') as filename:\n",
    "    retypelabels = pickle.load(filename)"
   ]
  },
  {
   "cell_type": "code",
   "execution_count": 11,
   "metadata": {},
   "outputs": [],
   "source": [
    "mutclscodes = dict(zip(mutclslabels,range(len(mutclslabels))))"
   ]
  },
  {
   "cell_type": "code",
   "execution_count": 12,
   "metadata": {},
   "outputs": [],
   "source": [
    "retypecodes = dict(zip(retypelabels,range(len(retypelabels))))"
   ]
  },
  {
   "cell_type": "code",
   "execution_count": 13,
   "metadata": {},
   "outputs": [],
   "source": [
    "for i in range(len(test_data)):\n",
    "    X_test[i].replace(mutclscodes, inplace=True)\n",
    "    X_test[i].replace(retypecodes, inplace=True)"
   ]
  },
  {
   "cell_type": "code",
   "execution_count": 14,
   "metadata": {},
   "outputs": [],
   "source": [
    "rm_indices = []\n",
    "for i in range(len(X_test)):\n",
    "    if X_test[i].shape[0] <= 10:\n",
    "        rm_indices.append(i)"
   ]
  },
  {
   "cell_type": "code",
   "execution_count": 15,
   "metadata": {},
   "outputs": [],
   "source": [
    "X_test = [i for j, i in enumerate(X_test) if j not in rm_indices]"
   ]
  },
  {
   "cell_type": "code",
   "execution_count": 16,
   "metadata": {},
   "outputs": [],
   "source": [
    "y_test = [i for j, i in enumerate(y_test) if j not in rm_indices]"
   ]
  },
  {
   "cell_type": "code",
   "execution_count": 17,
   "metadata": {},
   "outputs": [],
   "source": [
    "rf_preds = []\n",
    "for i in range(len(X_test)):  \n",
    "    rf_preds.append(rf.predict_proba(X_test[i])[:,1])"
   ]
  },
  {
   "cell_type": "code",
   "execution_count": 18,
   "metadata": {},
   "outputs": [
    {
     "name": "stdout",
     "output_type": "stream",
     "text": [
      "(133,)\n",
      "(809,)\n",
      "(364,)\n",
      "(4506,)\n",
      "(21,)\n",
      "(128,)\n",
      "(337,)\n",
      "(112,)\n",
      "(349,)\n",
      "(4697,)\n",
      "(406,)\n",
      "(861,)\n",
      "(3869,)\n",
      "(542,)\n",
      "(2033,)\n",
      "(54,)\n",
      "(691,)\n",
      "(287,)\n",
      "(1301,)\n",
      "(33,)\n",
      "(100,)\n",
      "(261,)\n",
      "(1943,)\n",
      "(29,)\n",
      "(238,)\n",
      "(153,)\n",
      "(773,)\n",
      "(37,)\n",
      "(248,)\n",
      "(982,)\n",
      "(4736,)\n",
      "(749,)\n",
      "(1531,)\n",
      "(104,)\n",
      "(169,)\n",
      "(426,)\n",
      "(2246,)\n",
      "(522,)\n",
      "(33,)\n",
      "(543,)\n",
      "(102,)\n",
      "(1475,)\n",
      "(514,)\n",
      "(106,)\n",
      "(2414,)\n",
      "(46,)\n",
      "(213,)\n",
      "(3254,)\n",
      "(43,)\n",
      "(3551,)\n",
      "(188,)\n",
      "(835,)\n",
      "(179,)\n",
      "(3851,)\n",
      "(690,)\n",
      "(579,)\n",
      "(1484,)\n",
      "(173,)\n",
      "(296,)\n",
      "(162,)\n",
      "(600,)\n",
      "(89,)\n",
      "(266,)\n"
     ]
    }
   ],
   "source": [
    "for i in range(len(X_test)):\n",
    "    print(rf_preds[i].shape)"
   ]
  },
  {
   "cell_type": "code",
   "execution_count": 19,
   "metadata": {},
   "outputs": [],
   "source": [
    "balanced_accuracy_scores = []\n",
    "matthews_corrcoef_scores = []\n",
    "average_precision_scores = []\n",
    "roc_auc_scores = []\n",
    "precision_scores = []\n",
    "recall_scores = []\n",
    "f1_scores = []\n",
    "log_losses = []\n",
    "zero_one_loss = []\n",
    "for i in range(len(rf_preds)):\n",
    "    try:\n",
    "        balanced_accuracy_scores.append(metrics.balanced_accuracy_score(y_test[i], rf_preds[i] >= 0.5, adjusted=True))\n",
    "        matthews_corrcoef_scores.append(metrics.matthews_corrcoef(y_test[i], rf_preds[i] >= 0.5))\n",
    "        average_precision_scores.append(metrics.average_precision_score(y_test[i], rf_preds[i] >= 0.5))\n",
    "        roc_auc_scores.append(metrics.roc_auc_score(y_test[i],rf_preds[i] >= 0.5))\n",
    "        precision_scores.append(metrics.precision_score(y_test[i], rf_preds[i]>= 0.5))\n",
    "        recall_scores.append(metrics.recall_score(y_test[i], rf_preds[i]>= 0.5))\n",
    "        f1_scores.append(metrics.f1_score(y_test[i], rf_preds[i]>= 0.5))\n",
    "        log_losses.append(metrics.log_loss(y_test[i], rf_preds[i] >= 0.5))\n",
    "        zero_one_loss.append(metrics.zero_one_loss(y_test[i], rf_preds[i] >= 0.5))\n",
    "    except:\n",
    "        pass"
   ]
  },
  {
   "cell_type": "code",
   "execution_count": 20,
   "metadata": {},
   "outputs": [],
   "source": [
    "import matplotlib.pyplot as plt"
   ]
  },
  {
   "cell_type": "code",
   "execution_count": 21,
   "metadata": {},
   "outputs": [
    {
     "data": {
      "text/plain": [
       "0.5462169287595783"
      ]
     },
     "execution_count": 21,
     "metadata": {},
     "output_type": "execute_result"
    }
   ],
   "source": [
    "np.median(roc_auc_scores)"
   ]
  },
  {
   "cell_type": "code",
   "execution_count": 22,
   "metadata": {},
   "outputs": [
    {
     "data": {
      "image/png": "[encoded data removed]",
      "text/plain": [
       "<Figure size 432x288 with 1 Axes>"
      ]
     },
     "metadata": {
      "needs_background": "light"
     },
     "output_type": "display_data"
    }
   ],
   "source": [
    "plt.boxplot(np.array(roc_auc_scores));"
   ]
  },
  {
   "cell_type": "code",
   "execution_count": 23,
   "metadata": {},
   "outputs": [],
   "source": [
    "df = pd.DataFrame([balanced_accuracy_scores,matthews_corrcoef_scores,average_precision_scores,roc_auc_scores,precision_scores,recall_scores,f1_scores,log_losses,zero_one_loss]).T"
   ]
  },
  {
   "cell_type": "code",
   "execution_count": 24,
   "metadata": {},
   "outputs": [],
   "source": [
    "df.columns = ['balanced_accuracy_scores','matthews_corrcoef_scores','average_precision_scores','roc_auc_scores','precision_scores','recall_scores','f1_scores','log_losses','zero_one_loss']"
   ]
  },
  {
   "cell_type": "code",
   "execution_count": 25,
   "metadata": {},
   "outputs": [],
   "source": [
    "df.to_excel(dPath / \"rf_originial_30_no_oversampling_evaluation.xlsx\")"
   ]
  },
  {
   "cell_type": "code",
   "execution_count": null,
   "metadata": {},
   "outputs": [],
   "source": []
  }
 ],
 "metadata": {
  "kernelspec": {
   "display_name": "Python 3",
   "language": "python",
   "name": "python3"
  },
  "language_info": {
   "codemirror_mode": {
    "name": "ipython",
    "version": 3
   },
   "file_extension": ".py",
   "mimetype": "text/x-python",
   "name": "python",
   "nbconvert_exporter": "python",
   "pygments_lexer": "ipython3",
   "version": "3.7.4"
  }
 },
 "nbformat": 4,
 "nbformat_minor": 4
}

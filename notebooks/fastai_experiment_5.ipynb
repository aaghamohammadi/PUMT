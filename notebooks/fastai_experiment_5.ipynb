{
 "cells": [
  {
   "cell_type": "code",
   "execution_count": 1,
   "metadata": {},
   "outputs": [],
   "source": [
    "from fastai.tabular import * "
   ]
  },
  {
   "cell_type": "code",
   "execution_count": 2,
   "metadata": {},
   "outputs": [],
   "source": [
    "dPath = Path(\"../docs/dumps\")"
   ]
  },
  {
   "cell_type": "code",
   "execution_count": 3,
   "metadata": {},
   "outputs": [],
   "source": [
    "with open(dPath / \"train_data.pkl\", 'rb') as filename:\n",
    "    train_data = pickle.load(filename)"
   ]
  },
  {
   "cell_type": "code",
   "execution_count": 4,
   "metadata": {},
   "outputs": [],
   "source": [
    "with open(dPath / \"valid_data.pkl\", 'rb') as filename:\n",
    "    valid_data = pickle.load(filename)"
   ]
  },
  {
   "cell_type": "code",
   "execution_count": 5,
   "metadata": {},
   "outputs": [],
   "source": [
    "with open(dPath / \"test_data.pkl\", 'rb') as filename:\n",
    "    test_data = pickle.load(filename)"
   ]
  },
  {
   "cell_type": "code",
   "execution_count": 6,
   "metadata": {},
   "outputs": [],
   "source": [
    "with open(dPath / \"not_running.pkl\", 'rb') as filename:\n",
    "    not_running = pickle.load(filename)"
   ]
  },
  {
   "cell_type": "code",
   "execution_count": 7,
   "metadata": {},
   "outputs": [],
   "source": [
    "with open(dPath / \"rf_exp_05_names.pkl\", 'rb') as filename:\n",
    "    names = pickle.load(filename)"
   ]
  },
  {
   "cell_type": "code",
   "execution_count": 8,
   "metadata": {},
   "outputs": [],
   "source": [
    "with open(dPath / \"mutclslabels.pkl\", 'rb') as filename:\n",
    "    mutclslabels = pickle.load(filename)\n",
    "\n",
    "with open(dPath / \"retypelabels.pkl\", 'rb') as filename:\n",
    "    retypelabels = pickle.load(filename)\n",
    "\n",
    "mutclscodes = dict(zip(mutclslabels,range(len(mutclslabels))))\n",
    "\n",
    "retypecodes = dict(zip(retypelabels,range(len(retypelabels))))"
   ]
  },
  {
   "cell_type": "code",
   "execution_count": 9,
   "metadata": {},
   "outputs": [],
   "source": [
    "test_data.replace(mutclscodes, inplace=True)\n",
    "test_data.replace(retypecodes, inplace=True)"
   ]
  },
  {
   "cell_type": "code",
   "execution_count": null,
   "metadata": {},
   "outputs": [],
   "source": [
    "test_data['MutatorClass'] = test_data.MutatorClass.astype('category')\n",
    "test_data['returnType'] = test_data.returnType.astype('category')"
   ]
  },
  {
   "cell_type": "code",
   "execution_count": 10,
   "metadata": {},
   "outputs": [
    {
     "data": {
      "text/plain": [
       "67496"
      ]
     },
     "execution_count": 10,
     "metadata": {},
     "output_type": "execute_result"
    }
   ],
   "source": [
    "len(valid_data)"
   ]
  },
  {
   "cell_type": "code",
   "execution_count": 16,
   "metadata": {},
   "outputs": [],
   "source": [
    "from imblearn.over_sampling import ADASYN"
   ]
  },
  {
   "cell_type": "code",
   "execution_count": 17,
   "metadata": {},
   "outputs": [],
   "source": [
    "sm = ADASYN(random_state=42, n_jobs=-1,  n_neighbors=5)"
   ]
  },
  {
   "cell_type": "code",
   "execution_count": 18,
   "metadata": {},
   "outputs": [],
   "source": [
    "X_train = train_data.drop(\"Detected\", axis=1)\n",
    "y_train = train_data.Detected"
   ]
  },
  {
   "cell_type": "code",
   "execution_count": 19,
   "metadata": {},
   "outputs": [
    {
     "name": "stdout",
     "output_type": "stream",
     "text": [
      "Wall time: 2min 31s\n"
     ]
    }
   ],
   "source": [
    "%time X_train, y_train = sm.fit_resample(X_train, y_train)"
   ]
  },
  {
   "cell_type": "code",
   "execution_count": 21,
   "metadata": {},
   "outputs": [],
   "source": [
    "train_data = pd.concat([X_train, y_train], axis=1)"
   ]
  },
  {
   "cell_type": "code",
   "execution_count": 23,
   "metadata": {},
   "outputs": [],
   "source": [
    "all_df = pd.concat([train_data, not_running, valid_data],axis=0,ignore_index=True)"
   ]
  },
  {
   "cell_type": "code",
   "execution_count": 24,
   "metadata": {},
   "outputs": [],
   "source": [
    "all_df['MutatorClass'] = all_df.MutatorClass.astype('category')"
   ]
  },
  {
   "cell_type": "code",
   "execution_count": 25,
   "metadata": {},
   "outputs": [],
   "source": [
    "all_df['returnType'] = all_df.returnType.astype('category')"
   ]
  },
  {
   "cell_type": "code",
   "execution_count": 26,
   "metadata": {},
   "outputs": [
    {
     "data": {
      "text/html": [
       "<div>\n",
       "<style scoped>\n",
       "    .dataframe tbody tr th:only-of-type {\n",
       "        vertical-align: middle;\n",
       "    }\n",
       "\n",
       "    .dataframe tbody tr th {\n",
       "        vertical-align: top;\n",
       "    }\n",
       "\n",
       "    .dataframe thead th {\n",
       "        text-align: right;\n",
       "    }\n",
       "</style>\n",
       "<table border=\"1\" class=\"dataframe\">\n",
       "  <thead>\n",
       "    <tr style=\"text-align: right;\">\n",
       "      <th></th>\n",
       "      <th>0</th>\n",
       "      <th>1</th>\n",
       "      <th>2</th>\n",
       "      <th>3</th>\n",
       "      <th>4</th>\n",
       "    </tr>\n",
       "  </thead>\n",
       "  <tbody>\n",
       "    <tr>\n",
       "      <th>MutatorClass</th>\n",
       "      <td>2</td>\n",
       "      <td>6</td>\n",
       "      <td>6</td>\n",
       "      <td>0</td>\n",
       "      <td>0</td>\n",
       "    </tr>\n",
       "    <tr>\n",
       "      <th>returnType</th>\n",
       "      <td>3</td>\n",
       "      <td>3</td>\n",
       "      <td>3</td>\n",
       "      <td>3</td>\n",
       "      <td>3</td>\n",
       "    </tr>\n",
       "    <tr>\n",
       "      <th>numExecuted</th>\n",
       "      <td>14</td>\n",
       "      <td>14</td>\n",
       "      <td>14</td>\n",
       "      <td>14</td>\n",
       "      <td>14</td>\n",
       "    </tr>\n",
       "    <tr>\n",
       "      <th>numTestCover</th>\n",
       "      <td>1</td>\n",
       "      <td>1</td>\n",
       "      <td>1</td>\n",
       "      <td>1</td>\n",
       "      <td>1</td>\n",
       "    </tr>\n",
       "    <tr>\n",
       "      <th>numAssertInTM</th>\n",
       "      <td>7</td>\n",
       "      <td>7</td>\n",
       "      <td>7</td>\n",
       "      <td>7</td>\n",
       "      <td>7</td>\n",
       "    </tr>\n",
       "    <tr>\n",
       "      <th>numAssertInTC</th>\n",
       "      <td>14</td>\n",
       "      <td>14</td>\n",
       "      <td>14</td>\n",
       "      <td>14</td>\n",
       "      <td>14</td>\n",
       "    </tr>\n",
       "    <tr>\n",
       "      <th>ppnumberOfClasses</th>\n",
       "      <td>5</td>\n",
       "      <td>5</td>\n",
       "      <td>5</td>\n",
       "      <td>5</td>\n",
       "      <td>5</td>\n",
       "    </tr>\n",
       "    <tr>\n",
       "      <th>ppnumberOfStatements</th>\n",
       "      <td>232</td>\n",
       "      <td>232</td>\n",
       "      <td>232</td>\n",
       "      <td>232</td>\n",
       "      <td>232</td>\n",
       "    </tr>\n",
       "    <tr>\n",
       "      <th>ppavcc</th>\n",
       "      <td>2.125</td>\n",
       "      <td>2.125</td>\n",
       "      <td>2.125</td>\n",
       "      <td>2.125</td>\n",
       "      <td>2.125</td>\n",
       "    </tr>\n",
       "    <tr>\n",
       "      <th>pphalsteadCumulativeBugs</th>\n",
       "      <td>2.63609</td>\n",
       "      <td>2.63609</td>\n",
       "      <td>2.63609</td>\n",
       "      <td>2.63609</td>\n",
       "      <td>2.63609</td>\n",
       "    </tr>\n",
       "    <tr>\n",
       "      <th>pphalsteadEffort</th>\n",
       "      <td>136211</td>\n",
       "      <td>136211</td>\n",
       "      <td>136211</td>\n",
       "      <td>136211</td>\n",
       "      <td>136211</td>\n",
       "    </tr>\n",
       "    <tr>\n",
       "      <th>pphalsteadCumulativeLength</th>\n",
       "      <td>1632</td>\n",
       "      <td>1632</td>\n",
       "      <td>1632</td>\n",
       "      <td>1632</td>\n",
       "      <td>1632</td>\n",
       "    </tr>\n",
       "    <tr>\n",
       "      <th>pphalsteadCumulativeVolume</th>\n",
       "      <td>7908.27</td>\n",
       "      <td>7908.27</td>\n",
       "      <td>7908.27</td>\n",
       "      <td>7908.27</td>\n",
       "      <td>7908.27</td>\n",
       "    </tr>\n",
       "    <tr>\n",
       "      <th>ppmaintainabilityIndex</th>\n",
       "      <td>97.3608</td>\n",
       "      <td>97.3608</td>\n",
       "      <td>97.3608</td>\n",
       "      <td>97.3608</td>\n",
       "      <td>97.3608</td>\n",
       "    </tr>\n",
       "    <tr>\n",
       "      <th>ppcumulativeNumberOfCommentLines</th>\n",
       "      <td>69</td>\n",
       "      <td>69</td>\n",
       "      <td>69</td>\n",
       "      <td>69</td>\n",
       "      <td>69</td>\n",
       "    </tr>\n",
       "    <tr>\n",
       "      <th>pploc</th>\n",
       "      <td>262</td>\n",
       "      <td>262</td>\n",
       "      <td>262</td>\n",
       "      <td>262</td>\n",
       "      <td>262</td>\n",
       "    </tr>\n",
       "    <tr>\n",
       "      <th>ppRVF</th>\n",
       "      <td>13</td>\n",
       "      <td>13</td>\n",
       "      <td>13</td>\n",
       "      <td>13</td>\n",
       "      <td>13</td>\n",
       "    </tr>\n",
       "    <tr>\n",
       "      <th>pptcc</th>\n",
       "      <td>34</td>\n",
       "      <td>34</td>\n",
       "      <td>34</td>\n",
       "      <td>34</td>\n",
       "      <td>34</td>\n",
       "    </tr>\n",
       "    <tr>\n",
       "      <th>ppcumulativeNumberOfComments</th>\n",
       "      <td>16</td>\n",
       "      <td>16</td>\n",
       "      <td>16</td>\n",
       "      <td>16</td>\n",
       "      <td>16</td>\n",
       "    </tr>\n",
       "    <tr>\n",
       "      <th>ppinstability</th>\n",
       "      <td>0.666667</td>\n",
       "      <td>0.666667</td>\n",
       "      <td>0.666667</td>\n",
       "      <td>0.666667</td>\n",
       "      <td>0.666667</td>\n",
       "    </tr>\n",
       "    <tr>\n",
       "      <th>ppdistance</th>\n",
       "      <td>0.333333</td>\n",
       "      <td>0.333333</td>\n",
       "      <td>0.333333</td>\n",
       "      <td>0.333333</td>\n",
       "      <td>0.333333</td>\n",
       "    </tr>\n",
       "    <tr>\n",
       "      <th>ppfanin</th>\n",
       "      <td>1</td>\n",
       "      <td>1</td>\n",
       "      <td>1</td>\n",
       "      <td>1</td>\n",
       "      <td>1</td>\n",
       "    </tr>\n",
       "    <tr>\n",
       "      <th>ppnumberOfMethods</th>\n",
       "      <td>16</td>\n",
       "      <td>16</td>\n",
       "      <td>16</td>\n",
       "      <td>16</td>\n",
       "      <td>16</td>\n",
       "    </tr>\n",
       "    <tr>\n",
       "      <th>ppmaintainabilityIndexNC</th>\n",
       "      <td>97.1251</td>\n",
       "      <td>97.1251</td>\n",
       "      <td>97.1251</td>\n",
       "      <td>97.1251</td>\n",
       "      <td>97.1251</td>\n",
       "    </tr>\n",
       "    <tr>\n",
       "      <th>ppabstractness</th>\n",
       "      <td>0</td>\n",
       "      <td>0</td>\n",
       "      <td>0</td>\n",
       "      <td>0</td>\n",
       "      <td>0</td>\n",
       "    </tr>\n",
       "    <tr>\n",
       "      <th>ppmaxcc</th>\n",
       "      <td>5</td>\n",
       "      <td>5</td>\n",
       "      <td>5</td>\n",
       "      <td>5</td>\n",
       "      <td>5</td>\n",
       "    </tr>\n",
       "    <tr>\n",
       "      <th>ppfanout</th>\n",
       "      <td>2</td>\n",
       "      <td>2</td>\n",
       "      <td>2</td>\n",
       "      <td>2</td>\n",
       "      <td>2</td>\n",
       "    </tr>\n",
       "    <tr>\n",
       "      <th>ccnumberOfMethods</th>\n",
       "      <td>4</td>\n",
       "      <td>4</td>\n",
       "      <td>4</td>\n",
       "      <td>4</td>\n",
       "      <td>4</td>\n",
       "    </tr>\n",
       "    <tr>\n",
       "      <th>cclcom</th>\n",
       "      <td>0</td>\n",
       "      <td>0</td>\n",
       "      <td>0</td>\n",
       "      <td>0</td>\n",
       "      <td>0</td>\n",
       "    </tr>\n",
       "    <tr>\n",
       "      <th>ccavcc</th>\n",
       "      <td>3</td>\n",
       "      <td>3</td>\n",
       "      <td>3</td>\n",
       "      <td>3</td>\n",
       "      <td>3</td>\n",
       "    </tr>\n",
       "    <tr>\n",
       "      <th>ccnumberOfStatements</th>\n",
       "      <td>49</td>\n",
       "      <td>49</td>\n",
       "      <td>49</td>\n",
       "      <td>49</td>\n",
       "      <td>49</td>\n",
       "    </tr>\n",
       "    <tr>\n",
       "      <th>cchalsteadCumulativeBugs</th>\n",
       "      <td>0.593518</td>\n",
       "      <td>0.593518</td>\n",
       "      <td>0.593518</td>\n",
       "      <td>0.593518</td>\n",
       "      <td>0.593518</td>\n",
       "    </tr>\n",
       "    <tr>\n",
       "      <th>cchalsteadEffort</th>\n",
       "      <td>32644</td>\n",
       "      <td>32644</td>\n",
       "      <td>32644</td>\n",
       "      <td>32644</td>\n",
       "      <td>32644</td>\n",
       "    </tr>\n",
       "    <tr>\n",
       "      <th>ccunweightedClassSize</th>\n",
       "      <td>4</td>\n",
       "      <td>4</td>\n",
       "      <td>4</td>\n",
       "      <td>4</td>\n",
       "      <td>4</td>\n",
       "    </tr>\n",
       "    <tr>\n",
       "      <th>ccinstanceVariables</th>\n",
       "      <td>0</td>\n",
       "      <td>0</td>\n",
       "      <td>0</td>\n",
       "      <td>0</td>\n",
       "      <td>0</td>\n",
       "    </tr>\n",
       "    <tr>\n",
       "      <th>ccimportedPackages</th>\n",
       "      <td>3</td>\n",
       "      <td>3</td>\n",
       "      <td>3</td>\n",
       "      <td>3</td>\n",
       "      <td>3</td>\n",
       "    </tr>\n",
       "    <tr>\n",
       "      <th>ccresponseForClass</th>\n",
       "      <td>4</td>\n",
       "      <td>4</td>\n",
       "      <td>4</td>\n",
       "      <td>4</td>\n",
       "      <td>4</td>\n",
       "    </tr>\n",
       "    <tr>\n",
       "      <th>cccbo</th>\n",
       "      <td>4</td>\n",
       "      <td>4</td>\n",
       "      <td>4</td>\n",
       "      <td>4</td>\n",
       "      <td>4</td>\n",
       "    </tr>\n",
       "    <tr>\n",
       "      <th>ccmaintainabilityIndex</th>\n",
       "      <td>67.4658</td>\n",
       "      <td>67.4658</td>\n",
       "      <td>67.4658</td>\n",
       "      <td>67.4658</td>\n",
       "      <td>67.4658</td>\n",
       "    </tr>\n",
       "    <tr>\n",
       "      <th>cccumulativeNumberOfCommentLines</th>\n",
       "      <td>26</td>\n",
       "      <td>26</td>\n",
       "      <td>26</td>\n",
       "      <td>26</td>\n",
       "      <td>26</td>\n",
       "    </tr>\n",
       "  </tbody>\n",
       "</table>\n",
       "</div>"
      ],
      "text/plain": [
       "                                         0         1         2         3  \\\n",
       "MutatorClass                             2         6         6         0   \n",
       "returnType                               3         3         3         3   \n",
       "numExecuted                             14        14        14        14   \n",
       "numTestCover                             1         1         1         1   \n",
       "numAssertInTM                            7         7         7         7   \n",
       "numAssertInTC                           14        14        14        14   \n",
       "ppnumberOfClasses                        5         5         5         5   \n",
       "ppnumberOfStatements                   232       232       232       232   \n",
       "ppavcc                               2.125     2.125     2.125     2.125   \n",
       "pphalsteadCumulativeBugs           2.63609   2.63609   2.63609   2.63609   \n",
       "pphalsteadEffort                    136211    136211    136211    136211   \n",
       "pphalsteadCumulativeLength            1632      1632      1632      1632   \n",
       "pphalsteadCumulativeVolume         7908.27   7908.27   7908.27   7908.27   \n",
       "ppmaintainabilityIndex             97.3608   97.3608   97.3608   97.3608   \n",
       "ppcumulativeNumberOfCommentLines        69        69        69        69   \n",
       "pploc                                  262       262       262       262   \n",
       "ppRVF                                   13        13        13        13   \n",
       "pptcc                                   34        34        34        34   \n",
       "ppcumulativeNumberOfComments            16        16        16        16   \n",
       "ppinstability                     0.666667  0.666667  0.666667  0.666667   \n",
       "ppdistance                        0.333333  0.333333  0.333333  0.333333   \n",
       "ppfanin                                  1         1         1         1   \n",
       "ppnumberOfMethods                       16        16        16        16   \n",
       "ppmaintainabilityIndexNC           97.1251   97.1251   97.1251   97.1251   \n",
       "ppabstractness                           0         0         0         0   \n",
       "ppmaxcc                                  5         5         5         5   \n",
       "ppfanout                                 2         2         2         2   \n",
       "ccnumberOfMethods                        4         4         4         4   \n",
       "cclcom                                   0         0         0         0   \n",
       "ccavcc                                   3         3         3         3   \n",
       "ccnumberOfStatements                    49        49        49        49   \n",
       "cchalsteadCumulativeBugs          0.593518  0.593518  0.593518  0.593518   \n",
       "cchalsteadEffort                     32644     32644     32644     32644   \n",
       "ccunweightedClassSize                    4         4         4         4   \n",
       "ccinstanceVariables                      0         0         0         0   \n",
       "ccimportedPackages                       3         3         3         3   \n",
       "ccresponseForClass                       4         4         4         4   \n",
       "cccbo                                    4         4         4         4   \n",
       "ccmaintainabilityIndex             67.4658   67.4658   67.4658   67.4658   \n",
       "cccumulativeNumberOfCommentLines        26        26        26        26   \n",
       "\n",
       "                                         4  \n",
       "MutatorClass                             0  \n",
       "returnType                               3  \n",
       "numExecuted                             14  \n",
       "numTestCover                             1  \n",
       "numAssertInTM                            7  \n",
       "numAssertInTC                           14  \n",
       "ppnumberOfClasses                        5  \n",
       "ppnumberOfStatements                   232  \n",
       "ppavcc                               2.125  \n",
       "pphalsteadCumulativeBugs           2.63609  \n",
       "pphalsteadEffort                    136211  \n",
       "pphalsteadCumulativeLength            1632  \n",
       "pphalsteadCumulativeVolume         7908.27  \n",
       "ppmaintainabilityIndex             97.3608  \n",
       "ppcumulativeNumberOfCommentLines        69  \n",
       "pploc                                  262  \n",
       "ppRVF                                   13  \n",
       "pptcc                                   34  \n",
       "ppcumulativeNumberOfComments            16  \n",
       "ppinstability                     0.666667  \n",
       "ppdistance                        0.333333  \n",
       "ppfanin                                  1  \n",
       "ppnumberOfMethods                       16  \n",
       "ppmaintainabilityIndexNC           97.1251  \n",
       "ppabstractness                           0  \n",
       "ppmaxcc                                  5  \n",
       "ppfanout                                 2  \n",
       "ccnumberOfMethods                        4  \n",
       "cclcom                                   0  \n",
       "ccavcc                                   3  \n",
       "ccnumberOfStatements                    49  \n",
       "cchalsteadCumulativeBugs          0.593518  \n",
       "cchalsteadEffort                     32644  \n",
       "ccunweightedClassSize                    4  \n",
       "ccinstanceVariables                      0  \n",
       "ccimportedPackages                       3  \n",
       "ccresponseForClass                       4  \n",
       "cccbo                                    4  \n",
       "ccmaintainabilityIndex             67.4658  \n",
       "cccumulativeNumberOfCommentLines        26  "
      ]
     },
     "execution_count": 26,
     "metadata": {},
     "output_type": "execute_result"
    }
   ],
   "source": [
    "all_df.head().T.head(40)"
   ]
  },
  {
   "cell_type": "code",
   "execution_count": 27,
   "metadata": {},
   "outputs": [],
   "source": [
    "all_df = all_df[list(names) + ['Detected']]\n",
    "test_data = test_data[list(names) + ['Detected']]"
   ]
  },
  {
   "cell_type": "code",
   "execution_count": 30,
   "metadata": {},
   "outputs": [],
   "source": [
    "procs = [Categorify, Normalize]"
   ]
  },
  {
   "cell_type": "code",
   "execution_count": 31,
   "metadata": {},
   "outputs": [],
   "source": [
    "valid_idx = range(len(all_df) - len(valid_data), len(all_df))"
   ]
  },
  {
   "cell_type": "code",
   "execution_count": 32,
   "metadata": {},
   "outputs": [],
   "source": [
    "dep_var = 'Detected'\n",
    "cat_names = ['MutatorClass', 'returnType']"
   ]
  },
  {
   "cell_type": "code",
   "execution_count": 33,
   "metadata": {},
   "outputs": [],
   "source": [
    "data = TabularDataBunch.from_df(dPath, all_df, dep_var, valid_idx=valid_idx, procs=procs, cat_names=cat_names,test_df=test_data)"
   ]
  },
  {
   "cell_type": "code",
   "execution_count": 38,
   "metadata": {},
   "outputs": [],
   "source": [
    "learn = tabular_learner(data, layers=[200,100], emb_szs={'MutatorClass': 8, 'returnType': 10}, metrics=[accuracy,Precision(),Recall(),MatthewsCorreff(),AUROC(), FBeta(beta=1)])"
   ]
  },
  {
   "cell_type": "code",
   "execution_count": 39,
   "metadata": {},
   "outputs": [
    {
     "data": {
      "text/plain": [
       "TabularModel\n",
       "======================================================================\n",
       "Layer (type)         Output Shape         Param #    Trainable \n",
       "======================================================================\n",
       "Embedding            [8]                  144        True      \n",
       "______________________________________________________________________\n",
       "Embedding            [10]                 220        True      \n",
       "______________________________________________________________________\n",
       "Dropout              [18]                 0          False     \n",
       "______________________________________________________________________\n",
       "BatchNorm1d          [36]                 72         True      \n",
       "______________________________________________________________________\n",
       "Linear               [200]                11,000     True      \n",
       "______________________________________________________________________\n",
       "ReLU                 [200]                0          False     \n",
       "______________________________________________________________________\n",
       "BatchNorm1d          [200]                400        True      \n",
       "______________________________________________________________________\n",
       "Linear               [100]                20,100     True      \n",
       "______________________________________________________________________\n",
       "ReLU                 [100]                0          False     \n",
       "______________________________________________________________________\n",
       "BatchNorm1d          [100]                200        True      \n",
       "______________________________________________________________________\n",
       "Linear               [2]                  202        True      \n",
       "______________________________________________________________________\n",
       "\n",
       "Total params: 32,338\n",
       "Total trainable params: 32,338\n",
       "Total non-trainable params: 0\n",
       "Optimized with 'torch.optim.adam.Adam', betas=(0.9, 0.99)\n",
       "Using true weight decay as discussed in https://www.fast.ai/2018/07/02/adam-weight-decay/ \n",
       "Loss function : FlattenedLoss\n",
       "======================================================================\n",
       "Callbacks functions applied "
      ]
     },
     "execution_count": 39,
     "metadata": {},
     "output_type": "execute_result"
    }
   ],
   "source": [
    "learn.summary()"
   ]
  },
  {
   "cell_type": "code",
   "execution_count": null,
   "metadata": {},
   "outputs": [],
   "source": []
  },
  {
   "cell_type": "code",
   "execution_count": 40,
   "metadata": {},
   "outputs": [
    {
     "data": {
      "text/html": [
       "<table border=\"1\" class=\"dataframe\">\n",
       "  <thead>\n",
       "    <tr style=\"text-align: left;\">\n",
       "      <th>epoch</th>\n",
       "      <th>train_loss</th>\n",
       "      <th>valid_loss</th>\n",
       "      <th>accuracy</th>\n",
       "      <th>precision</th>\n",
       "      <th>recall</th>\n",
       "      <th>matthews_correff</th>\n",
       "      <th>auroc</th>\n",
       "      <th>f_beta</th>\n",
       "      <th>time</th>\n",
       "    </tr>\n",
       "  </thead>\n",
       "  <tbody>\n",
       "    <tr>\n",
       "      <td>0</td>\n",
       "      <td>0.584280</td>\n",
       "      <td>0.638560</td>\n",
       "      <td>0.639371</td>\n",
       "      <td>0.798643</td>\n",
       "      <td>0.696926</td>\n",
       "      <td>0.145920</td>\n",
       "      <td>0.613571</td>\n",
       "      <td>0.744325</td>\n",
       "      <td>08:43</td>\n",
       "    </tr>\n",
       "    <tr>\n",
       "      <td>1</td>\n",
       "      <td>0.557708</td>\n",
       "      <td>0.641039</td>\n",
       "      <td>0.641149</td>\n",
       "      <td>0.798221</td>\n",
       "      <td>0.700702</td>\n",
       "      <td>0.145827</td>\n",
       "      <td>0.606582</td>\n",
       "      <td>0.746289</td>\n",
       "      <td>09:30</td>\n",
       "    </tr>\n",
       "    <tr>\n",
       "      <td>2</td>\n",
       "      <td>0.541466</td>\n",
       "      <td>0.662126</td>\n",
       "      <td>0.610851</td>\n",
       "      <td>0.804039</td>\n",
       "      <td>0.639116</td>\n",
       "      <td>0.143990</td>\n",
       "      <td>0.602979</td>\n",
       "      <td>0.712153</td>\n",
       "      <td>09:33</td>\n",
       "    </tr>\n",
       "  </tbody>\n",
       "</table>"
      ],
      "text/plain": [
       "<IPython.core.display.HTML object>"
      ]
     },
     "metadata": {},
     "output_type": "display_data"
    }
   ],
   "source": [
    "learn.fit_one_cycle(3)"
   ]
  },
  {
   "cell_type": "code",
   "execution_count": 41,
   "metadata": {},
   "outputs": [
    {
     "data": {
      "text/html": [
       "<table border=\"1\" class=\"dataframe\">\n",
       "  <thead>\n",
       "    <tr style=\"text-align: right;\">\n",
       "      <th>MutatorClass</th>\n",
       "      <th>returnType</th>\n",
       "      <th>mmvariablesReferenced</th>\n",
       "      <th>mmhalsteadEffort</th>\n",
       "      <th>pploc</th>\n",
       "      <th>numExecuted</th>\n",
       "      <th>ccmaintainabilityIndexNC</th>\n",
       "      <th>mmexternalMethodsCalled</th>\n",
       "      <th>pptcc</th>\n",
       "      <th>ppfanin</th>\n",
       "      <th>mminstanceVariablesReferenced</th>\n",
       "      <th>ppmaintainabilityIndex</th>\n",
       "      <th>numAssertInTM</th>\n",
       "      <th>numTestCover</th>\n",
       "      <th>ppabstractness</th>\n",
       "      <th>ccexternalMethodCalls</th>\n",
       "      <th>numAssertInTC</th>\n",
       "      <th>ppnumberOfStatements</th>\n",
       "      <th>ppfanout</th>\n",
       "      <th>cchalsteadCumulativeVolume</th>\n",
       "      <th>cchalsteadEffort</th>\n",
       "      <th>ppnumberOfClasses</th>\n",
       "      <th>ccmaintainabilityIndex</th>\n",
       "      <th>ccunweightedClassSize</th>\n",
       "      <th>ppdistance</th>\n",
       "      <th>ccnumberOfStatements</th>\n",
       "      <th>ppnumberOfMethods</th>\n",
       "      <th>ppmaxcc</th>\n",
       "      <th>mmnumberOfExpressions</th>\n",
       "      <th>ppRVF</th>\n",
       "      <th>ccfanIn</th>\n",
       "      <th>mmhalsteadVocabulary</th>\n",
       "      <th>mmhalsteadDifficulty</th>\n",
       "      <th>ppinstability</th>\n",
       "      <th>ppmaintainabilityIndexNC</th>\n",
       "      <th>ppavcc</th>\n",
       "      <th>cchalsteadCumulativeBugs</th>\n",
       "      <th>ccimportedPackages</th>\n",
       "      <th>target</th>\n",
       "      <th>prediction</th>\n",
       "    </tr>\n",
       "  </thead>\n",
       "  <tbody>\n",
       "    <tr>\n",
       "      <td>2</td>\n",
       "      <td>3.0</td>\n",
       "      <td>-0.4481</td>\n",
       "      <td>-0.1296</td>\n",
       "      <td>-0.5070</td>\n",
       "      <td>-0.0365</td>\n",
       "      <td>-0.1725</td>\n",
       "      <td>-0.2879</td>\n",
       "      <td>-0.5199</td>\n",
       "      <td>-0.4919</td>\n",
       "      <td>-0.2584</td>\n",
       "      <td>-0.2045</td>\n",
       "      <td>-0.0607</td>\n",
       "      <td>-0.2274</td>\n",
       "      <td>-0.8997</td>\n",
       "      <td>-0.6239</td>\n",
       "      <td>-0.0696</td>\n",
       "      <td>-0.5039</td>\n",
       "      <td>-0.6352</td>\n",
       "      <td>-0.4287</td>\n",
       "      <td>-0.1489</td>\n",
       "      <td>-0.5214</td>\n",
       "      <td>-0.9177</td>\n",
       "      <td>-0.5355</td>\n",
       "      <td>-0.4136</td>\n",
       "      <td>-0.4719</td>\n",
       "      <td>-0.5354</td>\n",
       "      <td>-0.5419</td>\n",
       "      <td>-0.2230</td>\n",
       "      <td>-0.6411</td>\n",
       "      <td>-0.2805</td>\n",
       "      <td>-0.4697</td>\n",
       "      <td>-0.2805</td>\n",
       "      <td>1.0579</td>\n",
       "      <td>-0.5466</td>\n",
       "      <td>-0.1185</td>\n",
       "      <td>-0.4287</td>\n",
       "      <td>-0.6506</td>\n",
       "      <td>True</td>\n",
       "      <td>True</td>\n",
       "    </tr>\n",
       "    <tr>\n",
       "      <td>6</td>\n",
       "      <td>3.0</td>\n",
       "      <td>-0.4481</td>\n",
       "      <td>-0.1296</td>\n",
       "      <td>-0.5070</td>\n",
       "      <td>-0.0365</td>\n",
       "      <td>-0.1725</td>\n",
       "      <td>-0.2879</td>\n",
       "      <td>-0.5199</td>\n",
       "      <td>-0.4919</td>\n",
       "      <td>-0.2584</td>\n",
       "      <td>-0.2045</td>\n",
       "      <td>-0.0607</td>\n",
       "      <td>-0.2274</td>\n",
       "      <td>-0.8997</td>\n",
       "      <td>-0.6239</td>\n",
       "      <td>-0.0696</td>\n",
       "      <td>-0.5039</td>\n",
       "      <td>-0.6352</td>\n",
       "      <td>-0.4287</td>\n",
       "      <td>-0.1489</td>\n",
       "      <td>-0.5214</td>\n",
       "      <td>-0.9177</td>\n",
       "      <td>-0.5355</td>\n",
       "      <td>-0.4136</td>\n",
       "      <td>-0.4719</td>\n",
       "      <td>-0.5354</td>\n",
       "      <td>-0.5419</td>\n",
       "      <td>-0.2230</td>\n",
       "      <td>-0.6411</td>\n",
       "      <td>-0.2805</td>\n",
       "      <td>-0.4697</td>\n",
       "      <td>-0.2805</td>\n",
       "      <td>1.0579</td>\n",
       "      <td>-0.5466</td>\n",
       "      <td>-0.1185</td>\n",
       "      <td>-0.4287</td>\n",
       "      <td>-0.6506</td>\n",
       "      <td>True</td>\n",
       "      <td>True</td>\n",
       "    </tr>\n",
       "    <tr>\n",
       "      <td>6</td>\n",
       "      <td>3.0</td>\n",
       "      <td>-0.4481</td>\n",
       "      <td>-0.1296</td>\n",
       "      <td>-0.5070</td>\n",
       "      <td>-0.0365</td>\n",
       "      <td>-0.1725</td>\n",
       "      <td>-0.2879</td>\n",
       "      <td>-0.5199</td>\n",
       "      <td>-0.4919</td>\n",
       "      <td>-0.2584</td>\n",
       "      <td>-0.2045</td>\n",
       "      <td>-0.0607</td>\n",
       "      <td>-0.2274</td>\n",
       "      <td>-0.8997</td>\n",
       "      <td>-0.6239</td>\n",
       "      <td>-0.0696</td>\n",
       "      <td>-0.5039</td>\n",
       "      <td>-0.6352</td>\n",
       "      <td>-0.4287</td>\n",
       "      <td>-0.1489</td>\n",
       "      <td>-0.5214</td>\n",
       "      <td>-0.9177</td>\n",
       "      <td>-0.5355</td>\n",
       "      <td>-0.4136</td>\n",
       "      <td>-0.4719</td>\n",
       "      <td>-0.5354</td>\n",
       "      <td>-0.5419</td>\n",
       "      <td>-0.2230</td>\n",
       "      <td>-0.6411</td>\n",
       "      <td>-0.2805</td>\n",
       "      <td>-0.4697</td>\n",
       "      <td>-0.2805</td>\n",
       "      <td>1.0579</td>\n",
       "      <td>-0.5466</td>\n",
       "      <td>-0.1185</td>\n",
       "      <td>-0.4287</td>\n",
       "      <td>-0.6506</td>\n",
       "      <td>True</td>\n",
       "      <td>True</td>\n",
       "    </tr>\n",
       "    <tr>\n",
       "      <td>0</td>\n",
       "      <td>3.0</td>\n",
       "      <td>-0.4481</td>\n",
       "      <td>-0.1296</td>\n",
       "      <td>-0.5070</td>\n",
       "      <td>-0.0365</td>\n",
       "      <td>-0.1725</td>\n",
       "      <td>-0.2879</td>\n",
       "      <td>-0.5199</td>\n",
       "      <td>-0.4919</td>\n",
       "      <td>-0.2584</td>\n",
       "      <td>-0.2045</td>\n",
       "      <td>-0.0607</td>\n",
       "      <td>-0.2274</td>\n",
       "      <td>-0.8997</td>\n",
       "      <td>-0.6239</td>\n",
       "      <td>-0.0696</td>\n",
       "      <td>-0.5039</td>\n",
       "      <td>-0.6352</td>\n",
       "      <td>-0.4287</td>\n",
       "      <td>-0.1489</td>\n",
       "      <td>-0.5214</td>\n",
       "      <td>-0.9177</td>\n",
       "      <td>-0.5355</td>\n",
       "      <td>-0.4136</td>\n",
       "      <td>-0.4719</td>\n",
       "      <td>-0.5354</td>\n",
       "      <td>-0.5419</td>\n",
       "      <td>-0.2230</td>\n",
       "      <td>-0.6411</td>\n",
       "      <td>-0.2805</td>\n",
       "      <td>-0.4697</td>\n",
       "      <td>-0.2805</td>\n",
       "      <td>1.0579</td>\n",
       "      <td>-0.5466</td>\n",
       "      <td>-0.1185</td>\n",
       "      <td>-0.4287</td>\n",
       "      <td>-0.6506</td>\n",
       "      <td>True</td>\n",
       "      <td>True</td>\n",
       "    </tr>\n",
       "    <tr>\n",
       "      <td>0</td>\n",
       "      <td>3.0</td>\n",
       "      <td>-0.4481</td>\n",
       "      <td>-0.1296</td>\n",
       "      <td>-0.5070</td>\n",
       "      <td>-0.0365</td>\n",
       "      <td>-0.1725</td>\n",
       "      <td>-0.2879</td>\n",
       "      <td>-0.5199</td>\n",
       "      <td>-0.4919</td>\n",
       "      <td>-0.2584</td>\n",
       "      <td>-0.2045</td>\n",
       "      <td>-0.0607</td>\n",
       "      <td>-0.2274</td>\n",
       "      <td>-0.8997</td>\n",
       "      <td>-0.6239</td>\n",
       "      <td>-0.0696</td>\n",
       "      <td>-0.5039</td>\n",
       "      <td>-0.6352</td>\n",
       "      <td>-0.4287</td>\n",
       "      <td>-0.1489</td>\n",
       "      <td>-0.5214</td>\n",
       "      <td>-0.9177</td>\n",
       "      <td>-0.5355</td>\n",
       "      <td>-0.4136</td>\n",
       "      <td>-0.4719</td>\n",
       "      <td>-0.5354</td>\n",
       "      <td>-0.5419</td>\n",
       "      <td>-0.2230</td>\n",
       "      <td>-0.6411</td>\n",
       "      <td>-0.2805</td>\n",
       "      <td>-0.4697</td>\n",
       "      <td>-0.2805</td>\n",
       "      <td>1.0579</td>\n",
       "      <td>-0.5466</td>\n",
       "      <td>-0.1185</td>\n",
       "      <td>-0.4287</td>\n",
       "      <td>-0.6506</td>\n",
       "      <td>True</td>\n",
       "      <td>True</td>\n",
       "    </tr>\n",
       "  </tbody>\n",
       "</table>"
      ],
      "text/plain": [
       "<IPython.core.display.HTML object>"
      ]
     },
     "metadata": {},
     "output_type": "display_data"
    }
   ],
   "source": [
    "learn.show_results(5)"
   ]
  },
  {
   "cell_type": "code",
   "execution_count": 53,
   "metadata": {},
   "outputs": [
    {
     "data": {
      "text/html": [],
      "text/plain": [
       "<IPython.core.display.HTML object>"
      ]
     },
     "metadata": {},
     "output_type": "display_data"
    }
   ],
   "source": [
    "interp = ClassificationInterpretation.from_learner(learn)"
   ]
  },
  {
   "cell_type": "code",
   "execution_count": 54,
   "metadata": {},
   "outputs": [
    {
     "data": {
      "text/plain": [
       "array([[ 6845,  9812],\n",
       "       [13340, 37499]], dtype=int64)"
      ]
     },
     "execution_count": 54,
     "metadata": {},
     "output_type": "execute_result"
    }
   ],
   "source": [
    "interp.confusion_matrix()"
   ]
  },
  {
   "cell_type": "code",
   "execution_count": 55,
   "metadata": {},
   "outputs": [
    {
     "data": {
      "text/plain": [
       "[(True, False, 13340), (False, True, 9812)]"
      ]
     },
     "execution_count": 55,
     "metadata": {},
     "output_type": "execute_result"
    }
   ],
   "source": [
    "interp.most_confused()"
   ]
  },
  {
   "cell_type": "code",
   "execution_count": 56,
   "metadata": {},
   "outputs": [
    {
     "data": {
      "image/png": "[encoded data removed]",
      "text/plain": [
       "<Figure size 432x288 with 1 Axes>"
      ]
     },
     "metadata": {
      "needs_background": "light"
     },
     "output_type": "display_data"
    }
   ],
   "source": [
    "interp.plot_confusion_matrix(normalize=True)"
   ]
  },
  {
   "cell_type": "code",
   "execution_count": 46,
   "metadata": {},
   "outputs": [
    {
     "data": {
      "text/plain": [
       "Learner(data=TabularDataBunch;\n",
       "\n",
       "Train: LabelList (1429113 items)\n",
       "x: TabularList\n",
       "MutatorClass 2; returnType 3.0; mmvariablesReferenced -0.4481; mmhalsteadEffort -0.1296; pploc -0.5070; numExecuted -0.0365; ccmaintainabilityIndexNC -0.1725; mmexternalMethodsCalled -0.2879; pptcc -0.5199; ppfanin -0.4919; mminstanceVariablesReferenced -0.2584; ppmaintainabilityIndex -0.2045; numAssertInTM -0.0607; numTestCover -0.2274; ppabstractness -0.8997; ccexternalMethodCalls -0.6239; numAssertInTC -0.0696; ppnumberOfStatements -0.5039; ppfanout -0.6352; cchalsteadCumulativeVolume -0.4287; cchalsteadEffort -0.1489; ppnumberOfClasses -0.5214; ccmaintainabilityIndex -0.9177; ccunweightedClassSize -0.5355; ppdistance -0.4136; ccnumberOfStatements -0.4719; ppnumberOfMethods -0.5354; ppmaxcc -0.5419; mmnumberOfExpressions -0.2230; ppRVF -0.6411; ccfanIn -0.2805; mmhalsteadVocabulary -0.4697; mmhalsteadDifficulty -0.2805; ppinstability 1.0579; ppmaintainabilityIndexNC -0.5466; ppavcc -0.1185; cchalsteadCumulativeBugs -0.4287; ccimportedPackages -0.6506; ,MutatorClass 6; returnType 3.0; mmvariablesReferenced -0.4481; mmhalsteadEffort -0.1296; pploc -0.5070; numExecuted -0.0365; ccmaintainabilityIndexNC -0.1725; mmexternalMethodsCalled -0.2879; pptcc -0.5199; ppfanin -0.4919; mminstanceVariablesReferenced -0.2584; ppmaintainabilityIndex -0.2045; numAssertInTM -0.0607; numTestCover -0.2274; ppabstractness -0.8997; ccexternalMethodCalls -0.6239; numAssertInTC -0.0696; ppnumberOfStatements -0.5039; ppfanout -0.6352; cchalsteadCumulativeVolume -0.4287; cchalsteadEffort -0.1489; ppnumberOfClasses -0.5214; ccmaintainabilityIndex -0.9177; ccunweightedClassSize -0.5355; ppdistance -0.4136; ccnumberOfStatements -0.4719; ppnumberOfMethods -0.5354; ppmaxcc -0.5419; mmnumberOfExpressions -0.2230; ppRVF -0.6411; ccfanIn -0.2805; mmhalsteadVocabulary -0.4697; mmhalsteadDifficulty -0.2805; ppinstability 1.0579; ppmaintainabilityIndexNC -0.5466; ppavcc -0.1185; cchalsteadCumulativeBugs -0.4287; ccimportedPackages -0.6506; ,MutatorClass 6; returnType 3.0; mmvariablesReferenced -0.4481; mmhalsteadEffort -0.1296; pploc -0.5070; numExecuted -0.0365; ccmaintainabilityIndexNC -0.1725; mmexternalMethodsCalled -0.2879; pptcc -0.5199; ppfanin -0.4919; mminstanceVariablesReferenced -0.2584; ppmaintainabilityIndex -0.2045; numAssertInTM -0.0607; numTestCover -0.2274; ppabstractness -0.8997; ccexternalMethodCalls -0.6239; numAssertInTC -0.0696; ppnumberOfStatements -0.5039; ppfanout -0.6352; cchalsteadCumulativeVolume -0.4287; cchalsteadEffort -0.1489; ppnumberOfClasses -0.5214; ccmaintainabilityIndex -0.9177; ccunweightedClassSize -0.5355; ppdistance -0.4136; ccnumberOfStatements -0.4719; ppnumberOfMethods -0.5354; ppmaxcc -0.5419; mmnumberOfExpressions -0.2230; ppRVF -0.6411; ccfanIn -0.2805; mmhalsteadVocabulary -0.4697; mmhalsteadDifficulty -0.2805; ppinstability 1.0579; ppmaintainabilityIndexNC -0.5466; ppavcc -0.1185; cchalsteadCumulativeBugs -0.4287; ccimportedPackages -0.6506; ,MutatorClass 0; returnType 3.0; mmvariablesReferenced -0.4481; mmhalsteadEffort -0.1296; pploc -0.5070; numExecuted -0.0365; ccmaintainabilityIndexNC -0.1725; mmexternalMethodsCalled -0.2879; pptcc -0.5199; ppfanin -0.4919; mminstanceVariablesReferenced -0.2584; ppmaintainabilityIndex -0.2045; numAssertInTM -0.0607; numTestCover -0.2274; ppabstractness -0.8997; ccexternalMethodCalls -0.6239; numAssertInTC -0.0696; ppnumberOfStatements -0.5039; ppfanout -0.6352; cchalsteadCumulativeVolume -0.4287; cchalsteadEffort -0.1489; ppnumberOfClasses -0.5214; ccmaintainabilityIndex -0.9177; ccunweightedClassSize -0.5355; ppdistance -0.4136; ccnumberOfStatements -0.4719; ppnumberOfMethods -0.5354; ppmaxcc -0.5419; mmnumberOfExpressions -0.2230; ppRVF -0.6411; ccfanIn -0.2805; mmhalsteadVocabulary -0.4697; mmhalsteadDifficulty -0.2805; ppinstability 1.0579; ppmaintainabilityIndexNC -0.5466; ppavcc -0.1185; cchalsteadCumulativeBugs -0.4287; ccimportedPackages -0.6506; ,MutatorClass 0; returnType 3.0; mmvariablesReferenced -0.4481; mmhalsteadEffort -0.1296; pploc -0.5070; numExecuted -0.0365; ccmaintainabilityIndexNC -0.1725; mmexternalMethodsCalled -0.2879; pptcc -0.5199; ppfanin -0.4919; mminstanceVariablesReferenced -0.2584; ppmaintainabilityIndex -0.2045; numAssertInTM -0.0607; numTestCover -0.2274; ppabstractness -0.8997; ccexternalMethodCalls -0.6239; numAssertInTC -0.0696; ppnumberOfStatements -0.5039; ppfanout -0.6352; cchalsteadCumulativeVolume -0.4287; cchalsteadEffort -0.1489; ppnumberOfClasses -0.5214; ccmaintainabilityIndex -0.9177; ccunweightedClassSize -0.5355; ppdistance -0.4136; ccnumberOfStatements -0.4719; ppnumberOfMethods -0.5354; ppmaxcc -0.5419; mmnumberOfExpressions -0.2230; ppRVF -0.6411; ccfanIn -0.2805; mmhalsteadVocabulary -0.4697; mmhalsteadDifficulty -0.2805; ppinstability 1.0579; ppmaintainabilityIndexNC -0.5466; ppavcc -0.1185; cchalsteadCumulativeBugs -0.4287; ccimportedPackages -0.6506; \n",
       "y: CategoryList\n",
       "True,True,True,True,True\n",
       "Path: ..\\docs\\dumps;\n",
       "\n",
       "Valid: LabelList (67496 items)\n",
       "x: TabularList\n",
       "MutatorClass 3; returnType 0.0; mmvariablesReferenced -0.4481; mmhalsteadEffort -0.1297; pploc -0.4441; numExecuted -0.0365; ccmaintainabilityIndexNC 0.6104; mmexternalMethodsCalled -0.2612; pptcc -0.4593; ppfanin -0.4252; mminstanceVariablesReferenced -0.2584; ppmaintainabilityIndex 1.6148; numAssertInTM -0.0607; numTestCover -0.2274; ppabstractness -0.8997; ccexternalMethodCalls 1.8572; numAssertInTC -0.0696; ppnumberOfStatements -0.4574; ppfanout 0.1360; cchalsteadCumulativeVolume 0.5085; cchalsteadEffort -0.1207; ppnumberOfClasses -0.5331; ccmaintainabilityIndex 0.3577; ccunweightedClassSize 1.8065; ppdistance -0.9692; ccnumberOfStatements 0.5508; ppnumberOfMethods -0.4283; ppmaxcc -0.5053; mmnumberOfExpressions -0.2194; ppRVF -0.6679; ccfanIn -0.2530; mmhalsteadVocabulary -0.4574; mmhalsteadDifficulty -0.3576; ppinstability 1.6826; ppmaintainabilityIndexNC 0.8002; ppavcc -0.3315; cchalsteadCumulativeBugs 0.5085; ccimportedPackages 4.9412; ,MutatorClass 0; returnType 0.0; mmvariablesReferenced -0.4481; mmhalsteadEffort -0.1297; pploc -0.4441; numExecuted -0.0365; ccmaintainabilityIndexNC 0.6104; mmexternalMethodsCalled -0.2612; pptcc -0.4593; ppfanin -0.4252; mminstanceVariablesReferenced -0.2584; ppmaintainabilityIndex 1.6148; numAssertInTM -0.0607; numTestCover -0.2274; ppabstractness -0.8997; ccexternalMethodCalls 1.8572; numAssertInTC -0.0696; ppnumberOfStatements -0.4574; ppfanout 0.1360; cchalsteadCumulativeVolume 0.5085; cchalsteadEffort -0.1207; ppnumberOfClasses -0.5331; ccmaintainabilityIndex 0.3577; ccunweightedClassSize 1.8065; ppdistance -0.9692; ccnumberOfStatements 0.5508; ppnumberOfMethods -0.4283; ppmaxcc -0.5053; mmnumberOfExpressions -0.2194; ppRVF -0.6679; ccfanIn -0.2530; mmhalsteadVocabulary -0.4574; mmhalsteadDifficulty -0.3576; ppinstability 1.6826; ppmaintainabilityIndexNC 0.8002; ppavcc -0.3315; cchalsteadCumulativeBugs 0.5085; ccimportedPackages 4.9412; ,MutatorClass 1; returnType 0.0; mmvariablesReferenced -0.4481; mmhalsteadEffort -0.1297; pploc -0.4441; numExecuted -0.0365; ccmaintainabilityIndexNC 0.6104; mmexternalMethodsCalled -0.2612; pptcc -0.4593; ppfanin -0.4252; mminstanceVariablesReferenced -0.2584; ppmaintainabilityIndex 1.6148; numAssertInTM -0.0607; numTestCover -0.2274; ppabstractness -0.8997; ccexternalMethodCalls 1.8572; numAssertInTC -0.0696; ppnumberOfStatements -0.4574; ppfanout 0.1360; cchalsteadCumulativeVolume 0.5085; cchalsteadEffort -0.1207; ppnumberOfClasses -0.5331; ccmaintainabilityIndex 0.3577; ccunweightedClassSize 1.8065; ppdistance -0.9692; ccnumberOfStatements 0.5508; ppnumberOfMethods -0.4283; ppmaxcc -0.5053; mmnumberOfExpressions -0.2194; ppRVF -0.6679; ccfanIn -0.2530; mmhalsteadVocabulary -0.4574; mmhalsteadDifficulty -0.3576; ppinstability 1.6826; ppmaintainabilityIndexNC 0.8002; ppavcc -0.3315; cchalsteadCumulativeBugs 0.5085; ccimportedPackages 4.9412; ,MutatorClass 1; returnType 0.0; mmvariablesReferenced -0.4481; mmhalsteadEffort -0.1297; pploc -0.4441; numExecuted -0.0365; ccmaintainabilityIndexNC 0.6104; mmexternalMethodsCalled -0.2612; pptcc -0.4593; ppfanin -0.4252; mminstanceVariablesReferenced -0.2584; ppmaintainabilityIndex 1.6148; numAssertInTM -0.0607; numTestCover -0.2274; ppabstractness -0.8997; ccexternalMethodCalls 1.8572; numAssertInTC -0.0696; ppnumberOfStatements -0.4574; ppfanout 0.1360; cchalsteadCumulativeVolume 0.5085; cchalsteadEffort -0.1207; ppnumberOfClasses -0.5331; ccmaintainabilityIndex 0.3577; ccunweightedClassSize 1.8065; ppdistance -0.9692; ccnumberOfStatements 0.5508; ppnumberOfMethods -0.4283; ppmaxcc -0.5053; mmnumberOfExpressions -0.2194; ppRVF -0.6679; ccfanIn -0.2530; mmhalsteadVocabulary -0.4574; mmhalsteadDifficulty -0.3576; ppinstability 1.6826; ppmaintainabilityIndexNC 0.8002; ppavcc -0.3315; cchalsteadCumulativeBugs 0.5085; ccimportedPackages 4.9412; ,MutatorClass 8; returnType 0.0; mmvariablesReferenced -0.4481; mmhalsteadEffort -0.1297; pploc -0.4441; numExecuted -0.0365; ccmaintainabilityIndexNC 0.6104; mmexternalMethodsCalled -0.2612; pptcc -0.4593; ppfanin -0.4252; mminstanceVariablesReferenced -0.2584; ppmaintainabilityIndex 1.6148; numAssertInTM -0.0607; numTestCover -0.2274; ppabstractness -0.8997; ccexternalMethodCalls 1.8572; numAssertInTC -0.0696; ppnumberOfStatements -0.4574; ppfanout 0.1360; cchalsteadCumulativeVolume 0.5085; cchalsteadEffort -0.1207; ppnumberOfClasses -0.5331; ccmaintainabilityIndex 0.3577; ccunweightedClassSize 1.8065; ppdistance -0.9692; ccnumberOfStatements 0.5508; ppnumberOfMethods -0.4283; ppmaxcc -0.5053; mmnumberOfExpressions -0.2194; ppRVF -0.6679; ccfanIn -0.2530; mmhalsteadVocabulary -0.4574; mmhalsteadDifficulty -0.3576; ppinstability 1.6826; ppmaintainabilityIndexNC 0.8002; ppavcc -0.3315; cchalsteadCumulativeBugs 0.5085; ccimportedPackages 4.9412; \n",
       "y: CategoryList\n",
       "True,True,False,True,True\n",
       "Path: ..\\docs\\dumps;\n",
       "\n",
       "Test: LabelList (58476 items)\n",
       "x: TabularList\n",
       "MutatorClass 5; returnType 0.0; mmvariablesReferenced -0.5294; mmhalsteadEffort -0.1300; pploc -0.5083; numExecuted -0.0365; ccmaintainabilityIndexNC 0.5781; mmexternalMethodsCalled -0.3145; pptcc -0.5184; ppfanin -0.4252; mminstanceVariablesReferenced -0.2584; ppmaintainabilityIndex 0.4576; numAssertInTM -0.0607; numTestCover -0.0568; ppabstractness -0.8997; ccexternalMethodCalls -0.2330; numAssertInTC -0.0696; ppnumberOfStatements -0.5093; ppfanout -0.4810; cchalsteadCumulativeVolume -0.3958; cchalsteadEffort -0.1490; ppnumberOfClasses -0.5331; ccmaintainabilityIndex 0.3384; ccunweightedClassSize -0.4098; ppdistance -0.0803; ccnumberOfStatements -0.4478; ppnumberOfMethods -0.5257; ppmaxcc -0.5784; mmnumberOfExpressions -0.2303; ppRVF -0.5606; ccfanIn -0.2530; mmhalsteadVocabulary -0.5803; mmhalsteadDifficulty -0.4391; ppinstability 0.6831; ppmaintainabilityIndexNC 1.0713; ppavcc -0.3449; cchalsteadCumulativeBugs -0.3958; ccimportedPackages 0.6808; ,MutatorClass 0; returnType 2.0; mmvariablesReferenced -0.5294; mmhalsteadEffort -0.1300; pploc -0.5083; numExecuted -0.0365; ccmaintainabilityIndexNC 0.5781; mmexternalMethodsCalled -0.2879; pptcc -0.5184; ppfanin -0.4252; mminstanceVariablesReferenced -0.1695; ppmaintainabilityIndex 0.4576; numAssertInTM -0.0607; numTestCover -0.2274; ppabstractness -0.8997; ccexternalMethodCalls -0.2330; numAssertInTC -0.0696; ppnumberOfStatements -0.5093; ppfanout -0.4810; cchalsteadCumulativeVolume -0.3958; cchalsteadEffort -0.1490; ppnumberOfClasses -0.5331; ccmaintainabilityIndex 0.3384; ccunweightedClassSize -0.4098; ppdistance -0.0803; ccnumberOfStatements -0.4478; ppnumberOfMethods -0.5257; ppmaxcc -0.5784; mmnumberOfExpressions -0.2303; ppRVF -0.5606; ccfanIn -0.2530; mmhalsteadVocabulary -0.5311; mmhalsteadDifficulty -0.4467; ppinstability 0.6831; ppmaintainabilityIndexNC 1.0713; ppavcc -0.3449; cchalsteadCumulativeBugs -0.3958; ccimportedPackages 0.6808; ,MutatorClass 4; returnType 2.0; mmvariablesReferenced -0.5294; mmhalsteadEffort -0.1300; pploc -0.5083; numExecuted -0.0365; ccmaintainabilityIndexNC 0.5781; mmexternalMethodsCalled -0.2879; pptcc -0.5184; ppfanin -0.4252; mminstanceVariablesReferenced -0.1695; ppmaintainabilityIndex 0.4576; numAssertInTM -0.0607; numTestCover -0.2274; ppabstractness -0.8997; ccexternalMethodCalls -0.2330; numAssertInTC -0.0696; ppnumberOfStatements -0.5093; ppfanout -0.4810; cchalsteadCumulativeVolume -0.3958; cchalsteadEffort -0.1490; ppnumberOfClasses -0.5331; ccmaintainabilityIndex 0.3384; ccunweightedClassSize -0.4098; ppdistance -0.0803; ccnumberOfStatements -0.4478; ppnumberOfMethods -0.5257; ppmaxcc -0.5784; mmnumberOfExpressions -0.2303; ppRVF -0.5606; ccfanIn -0.2530; mmhalsteadVocabulary -0.5311; mmhalsteadDifficulty -0.4467; ppinstability 0.6831; ppmaintainabilityIndexNC 1.0713; ppavcc -0.3449; cchalsteadCumulativeBugs -0.3958; ccimportedPackages 0.6808; ,MutatorClass 0; returnType 1.0; mmvariablesReferenced -0.5700; mmhalsteadEffort -0.1300; pploc -0.5083; numExecuted -0.0365; ccmaintainabilityIndexNC 0.5781; mmexternalMethodsCalled -0.2879; pptcc -0.5184; ppfanin -0.4252; mminstanceVariablesReferenced -0.2584; ppmaintainabilityIndex 0.4576; numAssertInTM -0.0607; numTestCover -0.2274; ppabstractness -0.8997; ccexternalMethodCalls -0.2330; numAssertInTC -0.0696; ppnumberOfStatements -0.5093; ppfanout -0.4810; cchalsteadCumulativeVolume -0.3958; cchalsteadEffort -0.1490; ppnumberOfClasses -0.5331; ccmaintainabilityIndex 0.3384; ccunweightedClassSize -0.4098; ppdistance -0.0803; ccnumberOfStatements -0.4478; ppnumberOfMethods -0.5257; ppmaxcc -0.5784; mmnumberOfExpressions -0.2303; ppRVF -0.5606; ccfanIn -0.2530; mmhalsteadVocabulary -0.5803; mmhalsteadDifficulty -0.4658; ppinstability 0.6831; ppmaintainabilityIndexNC 1.0713; ppavcc -0.3449; cchalsteadCumulativeBugs -0.3958; ccimportedPackages 0.6808; ,MutatorClass 4; returnType 1.0; mmvariablesReferenced -0.5700; mmhalsteadEffort -0.1300; pploc -0.5083; numExecuted -0.0365; ccmaintainabilityIndexNC 0.5781; mmexternalMethodsCalled -0.2879; pptcc -0.5184; ppfanin -0.4252; mminstanceVariablesReferenced -0.2584; ppmaintainabilityIndex 0.4576; numAssertInTM -0.0607; numTestCover -0.2274; ppabstractness -0.8997; ccexternalMethodCalls -0.2330; numAssertInTC -0.0696; ppnumberOfStatements -0.5093; ppfanout -0.4810; cchalsteadCumulativeVolume -0.3958; cchalsteadEffort -0.1490; ppnumberOfClasses -0.5331; ccmaintainabilityIndex 0.3384; ccunweightedClassSize -0.4098; ppdistance -0.0803; ccnumberOfStatements -0.4478; ppnumberOfMethods -0.5257; ppmaxcc -0.5784; mmnumberOfExpressions -0.2303; ppRVF -0.5606; ccfanIn -0.2530; mmhalsteadVocabulary -0.5803; mmhalsteadDifficulty -0.4658; ppinstability 0.6831; ppmaintainabilityIndexNC 1.0713; ppavcc -0.3449; cchalsteadCumulativeBugs -0.3958; ccimportedPackages 0.6808; \n",
       "y: EmptyLabelList\n",
       ",,,,\n",
       "Path: ..\\docs\\dumps, model=TabularModel(\n",
       "  (embeds): ModuleList(\n",
       "    (0): Embedding(18, 8)\n",
       "    (1): Embedding(22, 10)\n",
       "  )\n",
       "  (emb_drop): Dropout(p=0.0, inplace=False)\n",
       "  (bn_cont): BatchNorm1d(36, eps=1e-05, momentum=0.1, affine=True, track_running_stats=True)\n",
       "  (layers): Sequential(\n",
       "    (0): Linear(in_features=54, out_features=200, bias=True)\n",
       "    (1): ReLU(inplace=True)\n",
       "    (2): BatchNorm1d(200, eps=1e-05, momentum=0.1, affine=True, track_running_stats=True)\n",
       "    (3): Linear(in_features=200, out_features=100, bias=True)\n",
       "    (4): ReLU(inplace=True)\n",
       "    (5): BatchNorm1d(100, eps=1e-05, momentum=0.1, affine=True, track_running_stats=True)\n",
       "    (6): Linear(in_features=100, out_features=2, bias=True)\n",
       "  )\n",
       "), opt_func=functools.partial(<class 'torch.optim.adam.Adam'>, betas=(0.9, 0.99)), loss_func=FlattenedLoss of CrossEntropyLoss(), metrics=[<function accuracy at 0x00000207A721EC80>, Precision(average='binary', pos_label=1, eps=1e-09), Recall(average='binary', pos_label=1, eps=1e-09), MatthewsCorreff(), AUROC(), FBeta(average='binary', pos_label=1, eps=1e-09, beta=1)], true_wd=True, bn_wd=True, wd=0.01, train_bn=True, path=WindowsPath('../docs/dumps'), model_dir='models', callback_fns=[functools.partial(<class 'fastai.basic_train.Recorder'>, add_time=True, silent=False)], callbacks=[], layer_groups=[Sequential(\n",
       "  (0): Embedding(18, 8)\n",
       "  (1): Embedding(22, 10)\n",
       "  (2): Dropout(p=0.0, inplace=False)\n",
       "  (3): BatchNorm1d(36, eps=1e-05, momentum=0.1, affine=True, track_running_stats=True)\n",
       "  (4): Linear(in_features=54, out_features=200, bias=True)\n",
       "  (5): ReLU(inplace=True)\n",
       "  (6): BatchNorm1d(200, eps=1e-05, momentum=0.1, affine=True, track_running_stats=True)\n",
       "  (7): Linear(in_features=200, out_features=100, bias=True)\n",
       "  (8): ReLU(inplace=True)\n",
       "  (9): BatchNorm1d(100, eps=1e-05, momentum=0.1, affine=True, track_running_stats=True)\n",
       "  (10): Linear(in_features=100, out_features=2, bias=True)\n",
       ")], add_time=True, silent=False)"
      ]
     },
     "execution_count": 46,
     "metadata": {},
     "output_type": "execute_result"
    }
   ],
   "source": [
    "learn.save('fastai_exp_5')\n",
    "learn.load('fastai_exp_5')"
   ]
  },
  {
   "cell_type": "code",
   "execution_count": 47,
   "metadata": {},
   "outputs": [],
   "source": [
    "learn.unfreeze()"
   ]
  },
  {
   "cell_type": "code",
   "execution_count": 48,
   "metadata": {},
   "outputs": [
    {
     "data": {
      "text/html": [
       "\n",
       "    <div>\n",
       "        <style>\n",
       "            /* Turns off some styling */\n",
       "            progress {\n",
       "                /* gets rid of default border in Firefox and Opera. */\n",
       "                border: none;\n",
       "                /* Needs to be in here for Safari polyfill so background images work as expected. */\n",
       "                background-size: auto;\n",
       "            }\n",
       "            .progress-bar-interrupted, .progress-bar-interrupted::-webkit-progress-bar {\n",
       "                background: #F44336;\n",
       "            }\n",
       "        </style>\n",
       "      <progress value='0' class='' max='1' style='width:300px; height:20px; vertical-align: middle;'></progress>\n",
       "      0.00% [0/1 00:00<00:00]\n",
       "    </div>\n",
       "    \n",
       "<table border=\"1\" class=\"dataframe\">\n",
       "  <thead>\n",
       "    <tr style=\"text-align: left;\">\n",
       "      <th>epoch</th>\n",
       "      <th>train_loss</th>\n",
       "      <th>valid_loss</th>\n",
       "      <th>accuracy</th>\n",
       "      <th>precision</th>\n",
       "      <th>recall</th>\n",
       "      <th>matthews_correff</th>\n",
       "      <th>auroc</th>\n",
       "      <th>f_beta</th>\n",
       "      <th>time</th>\n",
       "    </tr>\n",
       "  </thead>\n",
       "  <tbody>\n",
       "  </tbody>\n",
       "</table><p>\n",
       "\n",
       "    <div>\n",
       "        <style>\n",
       "            /* Turns off some styling */\n",
       "            progress {\n",
       "                /* gets rid of default border in Firefox and Opera. */\n",
       "                border: none;\n",
       "                /* Needs to be in here for Safari polyfill so background images work as expected. */\n",
       "                background-size: auto;\n",
       "            }\n",
       "            .progress-bar-interrupted, .progress-bar-interrupted::-webkit-progress-bar {\n",
       "                background: #F44336;\n",
       "            }\n",
       "        </style>\n",
       "      <progress value='91' class='' max='22329' style='width:300px; height:20px; vertical-align: middle;'></progress>\n",
       "      0.41% [91/22329 01:06<4:30:46 1.6785]\n",
       "    </div>\n",
       "    "
      ],
      "text/plain": [
       "<IPython.core.display.HTML object>"
      ]
     },
     "metadata": {},
     "output_type": "display_data"
    },
    {
     "name": "stdout",
     "output_type": "stream",
     "text": [
      "LR Finder is complete, type {learner_name}.recorder.plot() to see the graph.\n"
     ]
    }
   ],
   "source": [
    "learn.lr_find()"
   ]
  },
  {
   "cell_type": "code",
   "execution_count": 49,
   "metadata": {},
   "outputs": [
    {
     "data": {
      "image/png": "[encoded data removed]",
      "text/plain": [
       "<Figure size 432x288 with 1 Axes>"
      ]
     },
     "metadata": {
      "needs_background": "light"
     },
     "output_type": "display_data"
    }
   ],
   "source": [
    "learn.recorder.plot()"
   ]
  },
  {
   "cell_type": "code",
   "execution_count": 34,
   "metadata": {},
   "outputs": [],
   "source": [
    "doc(learn.fit_one_cycle)"
   ]
  },
  {
   "cell_type": "code",
   "execution_count": 50,
   "metadata": {},
   "outputs": [],
   "source": [
    "learn.load('fastai_exp_5')\n",
    "learn.unfreeze()"
   ]
  },
  {
   "cell_type": "code",
   "execution_count": 51,
   "metadata": {},
   "outputs": [],
   "source": [
    "lr = 1e-2"
   ]
  },
  {
   "cell_type": "code",
   "execution_count": 52,
   "metadata": {},
   "outputs": [
    {
     "data": {
      "text/html": [
       "<table border=\"1\" class=\"dataframe\">\n",
       "  <thead>\n",
       "    <tr style=\"text-align: left;\">\n",
       "      <th>epoch</th>\n",
       "      <th>train_loss</th>\n",
       "      <th>valid_loss</th>\n",
       "      <th>accuracy</th>\n",
       "      <th>precision</th>\n",
       "      <th>recall</th>\n",
       "      <th>matthews_correff</th>\n",
       "      <th>auroc</th>\n",
       "      <th>f_beta</th>\n",
       "      <th>time</th>\n",
       "    </tr>\n",
       "  </thead>\n",
       "  <tbody>\n",
       "    <tr>\n",
       "      <td>0</td>\n",
       "      <td>0.565547</td>\n",
       "      <td>0.620186</td>\n",
       "      <td>0.656987</td>\n",
       "      <td>0.792606</td>\n",
       "      <td>0.737603</td>\n",
       "      <td>0.139878</td>\n",
       "      <td>0.615886</td>\n",
       "      <td>0.764116</td>\n",
       "      <td>09:14</td>\n",
       "    </tr>\n",
       "  </tbody>\n",
       "</table>"
      ],
      "text/plain": [
       "<IPython.core.display.HTML object>"
      ]
     },
     "metadata": {},
     "output_type": "display_data"
    }
   ],
   "source": [
    "learn.fit_one_cycle(1,slice(lr))"
   ]
  },
  {
   "cell_type": "code",
   "execution_count": 57,
   "metadata": {},
   "outputs": [
    {
     "data": {
      "text/html": [],
      "text/plain": [
       "<IPython.core.display.HTML object>"
      ]
     },
     "metadata": {},
     "output_type": "display_data"
    }
   ],
   "source": [
    "preds,_ = learn.get_preds(ds_type=DatasetType.Test)\n",
    "result = preds.numpy()[:, 0]"
   ]
  },
  {
   "cell_type": "code",
   "execution_count": 65,
   "metadata": {},
   "outputs": [
    {
     "data": {
      "text/plain": [
       "(58476,\n",
       " tensor([[0.5999, 0.4001],\n",
       "         [0.3871, 0.6129],\n",
       "         [0.3229, 0.6771],\n",
       "         ...,\n",
       "         [0.6018, 0.3982],\n",
       "         [0.3312, 0.6688],\n",
       "         [0.3572, 0.6428]]))"
      ]
     },
     "execution_count": 65,
     "metadata": {},
     "output_type": "execute_result"
    }
   ],
   "source": [
    "len(preds), preds"
   ]
  },
  {
   "cell_type": "code",
   "execution_count": 61,
   "metadata": {},
   "outputs": [
    {
     "data": {
      "text/plain": [
       "(array([  399,  3019, 10898, 18911, 25249, 25249, 18911, 10898,  3019,   399], dtype=int64),\n",
       " array([0.017446, 0.113957, 0.210468, 0.306979, 0.403489, 0.5     , 0.596511, 0.693021, 0.789532, 0.886043, 0.982554],\n",
       "       dtype=float32))"
      ]
     },
     "execution_count": 61,
     "metadata": {},
     "output_type": "execute_result"
    }
   ],
   "source": [
    "np.histogram(preds)"
   ]
  },
  {
   "cell_type": "code",
   "execution_count": 66,
   "metadata": {},
   "outputs": [
    {
     "data": {
      "text/plain": [
       "0        False\n",
       "1         True\n",
       "2         True\n",
       "3         True\n",
       "4         True\n",
       "         ...  \n",
       "58471    False\n",
       "58472    False\n",
       "58473    False\n",
       "58474    False\n",
       "58475    False\n",
       "Name: Detected, Length: 58476, dtype: bool"
      ]
     },
     "execution_count": 66,
     "metadata": {},
     "output_type": "execute_result"
    }
   ],
   "source": [
    "test_data.Detected"
   ]
  },
  {
   "cell_type": "code",
   "execution_count": 106,
   "metadata": {},
   "outputs": [
    {
     "name": "stdout",
     "output_type": "stream",
     "text": [
      "0.6954860849169364\n"
     ]
    }
   ],
   "source": [
    "from sklearn.metrics import average_precision_score, precision_score, recall_score\n",
    "print(average_precision_score(test_data.Detected, preds[:,1] >= 0.5, average='micro'))"
   ]
  },
  {
   "cell_type": "code",
   "execution_count": 104,
   "metadata": {},
   "outputs": [
    {
     "data": {
      "text/plain": [
       "0.5958154402844242"
      ]
     },
     "execution_count": 104,
     "metadata": {},
     "output_type": "execute_result"
    }
   ],
   "source": [
    "from sklearn import metrics\n",
    "metrics.roc_auc_score(test_data.Detected, preds[:,1] >= 0.5)"
   ]
  },
  {
   "cell_type": "code",
   "execution_count": 103,
   "metadata": {},
   "outputs": [
    {
     "name": "stdout",
     "output_type": "stream",
     "text": [
      "              precision    recall  f1-score   support\n",
      "\n",
      "       False       0.48      0.48      0.48     20633\n",
      "        True       0.71      0.71      0.71     37843\n",
      "\n",
      "    accuracy                           0.63     58476\n",
      "   macro avg       0.60      0.60      0.60     58476\n",
      "weighted avg       0.63      0.63      0.63     58476\n",
      "\n"
     ]
    }
   ],
   "source": [
    "from sklearn.metrics import classification_report\n",
    "print(classification_report(test_data.Detected, preds[:,1] >= 0.5))"
   ]
  },
  {
   "cell_type": "code",
   "execution_count": 100,
   "metadata": {},
   "outputs": [],
   "source": [
    "with open(dPath / \"fastai_exp_5.pkl\", 'wb') as filename:\n",
    "    pickle.dump(preds,filename)"
   ]
  },
  {
   "cell_type": "code",
   "execution_count": 107,
   "metadata": {},
   "outputs": [
    {
     "data": {
      "text/plain": [
       "(array([    8,   264,  2210,  7068, 11811, 13225, 12213,  8602,  2707,   368], dtype=int64),\n",
       " array([0.029793, 0.125069, 0.220345, 0.315621, 0.410897, 0.506173, 0.601449, 0.696725, 0.792002, 0.887278, 0.982554],\n",
       "       dtype=float32))"
      ]
     },
     "execution_count": 107,
     "metadata": {},
     "output_type": "execute_result"
    }
   ],
   "source": [
    "np.histogram(preds[:,1])"
   ]
  }
 ],
 "metadata": {
  "kernelspec": {
   "display_name": "Python 3",
   "language": "python",
   "name": "python3"
  },
  "language_info": {
   "codemirror_mode": {
    "name": "ipython",
    "version": 3
   },
   "file_extension": ".py",
   "mimetype": "text/x-python",
   "name": "python",
   "nbconvert_exporter": "python",
   "pygments_lexer": "ipython3",
   "version": "3.6.10"
  }
 },
 "nbformat": 4,
 "nbformat_minor": 4
}

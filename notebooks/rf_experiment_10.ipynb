{
 "cells": [
  {
   "cell_type": "code",
   "execution_count": 8,
   "metadata": {},
   "outputs": [],
   "source": [
    "import pandas as pd\n",
    "import numpy as np"
   ]
  },
  {
   "cell_type": "code",
   "execution_count": 9,
   "metadata": {},
   "outputs": [],
   "source": [
    "from pathlib import Path"
   ]
  },
  {
   "cell_type": "code",
   "execution_count": 10,
   "metadata": {},
   "outputs": [],
   "source": [
    "dPath = Path(\"../docs/dumps\")"
   ]
  },
  {
   "cell_type": "code",
   "execution_count": 11,
   "metadata": {},
   "outputs": [],
   "source": [
    "import pickle"
   ]
  },
  {
   "cell_type": "code",
   "execution_count": 12,
   "metadata": {},
   "outputs": [],
   "source": [
    "with open(dPath / \"train_data.pkl\", 'rb') as filename:\n",
    "    train_data = pickle.load(filename)"
   ]
  },
  {
   "cell_type": "code",
   "execution_count": 13,
   "metadata": {},
   "outputs": [],
   "source": [
    "with open(dPath / \"valid_data.pkl\", 'rb') as filename:\n",
    "    valid_data = pickle.load(filename)"
   ]
  },
  {
   "cell_type": "code",
   "execution_count": 14,
   "metadata": {},
   "outputs": [],
   "source": [
    "X_train = train_data.drop(\"Detected\", axis=1)"
   ]
  },
  {
   "cell_type": "code",
   "execution_count": 15,
   "metadata": {},
   "outputs": [],
   "source": [
    "y_train = train_data.Detected"
   ]
  },
  {
   "cell_type": "code",
   "execution_count": 16,
   "metadata": {},
   "outputs": [],
   "source": [
    "X_valid = valid_data.drop(\"Detected\", axis=1)"
   ]
  },
  {
   "cell_type": "code",
   "execution_count": 17,
   "metadata": {},
   "outputs": [],
   "source": [
    "y_valid = valid_data.Detected"
   ]
  },
  {
   "cell_type": "code",
   "execution_count": 18,
   "metadata": {},
   "outputs": [],
   "source": [
    "with open(dPath / \"rf_exp_03_names.pkl\", 'rb') as filename:\n",
    "    names = pickle.load(filename)"
   ]
  },
  {
   "cell_type": "code",
   "execution_count": 19,
   "metadata": {},
   "outputs": [],
   "source": [
    "X_train = X_train[names] "
   ]
  },
  {
   "cell_type": "code",
   "execution_count": 20,
   "metadata": {},
   "outputs": [],
   "source": [
    "X_valid = X_valid[names]"
   ]
  },
  {
   "cell_type": "code",
   "execution_count": 21,
   "metadata": {},
   "outputs": [
    {
     "data": {
      "text/html": [
       "<div>\n",
       "<style scoped>\n",
       "    .dataframe tbody tr th:only-of-type {\n",
       "        vertical-align: middle;\n",
       "    }\n",
       "\n",
       "    .dataframe tbody tr th {\n",
       "        vertical-align: top;\n",
       "    }\n",
       "\n",
       "    .dataframe thead th {\n",
       "        text-align: right;\n",
       "    }\n",
       "</style>\n",
       "<table border=\"1\" class=\"dataframe\">\n",
       "  <thead>\n",
       "    <tr style=\"text-align: right;\">\n",
       "      <th></th>\n",
       "      <th>numExecuted</th>\n",
       "      <th>MutatorClass</th>\n",
       "      <th>numAssertInTC</th>\n",
       "      <th>numTestCover</th>\n",
       "      <th>numAssertInTM</th>\n",
       "      <th>ppavcc</th>\n",
       "      <th>cchalsteadCumulativeBugs</th>\n",
       "      <th>ppRVF</th>\n",
       "      <th>ppnumberOfMethods</th>\n",
       "      <th>ppnumberOfClasses</th>\n",
       "      <th>...</th>\n",
       "      <th>returnType</th>\n",
       "      <th>ccfanIn</th>\n",
       "      <th>ppfanin</th>\n",
       "      <th>pploc</th>\n",
       "      <th>ccmaintainabilityIndexNC</th>\n",
       "      <th>mmexternalMethodsCalled</th>\n",
       "      <th>ppinstability</th>\n",
       "      <th>ppmaxcc</th>\n",
       "      <th>mmvariablesReferenced</th>\n",
       "      <th>ccunweightedClassSize</th>\n",
       "    </tr>\n",
       "  </thead>\n",
       "  <tbody>\n",
       "    <tr>\n",
       "      <th>0</th>\n",
       "      <td>14</td>\n",
       "      <td>2</td>\n",
       "      <td>14</td>\n",
       "      <td>1</td>\n",
       "      <td>7</td>\n",
       "      <td>2.125</td>\n",
       "      <td>0.593518</td>\n",
       "      <td>13.0</td>\n",
       "      <td>16.0</td>\n",
       "      <td>5.0</td>\n",
       "      <td>...</td>\n",
       "      <td>3</td>\n",
       "      <td>1.0</td>\n",
       "      <td>1.0</td>\n",
       "      <td>262.0</td>\n",
       "      <td>99.687474</td>\n",
       "      <td>1.0</td>\n",
       "      <td>0.666667</td>\n",
       "      <td>5.0</td>\n",
       "      <td>3.0</td>\n",
       "      <td>4.0</td>\n",
       "    </tr>\n",
       "    <tr>\n",
       "      <th>1</th>\n",
       "      <td>14</td>\n",
       "      <td>6</td>\n",
       "      <td>14</td>\n",
       "      <td>1</td>\n",
       "      <td>7</td>\n",
       "      <td>2.125</td>\n",
       "      <td>0.593518</td>\n",
       "      <td>13.0</td>\n",
       "      <td>16.0</td>\n",
       "      <td>5.0</td>\n",
       "      <td>...</td>\n",
       "      <td>3</td>\n",
       "      <td>1.0</td>\n",
       "      <td>1.0</td>\n",
       "      <td>262.0</td>\n",
       "      <td>99.687474</td>\n",
       "      <td>1.0</td>\n",
       "      <td>0.666667</td>\n",
       "      <td>5.0</td>\n",
       "      <td>3.0</td>\n",
       "      <td>4.0</td>\n",
       "    </tr>\n",
       "    <tr>\n",
       "      <th>2</th>\n",
       "      <td>14</td>\n",
       "      <td>6</td>\n",
       "      <td>14</td>\n",
       "      <td>1</td>\n",
       "      <td>7</td>\n",
       "      <td>2.125</td>\n",
       "      <td>0.593518</td>\n",
       "      <td>13.0</td>\n",
       "      <td>16.0</td>\n",
       "      <td>5.0</td>\n",
       "      <td>...</td>\n",
       "      <td>3</td>\n",
       "      <td>1.0</td>\n",
       "      <td>1.0</td>\n",
       "      <td>262.0</td>\n",
       "      <td>99.687474</td>\n",
       "      <td>1.0</td>\n",
       "      <td>0.666667</td>\n",
       "      <td>5.0</td>\n",
       "      <td>3.0</td>\n",
       "      <td>4.0</td>\n",
       "    </tr>\n",
       "    <tr>\n",
       "      <th>3</th>\n",
       "      <td>14</td>\n",
       "      <td>0</td>\n",
       "      <td>14</td>\n",
       "      <td>1</td>\n",
       "      <td>7</td>\n",
       "      <td>2.125</td>\n",
       "      <td>0.593518</td>\n",
       "      <td>13.0</td>\n",
       "      <td>16.0</td>\n",
       "      <td>5.0</td>\n",
       "      <td>...</td>\n",
       "      <td>3</td>\n",
       "      <td>1.0</td>\n",
       "      <td>1.0</td>\n",
       "      <td>262.0</td>\n",
       "      <td>99.687474</td>\n",
       "      <td>1.0</td>\n",
       "      <td>0.666667</td>\n",
       "      <td>5.0</td>\n",
       "      <td>3.0</td>\n",
       "      <td>4.0</td>\n",
       "    </tr>\n",
       "    <tr>\n",
       "      <th>4</th>\n",
       "      <td>14</td>\n",
       "      <td>0</td>\n",
       "      <td>14</td>\n",
       "      <td>1</td>\n",
       "      <td>7</td>\n",
       "      <td>2.125</td>\n",
       "      <td>0.593518</td>\n",
       "      <td>13.0</td>\n",
       "      <td>16.0</td>\n",
       "      <td>5.0</td>\n",
       "      <td>...</td>\n",
       "      <td>3</td>\n",
       "      <td>1.0</td>\n",
       "      <td>1.0</td>\n",
       "      <td>262.0</td>\n",
       "      <td>99.687474</td>\n",
       "      <td>1.0</td>\n",
       "      <td>0.666667</td>\n",
       "      <td>5.0</td>\n",
       "      <td>3.0</td>\n",
       "      <td>4.0</td>\n",
       "    </tr>\n",
       "  </tbody>\n",
       "</table>\n",
       "<p>5 rows × 30 columns</p>\n",
       "</div>"
      ],
      "text/plain": [
       "   numExecuted  MutatorClass  numAssertInTC  numTestCover  numAssertInTM  \\\n",
       "0           14             2             14             1              7   \n",
       "1           14             6             14             1              7   \n",
       "2           14             6             14             1              7   \n",
       "3           14             0             14             1              7   \n",
       "4           14             0             14             1              7   \n",
       "\n",
       "   ppavcc  cchalsteadCumulativeBugs  ppRVF  ppnumberOfMethods  \\\n",
       "0   2.125                  0.593518   13.0               16.0   \n",
       "1   2.125                  0.593518   13.0               16.0   \n",
       "2   2.125                  0.593518   13.0               16.0   \n",
       "3   2.125                  0.593518   13.0               16.0   \n",
       "4   2.125                  0.593518   13.0               16.0   \n",
       "\n",
       "   ppnumberOfClasses  ...  returnType  ccfanIn  ppfanin  pploc  \\\n",
       "0                5.0  ...           3      1.0      1.0  262.0   \n",
       "1                5.0  ...           3      1.0      1.0  262.0   \n",
       "2                5.0  ...           3      1.0      1.0  262.0   \n",
       "3                5.0  ...           3      1.0      1.0  262.0   \n",
       "4                5.0  ...           3      1.0      1.0  262.0   \n",
       "\n",
       "   ccmaintainabilityIndexNC  mmexternalMethodsCalled  ppinstability  ppmaxcc  \\\n",
       "0                 99.687474                      1.0       0.666667      5.0   \n",
       "1                 99.687474                      1.0       0.666667      5.0   \n",
       "2                 99.687474                      1.0       0.666667      5.0   \n",
       "3                 99.687474                      1.0       0.666667      5.0   \n",
       "4                 99.687474                      1.0       0.666667      5.0   \n",
       "\n",
       "   mmvariablesReferenced  ccunweightedClassSize  \n",
       "0                    3.0                    4.0  \n",
       "1                    3.0                    4.0  \n",
       "2                    3.0                    4.0  \n",
       "3                    3.0                    4.0  \n",
       "4                    3.0                    4.0  \n",
       "\n",
       "[5 rows x 30 columns]"
      ]
     },
     "execution_count": 21,
     "metadata": {},
     "output_type": "execute_result"
    }
   ],
   "source": [
    "X_train.head()"
   ]
  },
  {
   "cell_type": "code",
   "execution_count": 22,
   "metadata": {},
   "outputs": [],
   "source": [
    "from imblearn.over_sampling import ADASYN"
   ]
  },
  {
   "cell_type": "code",
   "execution_count": 23,
   "metadata": {},
   "outputs": [],
   "source": [
    "sm = ADASYN(random_state=42, n_jobs=-1)"
   ]
  },
  {
   "cell_type": "code",
   "execution_count": 24,
   "metadata": {},
   "outputs": [
    {
     "name": "stdout",
     "output_type": "stream",
     "text": [
      "Wall time: 44.2 s\n"
     ]
    }
   ],
   "source": [
    "%time X_res, y_res = sm.fit_resample(X_train, y_train)"
   ]
  },
  {
   "cell_type": "code",
   "execution_count": 42,
   "metadata": {},
   "outputs": [],
   "source": [
    "X_train_not_running = not_running.drop(\"Detected\", axis=1)"
   ]
  },
  {
   "cell_type": "code",
   "execution_count": 43,
   "metadata": {},
   "outputs": [],
   "source": [
    "y_train_not_running = not_running.Detected"
   ]
  },
  {
   "cell_type": "code",
   "execution_count": 44,
   "metadata": {},
   "outputs": [],
   "source": [
    "X_train_not_running = X_train_not_running[names]"
   ]
  },
  {
   "cell_type": "code",
   "execution_count": 22,
   "metadata": {},
   "outputs": [],
   "source": [
    "#X_train_not_running['ExecutedRatio'] = -1"
   ]
  },
  {
   "cell_type": "code",
   "execution_count": 23,
   "metadata": {},
   "outputs": [
    {
     "ename": "AttributeError",
     "evalue": "'DataFrame' object has no attribute 'ppnumberOfStatements'",
     "output_type": "error",
     "traceback": [
      "\u001b[1;31m---------------------------------------------------------------------------\u001b[0m",
      "\u001b[1;31mAttributeError\u001b[0m                            Traceback (most recent call last)",
      "\u001b[1;32m<ipython-input-23-65a8fffcc759>\u001b[0m in \u001b[0;36m<module>\u001b[1;34m\u001b[0m\n\u001b[1;32m----> 1\u001b[1;33m \u001b[0mX_res\u001b[0m\u001b[1;33m[\u001b[0m\u001b[1;34m'ExecutedRatio'\u001b[0m\u001b[1;33m]\u001b[0m \u001b[1;33m=\u001b[0m \u001b[0mnp\u001b[0m\u001b[1;33m.\u001b[0m\u001b[0mlog\u001b[0m\u001b[1;33m(\u001b[0m\u001b[0mX_res\u001b[0m\u001b[1;33m.\u001b[0m\u001b[0mnumExecuted\u001b[0m\u001b[1;33m)\u001b[0m\u001b[1;33m/\u001b[0m\u001b[0mX_res\u001b[0m\u001b[1;33m.\u001b[0m\u001b[0mppnumberOfStatements\u001b[0m\u001b[1;33m\u001b[0m\u001b[1;33m\u001b[0m\u001b[0m\n\u001b[0m",
      "\u001b[1;32m~\\Anaconda3\\lib\\site-packages\\pandas\\core\\generic.py\u001b[0m in \u001b[0;36m__getattr__\u001b[1;34m(self, name)\u001b[0m\n\u001b[0;32m   5272\u001b[0m             \u001b[1;32mif\u001b[0m \u001b[0mself\u001b[0m\u001b[1;33m.\u001b[0m\u001b[0m_info_axis\u001b[0m\u001b[1;33m.\u001b[0m\u001b[0m_can_hold_identifiers_and_holds_name\u001b[0m\u001b[1;33m(\u001b[0m\u001b[0mname\u001b[0m\u001b[1;33m)\u001b[0m\u001b[1;33m:\u001b[0m\u001b[1;33m\u001b[0m\u001b[1;33m\u001b[0m\u001b[0m\n\u001b[0;32m   5273\u001b[0m                 \u001b[1;32mreturn\u001b[0m \u001b[0mself\u001b[0m\u001b[1;33m[\u001b[0m\u001b[0mname\u001b[0m\u001b[1;33m]\u001b[0m\u001b[1;33m\u001b[0m\u001b[1;33m\u001b[0m\u001b[0m\n\u001b[1;32m-> 5274\u001b[1;33m             \u001b[1;32mreturn\u001b[0m \u001b[0mobject\u001b[0m\u001b[1;33m.\u001b[0m\u001b[0m__getattribute__\u001b[0m\u001b[1;33m(\u001b[0m\u001b[0mself\u001b[0m\u001b[1;33m,\u001b[0m \u001b[0mname\u001b[0m\u001b[1;33m)\u001b[0m\u001b[1;33m\u001b[0m\u001b[1;33m\u001b[0m\u001b[0m\n\u001b[0m\u001b[0;32m   5275\u001b[0m \u001b[1;33m\u001b[0m\u001b[0m\n\u001b[0;32m   5276\u001b[0m     \u001b[1;32mdef\u001b[0m \u001b[0m__setattr__\u001b[0m\u001b[1;33m(\u001b[0m\u001b[0mself\u001b[0m\u001b[1;33m,\u001b[0m \u001b[0mname\u001b[0m\u001b[1;33m:\u001b[0m \u001b[0mstr\u001b[0m\u001b[1;33m,\u001b[0m \u001b[0mvalue\u001b[0m\u001b[1;33m)\u001b[0m \u001b[1;33m->\u001b[0m \u001b[1;32mNone\u001b[0m\u001b[1;33m:\u001b[0m\u001b[1;33m\u001b[0m\u001b[1;33m\u001b[0m\u001b[0m\n",
      "\u001b[1;31mAttributeError\u001b[0m: 'DataFrame' object has no attribute 'ppnumberOfStatements'"
     ]
    }
   ],
   "source": [
    "#X_res['ExecutedRatio'] = np.log(X_res.numExecuted)/X_res.ppn"
   ]
  },
  {
   "cell_type": "code",
   "execution_count": null,
   "metadata": {},
   "outputs": [],
   "source": [
    "X_train['ExecutedRatio'] = np.log(X_train.numExecuted)/X_train.ppnumberOfStatements"
   ]
  },
  {
   "cell_type": "code",
   "execution_count": null,
   "metadata": {},
   "outputs": [],
   "source": [
    "X_valid['ExecutedRatio'] = np.log(X_valid.numExecuted)/X_valid.ppnumberOfStatements"
   ]
  },
  {
   "cell_type": "code",
   "execution_count": 25,
   "metadata": {},
   "outputs": [],
   "source": [
    "X_res = pd.concat([X_train, X_valid], ignore_index=True,axis=0)"
   ]
  },
  {
   "cell_type": "code",
   "execution_count": 26,
   "metadata": {},
   "outputs": [],
   "source": [
    "y_res = pd.concat([y_train, y_valid], ignore_index=True,axis=0)"
   ]
  },
  {
   "cell_type": "code",
   "execution_count": 27,
   "metadata": {},
   "outputs": [
    {
     "data": {
      "text/plain": [
       "0.6778571825816139"
      ]
     },
     "execution_count": 27,
     "metadata": {},
     "output_type": "execute_result"
    }
   ],
   "source": [
    "y_res.sum()/y_res.shape[0]"
   ]
  },
  {
   "cell_type": "code",
   "execution_count": 28,
   "metadata": {},
   "outputs": [
    {
     "data": {
      "text/html": [
       "<div>\n",
       "<style scoped>\n",
       "    .dataframe tbody tr th:only-of-type {\n",
       "        vertical-align: middle;\n",
       "    }\n",
       "\n",
       "    .dataframe tbody tr th {\n",
       "        vertical-align: top;\n",
       "    }\n",
       "\n",
       "    .dataframe thead th {\n",
       "        text-align: right;\n",
       "    }\n",
       "</style>\n",
       "<table border=\"1\" class=\"dataframe\">\n",
       "  <thead>\n",
       "    <tr style=\"text-align: right;\">\n",
       "      <th></th>\n",
       "      <th>numExecuted</th>\n",
       "      <th>MutatorClass</th>\n",
       "      <th>numAssertInTC</th>\n",
       "      <th>numTestCover</th>\n",
       "      <th>numAssertInTM</th>\n",
       "      <th>ppavcc</th>\n",
       "      <th>cchalsteadCumulativeBugs</th>\n",
       "      <th>ppRVF</th>\n",
       "      <th>ppnumberOfMethods</th>\n",
       "      <th>ppnumberOfClasses</th>\n",
       "      <th>...</th>\n",
       "      <th>returnType</th>\n",
       "      <th>ccfanIn</th>\n",
       "      <th>ppfanin</th>\n",
       "      <th>pploc</th>\n",
       "      <th>ccmaintainabilityIndexNC</th>\n",
       "      <th>mmexternalMethodsCalled</th>\n",
       "      <th>ppinstability</th>\n",
       "      <th>ppmaxcc</th>\n",
       "      <th>mmvariablesReferenced</th>\n",
       "      <th>ccunweightedClassSize</th>\n",
       "    </tr>\n",
       "  </thead>\n",
       "  <tbody>\n",
       "    <tr>\n",
       "      <th>0</th>\n",
       "      <td>14</td>\n",
       "      <td>2</td>\n",
       "      <td>14</td>\n",
       "      <td>1</td>\n",
       "      <td>7</td>\n",
       "      <td>2.125</td>\n",
       "      <td>0.593518</td>\n",
       "      <td>13.0</td>\n",
       "      <td>16.0</td>\n",
       "      <td>5.0</td>\n",
       "      <td>...</td>\n",
       "      <td>3</td>\n",
       "      <td>1.0</td>\n",
       "      <td>1.0</td>\n",
       "      <td>262.0</td>\n",
       "      <td>99.687474</td>\n",
       "      <td>1.0</td>\n",
       "      <td>0.666667</td>\n",
       "      <td>5.0</td>\n",
       "      <td>3.0</td>\n",
       "      <td>4.0</td>\n",
       "    </tr>\n",
       "    <tr>\n",
       "      <th>1</th>\n",
       "      <td>14</td>\n",
       "      <td>6</td>\n",
       "      <td>14</td>\n",
       "      <td>1</td>\n",
       "      <td>7</td>\n",
       "      <td>2.125</td>\n",
       "      <td>0.593518</td>\n",
       "      <td>13.0</td>\n",
       "      <td>16.0</td>\n",
       "      <td>5.0</td>\n",
       "      <td>...</td>\n",
       "      <td>3</td>\n",
       "      <td>1.0</td>\n",
       "      <td>1.0</td>\n",
       "      <td>262.0</td>\n",
       "      <td>99.687474</td>\n",
       "      <td>1.0</td>\n",
       "      <td>0.666667</td>\n",
       "      <td>5.0</td>\n",
       "      <td>3.0</td>\n",
       "      <td>4.0</td>\n",
       "    </tr>\n",
       "    <tr>\n",
       "      <th>2</th>\n",
       "      <td>14</td>\n",
       "      <td>6</td>\n",
       "      <td>14</td>\n",
       "      <td>1</td>\n",
       "      <td>7</td>\n",
       "      <td>2.125</td>\n",
       "      <td>0.593518</td>\n",
       "      <td>13.0</td>\n",
       "      <td>16.0</td>\n",
       "      <td>5.0</td>\n",
       "      <td>...</td>\n",
       "      <td>3</td>\n",
       "      <td>1.0</td>\n",
       "      <td>1.0</td>\n",
       "      <td>262.0</td>\n",
       "      <td>99.687474</td>\n",
       "      <td>1.0</td>\n",
       "      <td>0.666667</td>\n",
       "      <td>5.0</td>\n",
       "      <td>3.0</td>\n",
       "      <td>4.0</td>\n",
       "    </tr>\n",
       "    <tr>\n",
       "      <th>3</th>\n",
       "      <td>14</td>\n",
       "      <td>0</td>\n",
       "      <td>14</td>\n",
       "      <td>1</td>\n",
       "      <td>7</td>\n",
       "      <td>2.125</td>\n",
       "      <td>0.593518</td>\n",
       "      <td>13.0</td>\n",
       "      <td>16.0</td>\n",
       "      <td>5.0</td>\n",
       "      <td>...</td>\n",
       "      <td>3</td>\n",
       "      <td>1.0</td>\n",
       "      <td>1.0</td>\n",
       "      <td>262.0</td>\n",
       "      <td>99.687474</td>\n",
       "      <td>1.0</td>\n",
       "      <td>0.666667</td>\n",
       "      <td>5.0</td>\n",
       "      <td>3.0</td>\n",
       "      <td>4.0</td>\n",
       "    </tr>\n",
       "    <tr>\n",
       "      <th>4</th>\n",
       "      <td>14</td>\n",
       "      <td>0</td>\n",
       "      <td>14</td>\n",
       "      <td>1</td>\n",
       "      <td>7</td>\n",
       "      <td>2.125</td>\n",
       "      <td>0.593518</td>\n",
       "      <td>13.0</td>\n",
       "      <td>16.0</td>\n",
       "      <td>5.0</td>\n",
       "      <td>...</td>\n",
       "      <td>3</td>\n",
       "      <td>1.0</td>\n",
       "      <td>1.0</td>\n",
       "      <td>262.0</td>\n",
       "      <td>99.687474</td>\n",
       "      <td>1.0</td>\n",
       "      <td>0.666667</td>\n",
       "      <td>5.0</td>\n",
       "      <td>3.0</td>\n",
       "      <td>4.0</td>\n",
       "    </tr>\n",
       "  </tbody>\n",
       "</table>\n",
       "<p>5 rows × 30 columns</p>\n",
       "</div>"
      ],
      "text/plain": [
       "   numExecuted  MutatorClass  numAssertInTC  numTestCover  numAssertInTM  \\\n",
       "0           14             2             14             1              7   \n",
       "1           14             6             14             1              7   \n",
       "2           14             6             14             1              7   \n",
       "3           14             0             14             1              7   \n",
       "4           14             0             14             1              7   \n",
       "\n",
       "   ppavcc  cchalsteadCumulativeBugs  ppRVF  ppnumberOfMethods  \\\n",
       "0   2.125                  0.593518   13.0               16.0   \n",
       "1   2.125                  0.593518   13.0               16.0   \n",
       "2   2.125                  0.593518   13.0               16.0   \n",
       "3   2.125                  0.593518   13.0               16.0   \n",
       "4   2.125                  0.593518   13.0               16.0   \n",
       "\n",
       "   ppnumberOfClasses  ...  returnType  ccfanIn  ppfanin  pploc  \\\n",
       "0                5.0  ...           3      1.0      1.0  262.0   \n",
       "1                5.0  ...           3      1.0      1.0  262.0   \n",
       "2                5.0  ...           3      1.0      1.0  262.0   \n",
       "3                5.0  ...           3      1.0      1.0  262.0   \n",
       "4                5.0  ...           3      1.0      1.0  262.0   \n",
       "\n",
       "   ccmaintainabilityIndexNC  mmexternalMethodsCalled  ppinstability  ppmaxcc  \\\n",
       "0                 99.687474                      1.0       0.666667      5.0   \n",
       "1                 99.687474                      1.0       0.666667      5.0   \n",
       "2                 99.687474                      1.0       0.666667      5.0   \n",
       "3                 99.687474                      1.0       0.666667      5.0   \n",
       "4                 99.687474                      1.0       0.666667      5.0   \n",
       "\n",
       "   mmvariablesReferenced  ccunweightedClassSize  \n",
       "0                    3.0                    4.0  \n",
       "1                    3.0                    4.0  \n",
       "2                    3.0                    4.0  \n",
       "3                    3.0                    4.0  \n",
       "4                    3.0                    4.0  \n",
       "\n",
       "[5 rows x 30 columns]"
      ]
     },
     "execution_count": 28,
     "metadata": {},
     "output_type": "execute_result"
    }
   ],
   "source": [
    "X_res.head()"
   ]
  },
  {
   "cell_type": "code",
   "execution_count": 29,
   "metadata": {},
   "outputs": [],
   "source": [
    "from sklearn.ensemble import RandomForestClassifier"
   ]
  },
  {
   "cell_type": "code",
   "execution_count": 30,
   "metadata": {},
   "outputs": [],
   "source": [
    "rf = RandomForestClassifier(n_estimators=100, max_features=0.7, oob_score=True, random_state=42, n_jobs=-1)"
   ]
  },
  {
   "cell_type": "code",
   "execution_count": 31,
   "metadata": {},
   "outputs": [
    {
     "name": "stdout",
     "output_type": "stream",
     "text": [
      "Wall time: 6min 13s\n"
     ]
    },
    {
     "data": {
      "text/plain": [
       "RandomForestClassifier(bootstrap=True, ccp_alpha=0.0, class_weight=None,\n",
       "                       criterion='gini', max_depth=None, max_features=0.7,\n",
       "                       max_leaf_nodes=None, max_samples=None,\n",
       "                       min_impurity_decrease=0.0, min_impurity_split=None,\n",
       "                       min_samples_leaf=1, min_samples_split=2,\n",
       "                       min_weight_fraction_leaf=0.0, n_estimators=100,\n",
       "                       n_jobs=-1, oob_score=True, random_state=42, verbose=0,\n",
       "                       warm_start=False)"
      ]
     },
     "execution_count": 31,
     "metadata": {},
     "output_type": "execute_result"
    }
   ],
   "source": [
    "%time rf.fit(X_res, y_res)"
   ]
  },
  {
   "cell_type": "code",
   "execution_count": 32,
   "metadata": {},
   "outputs": [],
   "source": [
    "from sklearn.metrics import roc_auc_score\n",
    "from sklearn.metrics import classification_report"
   ]
  },
  {
   "cell_type": "code",
   "execution_count": 33,
   "metadata": {},
   "outputs": [],
   "source": [
    "def print_score(m):\n",
    "    res = [m.score(X_train, y_train), m.score(X_valid, y_valid), roc_auc_score(y_valid, m.predict(X_valid))]\n",
    "    if hasattr(m, 'oob_score_'): res.append(m.oob_score_)\n",
    "    print(res)"
   ]
  },
  {
   "cell_type": "code",
   "execution_count": 34,
   "metadata": {},
   "outputs": [],
   "source": [
    "def conf_matr(m):\n",
    "    y_pred = m.predict(X_valid)\n",
    "    print(classification_report(y_valid, y_pred))"
   ]
  },
  {
   "cell_type": "code",
   "execution_count": 35,
   "metadata": {},
   "outputs": [
    {
     "name": "stdout",
     "output_type": "stream",
     "text": [
      "[0.9230603422704388, 0.9207953063885267, 0.8778331984095848, 0.8468160836438463]\n"
     ]
    }
   ],
   "source": [
    "print_score(rf)"
   ]
  },
  {
   "cell_type": "code",
   "execution_count": 36,
   "metadata": {},
   "outputs": [
    {
     "name": "stdout",
     "output_type": "stream",
     "text": [
      "              precision    recall  f1-score   support\n",
      "\n",
      "       False       0.87      0.79      0.83     16657\n",
      "        True       0.93      0.96      0.95     50839\n",
      "\n",
      "    accuracy                           0.92     67496\n",
      "   macro avg       0.90      0.88      0.89     67496\n",
      "weighted avg       0.92      0.92      0.92     67496\n",
      "\n"
     ]
    }
   ],
   "source": [
    "conf_matr(rf)"
   ]
  },
  {
   "cell_type": "code",
   "execution_count": 37,
   "metadata": {},
   "outputs": [],
   "source": [
    "with open(dPath / \"rf_exp_10.pkl\", 'wb') as filename:\n",
    "    pickle.dump(rf,filename)"
   ]
  },
  {
   "cell_type": "code",
   "execution_count": 38,
   "metadata": {},
   "outputs": [],
   "source": [
    "names = X_train.columns"
   ]
  },
  {
   "cell_type": "code",
   "execution_count": 39,
   "metadata": {},
   "outputs": [],
   "source": [
    "feat_importances = pd.Series(rf.feature_importances_, index=names)\n",
    "feat_importances.sort_values(ascending=False,inplace=True)"
   ]
  },
  {
   "cell_type": "code",
   "execution_count": 40,
   "metadata": {},
   "outputs": [
    {
     "data": {
      "text/plain": [
       "numExecuted                      0.122350\n",
       "MutatorClass                     0.098543\n",
       "numAssertInTC                    0.066473\n",
       "cchalsteadCumulativeBugs         0.058739\n",
       "numAssertInTM                    0.054897\n",
       "mmhalsteadDifficulty             0.044132\n",
       "ppavcc                           0.043758\n",
       "numTestCover                     0.042965\n",
       "ppnumberOfMethods                0.032232\n",
       "ppmaintainabilityIndexNC         0.029327\n",
       "ccmaintainabilityIndexNC         0.026944\n",
       "ccmaintainabilityIndex           0.026873\n",
       "mmvariablesReferenced            0.026589\n",
       "ppRVF                            0.025069\n",
       "mmexternalMethodsCalled          0.023951\n",
       "pploc                            0.022386\n",
       "mminstanceVariablesReferenced    0.021919\n",
       "ppmaxcc                          0.021815\n",
       "ccexternalMethodCalls            0.020525\n",
       "ccunweightedClassSize            0.020205\n",
       "ppmaintainabilityIndex           0.019527\n",
       "ccimportedPackages               0.019238\n",
       "ppnumberOfClasses                0.018937\n",
       "ppabstractness                   0.018504\n",
       "returnType                       0.018318\n",
       "ppinstability                    0.017202\n",
       "ccfanIn                          0.017070\n",
       "ppdistance                       0.015122\n",
       "ppfanout                         0.014164\n",
       "ppfanin                          0.012227\n",
       "dtype: float64"
      ]
     },
     "execution_count": 40,
     "metadata": {},
     "output_type": "execute_result"
    }
   ],
   "source": [
    "feat_importances"
   ]
  },
  {
   "cell_type": "code",
   "execution_count": 41,
   "metadata": {},
   "outputs": [],
   "source": [
    "feat_importances.to_excel(dPath / \"proposed_approach_feat_importances.xlsx\")"
   ]
  },
  {
   "cell_type": "code",
   "execution_count": 43,
   "metadata": {},
   "outputs": [],
   "source": [
    "with open(dPath / \"rf_exp_08_names.pkl\", 'wb') as filename:\n",
    "    pickle.dump(names,filename)"
   ]
  },
  {
   "cell_type": "code",
   "execution_count": 61,
   "metadata": {},
   "outputs": [],
   "source": [
    "with open(dPath / \"test_data.pkl\", 'rb') as filename:\n",
    "    test_data = pickle.load(filename)"
   ]
  },
  {
   "cell_type": "code",
   "execution_count": 62,
   "metadata": {},
   "outputs": [],
   "source": [
    "X_test = test_data.drop(\"Detected\", axis=1)"
   ]
  },
  {
   "cell_type": "code",
   "execution_count": 46,
   "metadata": {},
   "outputs": [],
   "source": [
    "X_test['ExecutedRatio'] = np.log(X_test.numExecuted)/X_test.ppnumberOfStatements"
   ]
  },
  {
   "cell_type": "code",
   "execution_count": 63,
   "metadata": {},
   "outputs": [],
   "source": [
    "y_test = test_data.Detected"
   ]
  },
  {
   "cell_type": "code",
   "execution_count": 64,
   "metadata": {},
   "outputs": [],
   "source": [
    "X_test = X_test[names]"
   ]
  },
  {
   "cell_type": "code",
   "execution_count": 65,
   "metadata": {},
   "outputs": [],
   "source": [
    "with open(dPath / \"mutclslabels.pkl\", 'rb') as filename:\n",
    "    mutclslabels = pickle.load(filename)"
   ]
  },
  {
   "cell_type": "code",
   "execution_count": 66,
   "metadata": {},
   "outputs": [],
   "source": [
    "with open(dPath / \"retypelabels.pkl\", 'rb') as filename:\n",
    "    retypelabels = pickle.load(filename)"
   ]
  },
  {
   "cell_type": "code",
   "execution_count": 67,
   "metadata": {},
   "outputs": [],
   "source": [
    "mutclscodes = dict(zip(mutclslabels,range(len(mutclslabels))))"
   ]
  },
  {
   "cell_type": "code",
   "execution_count": 68,
   "metadata": {},
   "outputs": [],
   "source": [
    "retypecodes = dict(zip(retypelabels,range(len(retypelabels))))"
   ]
  },
  {
   "cell_type": "code",
   "execution_count": 69,
   "metadata": {},
   "outputs": [],
   "source": [
    "X_test.replace(mutclscodes, inplace=True)"
   ]
  },
  {
   "cell_type": "code",
   "execution_count": 70,
   "metadata": {},
   "outputs": [],
   "source": [
    "X_test.replace(retypecodes, inplace=True)"
   ]
  },
  {
   "cell_type": "code",
   "execution_count": 71,
   "metadata": {},
   "outputs": [],
   "source": [
    "preds = rf.predict_proba(X_test)[:,1]"
   ]
  },
  {
   "cell_type": "code",
   "execution_count": 72,
   "metadata": {},
   "outputs": [
    {
     "data": {
      "text/plain": [
       "(array([  603,   488,  1798,  4921, 11184, 14259, 11638,  7362,  3673,\n",
       "         2550], dtype=int64),\n",
       " array([0. , 0.1, 0.2, 0.3, 0.4, 0.5, 0.6, 0.7, 0.8, 0.9, 1. ]))"
      ]
     },
     "execution_count": 72,
     "metadata": {},
     "output_type": "execute_result"
    }
   ],
   "source": [
    "np.histogram(preds)"
   ]
  },
  {
   "cell_type": "code",
   "execution_count": 73,
   "metadata": {},
   "outputs": [
    {
     "name": "stdout",
     "output_type": "stream",
     "text": [
      "              precision    recall  f1-score   support\n",
      "\n",
      "       False       0.51      0.47      0.49     20633\n",
      "        True       0.72      0.75      0.74     37843\n",
      "\n",
      "    accuracy                           0.65     58476\n",
      "   macro avg       0.62      0.61      0.61     58476\n",
      "weighted avg       0.65      0.65      0.65     58476\n",
      "\n"
     ]
    }
   ],
   "source": [
    "print(classification_report(y_test, preds >=0.50))"
   ]
  },
  {
   "cell_type": "code",
   "execution_count": 74,
   "metadata": {},
   "outputs": [
    {
     "name": "stdout",
     "output_type": "stream",
     "text": [
      "0.7041866707664926\n"
     ]
    }
   ],
   "source": [
    "from sklearn.metrics import average_precision_score, precision_score, recall_score\n",
    "print(average_precision_score(y_test, preds >= 0.5, average='micro'))"
   ]
  },
  {
   "cell_type": "code",
   "execution_count": 75,
   "metadata": {},
   "outputs": [
    {
     "data": {
      "text/plain": [
       "0.6118141757025684"
      ]
     },
     "execution_count": 75,
     "metadata": {},
     "output_type": "execute_result"
    }
   ],
   "source": [
    "from sklearn import metrics\n",
    "metrics.roc_auc_score(y_test, preds >= 0.5)"
   ]
  },
  {
   "cell_type": "code",
   "execution_count": 76,
   "metadata": {},
   "outputs": [],
   "source": [
    "with open(dPath / \"rf_exp_09_preds.pkl\", 'wb') as filename:\n",
    "    pickle.dump(preds,filename)"
   ]
  },
  {
   "cell_type": "code",
   "execution_count": null,
   "metadata": {},
   "outputs": [],
   "source": []
  }
 ],
 "metadata": {
  "kernelspec": {
   "display_name": "Python 3",
   "language": "python",
   "name": "python3"
  },
  "language_info": {
   "codemirror_mode": {
    "name": "ipython",
    "version": 3
   },
   "file_extension": ".py",
   "mimetype": "text/x-python",
   "name": "python",
   "nbconvert_exporter": "python",
   "pygments_lexer": "ipython3",
   "version": "3.7.4"
  }
 },
 "nbformat": 4,
 "nbformat_minor": 4
}

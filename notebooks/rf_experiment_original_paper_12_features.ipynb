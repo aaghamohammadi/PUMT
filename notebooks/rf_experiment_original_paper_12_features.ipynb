{
 "cells": [
  {
   "cell_type": "code",
   "execution_count": 1,
   "metadata": {},
   "outputs": [],
   "source": [
    "import pandas as pd\n",
    "import numpy as np"
   ]
  },
  {
   "cell_type": "code",
   "execution_count": 2,
   "metadata": {},
   "outputs": [],
   "source": [
    "from pathlib import Path"
   ]
  },
  {
   "cell_type": "code",
   "execution_count": 3,
   "metadata": {},
   "outputs": [],
   "source": [
    "dPath = Path(\"../docs/dumps\")"
   ]
  },
  {
   "cell_type": "code",
   "execution_count": 4,
   "metadata": {},
   "outputs": [],
   "source": [
    "import pickle"
   ]
  },
  {
   "cell_type": "code",
   "execution_count": 5,
   "metadata": {},
   "outputs": [],
   "source": [
    "with open(dPath / \"train_without_running.pkl\", 'rb') as filename:\n",
    "    X_train,y_train = pickle.load(filename)"
   ]
  },
  {
   "cell_type": "code",
   "execution_count": 6,
   "metadata": {},
   "outputs": [],
   "source": [
    "with open(dPath / \"test_data.pkl\", 'rb') as filename:\n",
    "    test_data = pickle.load(filename)"
   ]
  },
  {
   "cell_type": "code",
   "execution_count": 7,
   "metadata": {},
   "outputs": [],
   "source": [
    "with open(dPath / \"retypelabels.pkl\", 'rb') as filename:\n",
    "    retypelabels = pickle.load(filename)"
   ]
  },
  {
   "cell_type": "code",
   "execution_count": 8,
   "metadata": {},
   "outputs": [],
   "source": [
    "with open(dPath / \"mutclslabels.pkl\", 'rb') as filename:\n",
    "    mutclslabels = pickle.load(filename)"
   ]
  },
  {
   "cell_type": "code",
   "execution_count": 9,
   "metadata": {},
   "outputs": [],
   "source": [
    "mutclscodes = dict(zip(mutclslabels,range(len(mutclslabels))))"
   ]
  },
  {
   "cell_type": "code",
   "execution_count": 10,
   "metadata": {},
   "outputs": [],
   "source": [
    "retypecodes = dict(zip(retypelabels,range(len(retypelabels))))"
   ]
  },
  {
   "cell_type": "code",
   "execution_count": 11,
   "metadata": {},
   "outputs": [
    {
     "data": {
      "text/html": [
       "<div>\n",
       "<style scoped>\n",
       "    .dataframe tbody tr th:only-of-type {\n",
       "        vertical-align: middle;\n",
       "    }\n",
       "\n",
       "    .dataframe tbody tr th {\n",
       "        vertical-align: top;\n",
       "    }\n",
       "\n",
       "    .dataframe thead th {\n",
       "        text-align: right;\n",
       "    }\n",
       "</style>\n",
       "<table border=\"1\" class=\"dataframe\">\n",
       "  <thead>\n",
       "    <tr style=\"text-align: right;\">\n",
       "      <th></th>\n",
       "      <th>MutatorClass</th>\n",
       "      <th>returnType</th>\n",
       "      <th>numExecuted</th>\n",
       "      <th>numTestCover</th>\n",
       "      <th>numAssertInTM</th>\n",
       "      <th>numAssertInTC</th>\n",
       "      <th>ppnumberOfClasses</th>\n",
       "      <th>ppnumberOfStatements</th>\n",
       "      <th>ppavcc</th>\n",
       "      <th>pphalsteadCumulativeBugs</th>\n",
       "      <th>...</th>\n",
       "      <th>mmhalsteadVolume</th>\n",
       "      <th>mmnumberOfOperands</th>\n",
       "      <th>mminstanceVariablesReferenced</th>\n",
       "      <th>mmlocalInstanceVariablesReferenced</th>\n",
       "      <th>mmnumberOfVariableReferences</th>\n",
       "      <th>mmvariablesReferenced</th>\n",
       "      <th>mmnumberOfOperators</th>\n",
       "      <th>mmmaxDepthOfNesting</th>\n",
       "      <th>mmnumberOfExpressions</th>\n",
       "      <th>mmnumberOfLoops</th>\n",
       "    </tr>\n",
       "  </thead>\n",
       "  <tbody>\n",
       "    <tr>\n",
       "      <th>0</th>\n",
       "      <td>11</td>\n",
       "      <td>0.0</td>\n",
       "      <td>0</td>\n",
       "      <td>0</td>\n",
       "      <td>0</td>\n",
       "      <td>0</td>\n",
       "      <td>2.0</td>\n",
       "      <td>85.0</td>\n",
       "      <td>4.0</td>\n",
       "      <td>0.849073</td>\n",
       "      <td>...</td>\n",
       "      <td>888.761992</td>\n",
       "      <td>86.0</td>\n",
       "      <td>0.0</td>\n",
       "      <td>0.0</td>\n",
       "      <td>32.0</td>\n",
       "      <td>6.0</td>\n",
       "      <td>81.0</td>\n",
       "      <td>2.0</td>\n",
       "      <td>27.0</td>\n",
       "      <td>4.0</td>\n",
       "    </tr>\n",
       "    <tr>\n",
       "      <th>1</th>\n",
       "      <td>11</td>\n",
       "      <td>0.0</td>\n",
       "      <td>0</td>\n",
       "      <td>0</td>\n",
       "      <td>0</td>\n",
       "      <td>0</td>\n",
       "      <td>2.0</td>\n",
       "      <td>85.0</td>\n",
       "      <td>4.0</td>\n",
       "      <td>0.849073</td>\n",
       "      <td>...</td>\n",
       "      <td>888.761992</td>\n",
       "      <td>86.0</td>\n",
       "      <td>0.0</td>\n",
       "      <td>0.0</td>\n",
       "      <td>32.0</td>\n",
       "      <td>6.0</td>\n",
       "      <td>81.0</td>\n",
       "      <td>2.0</td>\n",
       "      <td>27.0</td>\n",
       "      <td>4.0</td>\n",
       "    </tr>\n",
       "    <tr>\n",
       "      <th>2</th>\n",
       "      <td>11</td>\n",
       "      <td>0.0</td>\n",
       "      <td>0</td>\n",
       "      <td>0</td>\n",
       "      <td>0</td>\n",
       "      <td>0</td>\n",
       "      <td>2.0</td>\n",
       "      <td>85.0</td>\n",
       "      <td>4.0</td>\n",
       "      <td>0.849073</td>\n",
       "      <td>...</td>\n",
       "      <td>888.761992</td>\n",
       "      <td>86.0</td>\n",
       "      <td>0.0</td>\n",
       "      <td>0.0</td>\n",
       "      <td>32.0</td>\n",
       "      <td>6.0</td>\n",
       "      <td>81.0</td>\n",
       "      <td>2.0</td>\n",
       "      <td>27.0</td>\n",
       "      <td>4.0</td>\n",
       "    </tr>\n",
       "    <tr>\n",
       "      <th>3</th>\n",
       "      <td>11</td>\n",
       "      <td>0.0</td>\n",
       "      <td>0</td>\n",
       "      <td>0</td>\n",
       "      <td>0</td>\n",
       "      <td>0</td>\n",
       "      <td>2.0</td>\n",
       "      <td>85.0</td>\n",
       "      <td>4.0</td>\n",
       "      <td>0.849073</td>\n",
       "      <td>...</td>\n",
       "      <td>888.761992</td>\n",
       "      <td>86.0</td>\n",
       "      <td>0.0</td>\n",
       "      <td>0.0</td>\n",
       "      <td>32.0</td>\n",
       "      <td>6.0</td>\n",
       "      <td>81.0</td>\n",
       "      <td>2.0</td>\n",
       "      <td>27.0</td>\n",
       "      <td>4.0</td>\n",
       "    </tr>\n",
       "    <tr>\n",
       "      <th>4</th>\n",
       "      <td>7</td>\n",
       "      <td>0.0</td>\n",
       "      <td>0</td>\n",
       "      <td>0</td>\n",
       "      <td>0</td>\n",
       "      <td>0</td>\n",
       "      <td>2.0</td>\n",
       "      <td>85.0</td>\n",
       "      <td>4.0</td>\n",
       "      <td>0.849073</td>\n",
       "      <td>...</td>\n",
       "      <td>888.761992</td>\n",
       "      <td>86.0</td>\n",
       "      <td>0.0</td>\n",
       "      <td>0.0</td>\n",
       "      <td>32.0</td>\n",
       "      <td>6.0</td>\n",
       "      <td>81.0</td>\n",
       "      <td>2.0</td>\n",
       "      <td>27.0</td>\n",
       "      <td>4.0</td>\n",
       "    </tr>\n",
       "  </tbody>\n",
       "</table>\n",
       "<p>5 rows × 95 columns</p>\n",
       "</div>"
      ],
      "text/plain": [
       "   MutatorClass  returnType  numExecuted  numTestCover  numAssertInTM  \\\n",
       "0            11         0.0            0             0              0   \n",
       "1            11         0.0            0             0              0   \n",
       "2            11         0.0            0             0              0   \n",
       "3            11         0.0            0             0              0   \n",
       "4             7         0.0            0             0              0   \n",
       "\n",
       "   numAssertInTC  ppnumberOfClasses  ppnumberOfStatements  ppavcc  \\\n",
       "0              0                2.0                  85.0     4.0   \n",
       "1              0                2.0                  85.0     4.0   \n",
       "2              0                2.0                  85.0     4.0   \n",
       "3              0                2.0                  85.0     4.0   \n",
       "4              0                2.0                  85.0     4.0   \n",
       "\n",
       "   pphalsteadCumulativeBugs  ...  mmhalsteadVolume  mmnumberOfOperands  \\\n",
       "0                  0.849073  ...        888.761992                86.0   \n",
       "1                  0.849073  ...        888.761992                86.0   \n",
       "2                  0.849073  ...        888.761992                86.0   \n",
       "3                  0.849073  ...        888.761992                86.0   \n",
       "4                  0.849073  ...        888.761992                86.0   \n",
       "\n",
       "   mminstanceVariablesReferenced  mmlocalInstanceVariablesReferenced  \\\n",
       "0                            0.0                                 0.0   \n",
       "1                            0.0                                 0.0   \n",
       "2                            0.0                                 0.0   \n",
       "3                            0.0                                 0.0   \n",
       "4                            0.0                                 0.0   \n",
       "\n",
       "   mmnumberOfVariableReferences  mmvariablesReferenced  mmnumberOfOperators  \\\n",
       "0                          32.0                    6.0                 81.0   \n",
       "1                          32.0                    6.0                 81.0   \n",
       "2                          32.0                    6.0                 81.0   \n",
       "3                          32.0                    6.0                 81.0   \n",
       "4                          32.0                    6.0                 81.0   \n",
       "\n",
       "   mmmaxDepthOfNesting  mmnumberOfExpressions  mmnumberOfLoops  \n",
       "0                  2.0                   27.0              4.0  \n",
       "1                  2.0                   27.0              4.0  \n",
       "2                  2.0                   27.0              4.0  \n",
       "3                  2.0                   27.0              4.0  \n",
       "4                  2.0                   27.0              4.0  \n",
       "\n",
       "[5 rows x 95 columns]"
      ]
     },
     "execution_count": 11,
     "metadata": {},
     "output_type": "execute_result"
    }
   ],
   "source": [
    "X_train.head()"
   ]
  },
  {
   "cell_type": "code",
   "execution_count": 12,
   "metadata": {},
   "outputs": [],
   "source": [
    "X_test = test_data.drop(\"Detected\", axis=1)"
   ]
  },
  {
   "cell_type": "code",
   "execution_count": 13,
   "metadata": {},
   "outputs": [],
   "source": [
    "y_test = test_data.Detected"
   ]
  },
  {
   "cell_type": "code",
   "execution_count": 14,
   "metadata": {},
   "outputs": [],
   "source": [
    "X_test['MutatorClass'] = X_test.MutatorClass.map(mutclscodes.get)"
   ]
  },
  {
   "cell_type": "code",
   "execution_count": 15,
   "metadata": {},
   "outputs": [],
   "source": [
    "X_test['returnType'] = X_test.returnType.map(retypecodes.get)"
   ]
  },
  {
   "cell_type": "code",
   "execution_count": 16,
   "metadata": {},
   "outputs": [
    {
     "data": {
      "text/html": [
       "<div>\n",
       "<style scoped>\n",
       "    .dataframe tbody tr th:only-of-type {\n",
       "        vertical-align: middle;\n",
       "    }\n",
       "\n",
       "    .dataframe tbody tr th {\n",
       "        vertical-align: top;\n",
       "    }\n",
       "\n",
       "    .dataframe thead th {\n",
       "        text-align: right;\n",
       "    }\n",
       "</style>\n",
       "<table border=\"1\" class=\"dataframe\">\n",
       "  <thead>\n",
       "    <tr style=\"text-align: right;\">\n",
       "      <th></th>\n",
       "      <th>MutatorClass</th>\n",
       "      <th>returnType</th>\n",
       "      <th>numExecuted</th>\n",
       "      <th>numTestCover</th>\n",
       "      <th>numAssertInTM</th>\n",
       "      <th>numAssertInTC</th>\n",
       "      <th>ppnumberOfClasses</th>\n",
       "      <th>ppnumberOfStatements</th>\n",
       "      <th>ppavcc</th>\n",
       "      <th>pphalsteadCumulativeBugs</th>\n",
       "      <th>...</th>\n",
       "      <th>mmhalsteadVolume</th>\n",
       "      <th>mmnumberOfOperands</th>\n",
       "      <th>mminstanceVariablesReferenced</th>\n",
       "      <th>mmlocalInstanceVariablesReferenced</th>\n",
       "      <th>mmnumberOfVariableReferences</th>\n",
       "      <th>mmvariablesReferenced</th>\n",
       "      <th>mmnumberOfOperators</th>\n",
       "      <th>mmmaxDepthOfNesting</th>\n",
       "      <th>mmnumberOfExpressions</th>\n",
       "      <th>mmnumberOfLoops</th>\n",
       "    </tr>\n",
       "  </thead>\n",
       "  <tbody>\n",
       "    <tr>\n",
       "      <th>0</th>\n",
       "      <td>5</td>\n",
       "      <td>0</td>\n",
       "      <td>32</td>\n",
       "      <td>16</td>\n",
       "      <td>2</td>\n",
       "      <td>2</td>\n",
       "      <td>3.0</td>\n",
       "      <td>152.0</td>\n",
       "      <td>1.258065</td>\n",
       "      <td>1.925253</td>\n",
       "      <td>...</td>\n",
       "      <td>50.189475</td>\n",
       "      <td>7.0</td>\n",
       "      <td>0.0</td>\n",
       "      <td>0.0</td>\n",
       "      <td>2.0</td>\n",
       "      <td>1.0</td>\n",
       "      <td>7.0</td>\n",
       "      <td>0.0</td>\n",
       "      <td>1.0</td>\n",
       "      <td>0.0</td>\n",
       "    </tr>\n",
       "    <tr>\n",
       "      <th>1</th>\n",
       "      <td>0</td>\n",
       "      <td>2</td>\n",
       "      <td>1</td>\n",
       "      <td>1</td>\n",
       "      <td>1</td>\n",
       "      <td>2</td>\n",
       "      <td>3.0</td>\n",
       "      <td>152.0</td>\n",
       "      <td>1.258065</td>\n",
       "      <td>1.925253</td>\n",
       "      <td>...</td>\n",
       "      <td>68.000000</td>\n",
       "      <td>7.0</td>\n",
       "      <td>1.0</td>\n",
       "      <td>0.0</td>\n",
       "      <td>1.0</td>\n",
       "      <td>1.0</td>\n",
       "      <td>10.0</td>\n",
       "      <td>0.0</td>\n",
       "      <td>1.0</td>\n",
       "      <td>0.0</td>\n",
       "    </tr>\n",
       "    <tr>\n",
       "      <th>2</th>\n",
       "      <td>4</td>\n",
       "      <td>2</td>\n",
       "      <td>1</td>\n",
       "      <td>1</td>\n",
       "      <td>1</td>\n",
       "      <td>2</td>\n",
       "      <td>3.0</td>\n",
       "      <td>152.0</td>\n",
       "      <td>1.258065</td>\n",
       "      <td>1.925253</td>\n",
       "      <td>...</td>\n",
       "      <td>68.000000</td>\n",
       "      <td>7.0</td>\n",
       "      <td>1.0</td>\n",
       "      <td>0.0</td>\n",
       "      <td>1.0</td>\n",
       "      <td>1.0</td>\n",
       "      <td>10.0</td>\n",
       "      <td>0.0</td>\n",
       "      <td>1.0</td>\n",
       "      <td>0.0</td>\n",
       "    </tr>\n",
       "    <tr>\n",
       "      <th>3</th>\n",
       "      <td>0</td>\n",
       "      <td>1</td>\n",
       "      <td>1</td>\n",
       "      <td>1</td>\n",
       "      <td>1</td>\n",
       "      <td>2</td>\n",
       "      <td>3.0</td>\n",
       "      <td>152.0</td>\n",
       "      <td>1.258065</td>\n",
       "      <td>1.925253</td>\n",
       "      <td>...</td>\n",
       "      <td>46.604513</td>\n",
       "      <td>5.0</td>\n",
       "      <td>0.0</td>\n",
       "      <td>0.0</td>\n",
       "      <td>0.0</td>\n",
       "      <td>0.0</td>\n",
       "      <td>8.0</td>\n",
       "      <td>0.0</td>\n",
       "      <td>1.0</td>\n",
       "      <td>0.0</td>\n",
       "    </tr>\n",
       "    <tr>\n",
       "      <th>4</th>\n",
       "      <td>4</td>\n",
       "      <td>1</td>\n",
       "      <td>1</td>\n",
       "      <td>1</td>\n",
       "      <td>1</td>\n",
       "      <td>2</td>\n",
       "      <td>3.0</td>\n",
       "      <td>152.0</td>\n",
       "      <td>1.258065</td>\n",
       "      <td>1.925253</td>\n",
       "      <td>...</td>\n",
       "      <td>46.604513</td>\n",
       "      <td>5.0</td>\n",
       "      <td>0.0</td>\n",
       "      <td>0.0</td>\n",
       "      <td>0.0</td>\n",
       "      <td>0.0</td>\n",
       "      <td>8.0</td>\n",
       "      <td>0.0</td>\n",
       "      <td>1.0</td>\n",
       "      <td>0.0</td>\n",
       "    </tr>\n",
       "  </tbody>\n",
       "</table>\n",
       "<p>5 rows × 95 columns</p>\n",
       "</div>"
      ],
      "text/plain": [
       "   MutatorClass  returnType  numExecuted  numTestCover  numAssertInTM  \\\n",
       "0             5           0           32            16              2   \n",
       "1             0           2            1             1              1   \n",
       "2             4           2            1             1              1   \n",
       "3             0           1            1             1              1   \n",
       "4             4           1            1             1              1   \n",
       "\n",
       "   numAssertInTC  ppnumberOfClasses  ppnumberOfStatements    ppavcc  \\\n",
       "0              2                3.0                 152.0  1.258065   \n",
       "1              2                3.0                 152.0  1.258065   \n",
       "2              2                3.0                 152.0  1.258065   \n",
       "3              2                3.0                 152.0  1.258065   \n",
       "4              2                3.0                 152.0  1.258065   \n",
       "\n",
       "   pphalsteadCumulativeBugs  ...  mmhalsteadVolume  mmnumberOfOperands  \\\n",
       "0                  1.925253  ...         50.189475                 7.0   \n",
       "1                  1.925253  ...         68.000000                 7.0   \n",
       "2                  1.925253  ...         68.000000                 7.0   \n",
       "3                  1.925253  ...         46.604513                 5.0   \n",
       "4                  1.925253  ...         46.604513                 5.0   \n",
       "\n",
       "   mminstanceVariablesReferenced  mmlocalInstanceVariablesReferenced  \\\n",
       "0                            0.0                                 0.0   \n",
       "1                            1.0                                 0.0   \n",
       "2                            1.0                                 0.0   \n",
       "3                            0.0                                 0.0   \n",
       "4                            0.0                                 0.0   \n",
       "\n",
       "   mmnumberOfVariableReferences  mmvariablesReferenced  mmnumberOfOperators  \\\n",
       "0                           2.0                    1.0                  7.0   \n",
       "1                           1.0                    1.0                 10.0   \n",
       "2                           1.0                    1.0                 10.0   \n",
       "3                           0.0                    0.0                  8.0   \n",
       "4                           0.0                    0.0                  8.0   \n",
       "\n",
       "   mmmaxDepthOfNesting  mmnumberOfExpressions  mmnumberOfLoops  \n",
       "0                  0.0                    1.0              0.0  \n",
       "1                  0.0                    1.0              0.0  \n",
       "2                  0.0                    1.0              0.0  \n",
       "3                  0.0                    1.0              0.0  \n",
       "4                  0.0                    1.0              0.0  \n",
       "\n",
       "[5 rows x 95 columns]"
      ]
     },
     "execution_count": 16,
     "metadata": {},
     "output_type": "execute_result"
    }
   ],
   "source": [
    "X_test.head()"
   ]
  },
  {
   "cell_type": "code",
   "execution_count": 17,
   "metadata": {},
   "outputs": [],
   "source": [
    "names = ['MutatorClass','numAssertInTC','numAssertInTM','numExecuted','numTestCover','ppavcc','pploc','ppmaintainabilityIndex','ppmaintainabilityIndexNC','ppnumberOfClasses','ppnumberOfStatements','pptcc']"
   ]
  },
  {
   "cell_type": "code",
   "execution_count": 18,
   "metadata": {},
   "outputs": [
    {
     "data": {
      "text/plain": [
       "12"
      ]
     },
     "execution_count": 18,
     "metadata": {},
     "output_type": "execute_result"
    }
   ],
   "source": [
    "len(names)"
   ]
  },
  {
   "cell_type": "code",
   "execution_count": 19,
   "metadata": {},
   "outputs": [],
   "source": [
    "X_train = X_train[names]"
   ]
  },
  {
   "cell_type": "code",
   "execution_count": 20,
   "metadata": {},
   "outputs": [],
   "source": [
    "X_test = X_test[names]"
   ]
  },
  {
   "cell_type": "code",
   "execution_count": 21,
   "metadata": {},
   "outputs": [],
   "source": [
    "from sklearn.ensemble import RandomForestClassifier"
   ]
  },
  {
   "cell_type": "code",
   "execution_count": 22,
   "metadata": {},
   "outputs": [],
   "source": [
    "rf = RandomForestClassifier(n_estimators=150, oob_score=True, random_state=42, n_jobs=-1)"
   ]
  },
  {
   "cell_type": "code",
   "execution_count": 23,
   "metadata": {},
   "outputs": [
    {
     "name": "stdout",
     "output_type": "stream",
     "text": [
      "Wall time: 3min 11s\n"
     ]
    },
    {
     "data": {
      "text/plain": [
       "RandomForestClassifier(bootstrap=True, ccp_alpha=0.0, class_weight=None,\n",
       "                       criterion='gini', max_depth=None, max_features='auto',\n",
       "                       max_leaf_nodes=None, max_samples=None,\n",
       "                       min_impurity_decrease=0.0, min_impurity_split=None,\n",
       "                       min_samples_leaf=1, min_samples_split=2,\n",
       "                       min_weight_fraction_leaf=0.0, n_estimators=150,\n",
       "                       n_jobs=-1, oob_score=True, random_state=42, verbose=0,\n",
       "                       warm_start=False)"
      ]
     },
     "execution_count": 23,
     "metadata": {},
     "output_type": "execute_result"
    }
   ],
   "source": [
    "%time rf.fit(X_train, y_train)"
   ]
  },
  {
   "cell_type": "code",
   "execution_count": 24,
   "metadata": {},
   "outputs": [],
   "source": [
    "from sklearn.metrics import roc_auc_score"
   ]
  },
  {
   "cell_type": "code",
   "execution_count": 25,
   "metadata": {},
   "outputs": [],
   "source": [
    "def print_score(m):\n",
    "    res = [m.score(X_train, y_train), m.score(X_test, y_test), roc_auc_score(y_test, m.predict(X_test))]\n",
    "    if hasattr(m, 'oob_score_'): res.append(m.oob_score_)\n",
    "    print(res)"
   ]
  },
  {
   "cell_type": "code",
   "execution_count": 26,
   "metadata": {},
   "outputs": [
    {
     "name": "stdout",
     "output_type": "stream",
     "text": [
      "              precision    recall  f1-score   support\n",
      "\n",
      "       False       0.63      0.21      0.31     20633\n",
      "        True       0.68      0.93      0.79     37843\n",
      "\n",
      "    accuracy                           0.68     58476\n",
      "   macro avg       0.66      0.57      0.55     58476\n",
      "weighted avg       0.67      0.68      0.62     58476\n",
      "\n"
     ]
    }
   ],
   "source": [
    "from sklearn.metrics import classification_report\n",
    "print(classification_report(y_test,  rf.predict(X_test)))"
   ]
  },
  {
   "cell_type": "code",
   "execution_count": 27,
   "metadata": {},
   "outputs": [
    {
     "name": "stdout",
     "output_type": "stream",
     "text": [
      "[0.9659934551743525, 0.6776968328887065, 0.5708315362625145, 0.938923479552474]\n"
     ]
    }
   ],
   "source": [
    "print_score(rf)"
   ]
  },
  {
   "cell_type": "code",
   "execution_count": 28,
   "metadata": {},
   "outputs": [],
   "source": [
    "with open(dPath / \"rf_exp_original_12_paper.pkl\", 'wb') as filename:\n",
    "    pickle.dump(rf,filename)"
   ]
  },
  {
   "cell_type": "code",
   "execution_count": 35,
   "metadata": {},
   "outputs": [
    {
     "data": {
      "text/plain": [
       "array([0.0479228 , 0.23397058, 0.14323279, 0.2227419 , 0.19119882,\n",
       "       0.03035658, 0.01998102, 0.02197298, 0.02702744, 0.02126689,\n",
       "       0.02000008, 0.02032811])"
      ]
     },
     "execution_count": 35,
     "metadata": {},
     "output_type": "execute_result"
    }
   ],
   "source": [
    "rf.feature_importances_"
   ]
  },
  {
   "cell_type": "code",
   "execution_count": 36,
   "metadata": {},
   "outputs": [],
   "source": [
    "names = X_train.columns"
   ]
  },
  {
   "cell_type": "code",
   "execution_count": 37,
   "metadata": {},
   "outputs": [],
   "source": [
    "feat_importances = pd.Series(rf.feature_importances_, index=names)\n",
    "feat_importances.sort_values(ascending=False,inplace=True)"
   ]
  },
  {
   "cell_type": "code",
   "execution_count": 38,
   "metadata": {},
   "outputs": [
    {
     "data": {
      "text/plain": [
       "0.26013717509029743"
      ]
     },
     "execution_count": 38,
     "metadata": {},
     "output_type": "execute_result"
    }
   ],
   "source": [
    "y_train.sum() / y_train.shape[0]"
   ]
  },
  {
   "cell_type": "code",
   "execution_count": 40,
   "metadata": {},
   "outputs": [
    {
     "data": {
      "text/plain": [
       "0.5708315362625145"
      ]
     },
     "execution_count": 40,
     "metadata": {},
     "output_type": "execute_result"
    }
   ],
   "source": [
    "from sklearn import metrics\n",
    "metrics.roc_auc_score(y_test, rf.predict_proba(X_test)[:,1] >= 0.5)"
   ]
  },
  {
   "cell_type": "code",
   "execution_count": 41,
   "metadata": {},
   "outputs": [
    {
     "data": {
      "text/plain": [
       "0.1416630725250292"
      ]
     },
     "execution_count": 41,
     "metadata": {},
     "output_type": "execute_result"
    }
   ],
   "source": [
    "metrics.balanced_accuracy_score(y_test, rf.predict(X_test), adjusted=True)"
   ]
  },
  {
   "cell_type": "code",
   "execution_count": 42,
   "metadata": {},
   "outputs": [
    {
     "data": {
      "text/plain": [
       "0.21135884702968707"
      ]
     },
     "execution_count": 42,
     "metadata": {},
     "output_type": "execute_result"
    }
   ],
   "source": [
    "metrics.matthews_corrcoef(y_test, rf.predict(X_test))"
   ]
  },
  {
   "cell_type": "code",
   "execution_count": 43,
   "metadata": {},
   "outputs": [
    {
     "data": {
      "text/plain": [
       "11.13218054815776"
      ]
     },
     "execution_count": 43,
     "metadata": {},
     "output_type": "execute_result"
    }
   ],
   "source": [
    "metrics.log_loss(y_test, rf.predict(X_test))"
   ]
  },
  {
   "cell_type": "code",
   "execution_count": 44,
   "metadata": {},
   "outputs": [
    {
     "data": {
      "text/plain": [
       "0.3223031671112935"
      ]
     },
     "execution_count": 44,
     "metadata": {},
     "output_type": "execute_result"
    }
   ],
   "source": [
    "metrics.zero_one_loss(y_test, rf.predict(X_test))"
   ]
  },
  {
   "cell_type": "code",
   "execution_count": 45,
   "metadata": {},
   "outputs": [],
   "source": [
    "with open(dPath / \"test_files.pkl\", 'rb') as filename:\n",
    "    test_files = pickle.load(filename)"
   ]
  },
  {
   "cell_type": "code",
   "execution_count": 46,
   "metadata": {},
   "outputs": [
    {
     "name": "stderr",
     "output_type": "stream",
     "text": [
      "C:\\Users\\Alireza\\Anaconda3\\lib\\site-packages\\IPython\\core\\interactiveshell.py:3063: DtypeWarning: Columns (28,29,30,31,32,33,34,35,36,37,38,39,40,41,42,43,44,45,46,47,48,49,50,51,52,53,54,55,56,57,58,59,60,61,62,63,64,65,66) have mixed types.Specify dtype option on import or set low_memory=False.\n",
      "  interactivity=interactivity, compiler=compiler, result=result)\n",
      "C:\\Users\\Alireza\\Anaconda3\\lib\\site-packages\\IPython\\core\\interactiveshell.py:3063: DtypeWarning: Columns (28,29,30,31,32,33,34,35,36,37,38,39,40,41,42,43,44,45,46,47,48,49,50,51,52,53,54,55,56,57,58,59,60,61,62,63,64,65,66,67,68,69,70,71,72,73,74,75,76,77,78,79,80,81,82,83,84,85,86,87,88,89,90,91,92,93,94,95) have mixed types.Specify dtype option on import or set low_memory=False.\n",
      "  interactivity=interactivity, compiler=compiler, result=result)\n"
     ]
    }
   ],
   "source": [
    "li = []\n",
    "for file in test_files:\n",
    "    df = pd.read_csv(file)\n",
    "    df = df.replace('?',np.NaN)\n",
    "    df[df.columns[3:]] = df[df.columns[3:]].apply(pd.to_numeric)\n",
    "    df.dropna(inplace=True)\n",
    "    li.append(df)"
   ]
  },
  {
   "cell_type": "code",
   "execution_count": 47,
   "metadata": {},
   "outputs": [],
   "source": [
    "test_data = pd.concat(li, ignore_index=True,axis=0)\n",
    "test_data = test_data.reset_index(drop=True)"
   ]
  },
  {
   "cell_type": "code",
   "execution_count": 48,
   "metadata": {},
   "outputs": [],
   "source": [
    "X_test = test_data.drop(\"Detected\", axis=1)"
   ]
  },
  {
   "cell_type": "code",
   "execution_count": 49,
   "metadata": {},
   "outputs": [],
   "source": [
    "X_test['MutatorClass'] = X_test.MutatorClass.map(mutclscodes.get)"
   ]
  },
  {
   "cell_type": "code",
   "execution_count": 50,
   "metadata": {},
   "outputs": [],
   "source": [
    "y_test = test_data.Detected"
   ]
  },
  {
   "cell_type": "code",
   "execution_count": 51,
   "metadata": {},
   "outputs": [],
   "source": [
    "X_test['returnType'] = X_test.returnType.map(retypecodes.get)"
   ]
  },
  {
   "cell_type": "code",
   "execution_count": 55,
   "metadata": {},
   "outputs": [],
   "source": [
    "X_test = X_test[names]"
   ]
  },
  {
   "cell_type": "code",
   "execution_count": 56,
   "metadata": {},
   "outputs": [
    {
     "data": {
      "text/plain": [
       "0.9316122263002329"
      ]
     },
     "execution_count": 56,
     "metadata": {},
     "output_type": "execute_result"
    }
   ],
   "source": [
    "from sklearn import metrics\n",
    "metrics.roc_auc_score(y_test, rf.predict_proba(X_test)[:,1] >= 0.5)"
   ]
  },
  {
   "cell_type": "code",
   "execution_count": 57,
   "metadata": {},
   "outputs": [
    {
     "data": {
      "text/plain": [
       "0.8632244526004658"
      ]
     },
     "execution_count": 57,
     "metadata": {},
     "output_type": "execute_result"
    }
   ],
   "source": [
    "metrics.balanced_accuracy_score(y_test, rf.predict(X_test), adjusted=True)"
   ]
  },
  {
   "cell_type": "code",
   "execution_count": 58,
   "metadata": {},
   "outputs": [
    {
     "data": {
      "text/plain": [
       "0.7617662634626299"
      ]
     },
     "execution_count": 58,
     "metadata": {},
     "output_type": "execute_result"
    }
   ],
   "source": [
    "metrics.matthews_corrcoef(y_test, rf.predict(X_test))"
   ]
  },
  {
   "cell_type": "code",
   "execution_count": 59,
   "metadata": {},
   "outputs": [
    {
     "data": {
      "text/plain": [
       "2.367282405829863"
      ]
     },
     "execution_count": 59,
     "metadata": {},
     "output_type": "execute_result"
    }
   ],
   "source": [
    "metrics.log_loss(y_test, rf.predict(X_test))"
   ]
  },
  {
   "cell_type": "code",
   "execution_count": 60,
   "metadata": {},
   "outputs": [
    {
     "data": {
      "text/plain": [
       "0.06853847574021044"
      ]
     },
     "execution_count": 60,
     "metadata": {},
     "output_type": "execute_result"
    }
   ],
   "source": [
    "metrics.zero_one_loss(y_test, rf.predict(X_test))"
   ]
  },
  {
   "cell_type": "code",
   "execution_count": 61,
   "metadata": {},
   "outputs": [
    {
     "data": {
      "text/plain": [
       "(array([0.98848358, 0.68374927]),\n",
       " array([0.93140447, 0.93181998]),\n",
       " array([0.95909553, 0.788739  ]),\n",
       " array([238310,  37929], dtype=int64))"
      ]
     },
     "execution_count": 61,
     "metadata": {},
     "output_type": "execute_result"
    }
   ],
   "source": [
    "metrics.precision_recall_fscore_support(y_test, rf.predict(X_test))"
   ]
  },
  {
   "cell_type": "code",
   "execution_count": 5,
   "metadata": {},
   "outputs": [],
   "source": [
    "with open(dPath / \"rf_exp_original_12_paper.pkl\", 'rb') as filename:\n",
    "    rf = pickle.load(filename)"
   ]
  },
  {
   "cell_type": "code",
   "execution_count": 6,
   "metadata": {},
   "outputs": [
    {
     "data": {
      "text/plain": [
       "array([0.0479228 , 0.23397058, 0.14323279, 0.2227419 , 0.19119882,\n",
       "       0.03035658, 0.01998102, 0.02197298, 0.02702744, 0.02126689,\n",
       "       0.02000008, 0.02032811])"
      ]
     },
     "execution_count": 6,
     "metadata": {},
     "output_type": "execute_result"
    }
   ],
   "source": [
    "rf.feature_importances_"
   ]
  },
  {
   "cell_type": "code",
   "execution_count": 7,
   "metadata": {},
   "outputs": [],
   "source": [
    "names = ['MutatorClass','numAssertInTC','numAssertInTM','numExecuted','numTestCover','ppavcc','pploc','ppmaintainabilityIndex','ppmaintainabilityIndexNC','ppnumberOfClasses','ppnumberOfStatements','pptcc']"
   ]
  },
  {
   "cell_type": "code",
   "execution_count": 8,
   "metadata": {},
   "outputs": [],
   "source": [
    "feat_importances = pd.Series(rf.feature_importances_, index=names)\n",
    "feat_importances.sort_values(ascending=False,inplace=True)"
   ]
  },
  {
   "cell_type": "code",
   "execution_count": 11,
   "metadata": {},
   "outputs": [],
   "source": [
    "feat_importances.to_excel(dPath / \"rf_feat_importances.xlsx\")"
   ]
  },
  {
   "cell_type": "code",
   "execution_count": null,
   "metadata": {},
   "outputs": [],
   "source": []
  }
 ],
 "metadata": {
  "kernelspec": {
   "display_name": "Python 3",
   "language": "python",
   "name": "python3"
  },
  "language_info": {
   "codemirror_mode": {
    "name": "ipython",
    "version": 3
   },
   "file_extension": ".py",
   "mimetype": "text/x-python",
   "name": "python",
   "nbconvert_exporter": "python",
   "pygments_lexer": "ipython3",
   "version": "3.7.4"
  }
 },
 "nbformat": 4,
 "nbformat_minor": 4
}

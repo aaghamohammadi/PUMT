{
 "cells": [
  {
   "cell_type": "code",
   "execution_count": 1,
   "metadata": {},
   "outputs": [],
   "source": [
    "import pandas as pd\n",
    "import numpy as np"
   ]
  },
  {
   "cell_type": "code",
   "execution_count": 2,
   "metadata": {},
   "outputs": [],
   "source": [
    "from pathlib import Path"
   ]
  },
  {
   "cell_type": "code",
   "execution_count": 3,
   "metadata": {},
   "outputs": [],
   "source": [
    "dPath = Path(\"../docs/dumps\")"
   ]
  },
  {
   "cell_type": "code",
   "execution_count": 4,
   "metadata": {},
   "outputs": [],
   "source": [
    "import pickle"
   ]
  },
  {
   "cell_type": "code",
   "execution_count": 5,
   "metadata": {},
   "outputs": [],
   "source": [
    "with open(dPath / \"train_data.pkl\", 'rb') as filename:\n",
    "    train_data = pickle.load(filename)"
   ]
  },
  {
   "cell_type": "code",
   "execution_count": 6,
   "metadata": {},
   "outputs": [],
   "source": [
    "with open(dPath / \"valid_data.pkl\", 'rb') as filename:\n",
    "    valid_data = pickle.load(filename)"
   ]
  },
  {
   "cell_type": "code",
   "execution_count": 7,
   "metadata": {},
   "outputs": [],
   "source": [
    "X_train = train_data.drop(\"Detected\", axis=1)"
   ]
  },
  {
   "cell_type": "code",
   "execution_count": 8,
   "metadata": {},
   "outputs": [],
   "source": [
    "y_train = train_data.Detected"
   ]
  },
  {
   "cell_type": "code",
   "execution_count": 9,
   "metadata": {},
   "outputs": [],
   "source": [
    "X_valid = valid_data.drop(\"Detected\", axis=1)"
   ]
  },
  {
   "cell_type": "code",
   "execution_count": 10,
   "metadata": {},
   "outputs": [],
   "source": [
    "y_valid = valid_data.Detected"
   ]
  },
  {
   "cell_type": "code",
   "execution_count": 11,
   "metadata": {},
   "outputs": [],
   "source": [
    "with open(dPath / \"test_data.pkl\", 'rb') as filename:\n",
    "    test_data = pickle.load(filename)"
   ]
  },
  {
   "cell_type": "code",
   "execution_count": 12,
   "metadata": {},
   "outputs": [],
   "source": [
    "with open(dPath / \"retypelabels.pkl\", 'rb') as filename:\n",
    "    retypelabels = pickle.load(filename)"
   ]
  },
  {
   "cell_type": "code",
   "execution_count": 13,
   "metadata": {},
   "outputs": [],
   "source": [
    "with open(dPath / \"mutclslabels.pkl\", 'rb') as filename:\n",
    "    mutclslabels = pickle.load(filename)"
   ]
  },
  {
   "cell_type": "code",
   "execution_count": 14,
   "metadata": {},
   "outputs": [],
   "source": [
    "mutclscodes = dict(zip(mutclslabels,range(len(mutclslabels))))"
   ]
  },
  {
   "cell_type": "code",
   "execution_count": 15,
   "metadata": {},
   "outputs": [],
   "source": [
    "retypecodes = dict(zip(retypelabels,range(len(retypelabels))))"
   ]
  },
  {
   "cell_type": "code",
   "execution_count": 16,
   "metadata": {},
   "outputs": [
    {
     "data": {
      "text/html": [
       "<div>\n",
       "<style scoped>\n",
       "    .dataframe tbody tr th:only-of-type {\n",
       "        vertical-align: middle;\n",
       "    }\n",
       "\n",
       "    .dataframe tbody tr th {\n",
       "        vertical-align: top;\n",
       "    }\n",
       "\n",
       "    .dataframe thead th {\n",
       "        text-align: right;\n",
       "    }\n",
       "</style>\n",
       "<table border=\"1\" class=\"dataframe\">\n",
       "  <thead>\n",
       "    <tr style=\"text-align: right;\">\n",
       "      <th></th>\n",
       "      <th>MutatorClass</th>\n",
       "      <th>returnType</th>\n",
       "      <th>numExecuted</th>\n",
       "      <th>numTestCover</th>\n",
       "      <th>numAssertInTM</th>\n",
       "      <th>numAssertInTC</th>\n",
       "      <th>ppnumberOfClasses</th>\n",
       "      <th>ppnumberOfStatements</th>\n",
       "      <th>ppavcc</th>\n",
       "      <th>pphalsteadCumulativeBugs</th>\n",
       "      <th>...</th>\n",
       "      <th>mmhalsteadVolume</th>\n",
       "      <th>mmnumberOfOperands</th>\n",
       "      <th>mminstanceVariablesReferenced</th>\n",
       "      <th>mmlocalInstanceVariablesReferenced</th>\n",
       "      <th>mmnumberOfVariableReferences</th>\n",
       "      <th>mmvariablesReferenced</th>\n",
       "      <th>mmnumberOfOperators</th>\n",
       "      <th>mmmaxDepthOfNesting</th>\n",
       "      <th>mmnumberOfExpressions</th>\n",
       "      <th>mmnumberOfLoops</th>\n",
       "    </tr>\n",
       "  </thead>\n",
       "  <tbody>\n",
       "    <tr>\n",
       "      <th>0</th>\n",
       "      <td>2</td>\n",
       "      <td>3</td>\n",
       "      <td>14</td>\n",
       "      <td>1</td>\n",
       "      <td>7</td>\n",
       "      <td>14</td>\n",
       "      <td>5.0</td>\n",
       "      <td>232.0</td>\n",
       "      <td>2.125</td>\n",
       "      <td>2.636089</td>\n",
       "      <td>...</td>\n",
       "      <td>210.831236</td>\n",
       "      <td>24.0</td>\n",
       "      <td>0.0</td>\n",
       "      <td>0.0</td>\n",
       "      <td>9.0</td>\n",
       "      <td>3.0</td>\n",
       "      <td>24.0</td>\n",
       "      <td>0.0</td>\n",
       "      <td>5.0</td>\n",
       "      <td>0.0</td>\n",
       "    </tr>\n",
       "    <tr>\n",
       "      <th>1</th>\n",
       "      <td>6</td>\n",
       "      <td>3</td>\n",
       "      <td>14</td>\n",
       "      <td>1</td>\n",
       "      <td>7</td>\n",
       "      <td>14</td>\n",
       "      <td>5.0</td>\n",
       "      <td>232.0</td>\n",
       "      <td>2.125</td>\n",
       "      <td>2.636089</td>\n",
       "      <td>...</td>\n",
       "      <td>210.831236</td>\n",
       "      <td>24.0</td>\n",
       "      <td>0.0</td>\n",
       "      <td>0.0</td>\n",
       "      <td>9.0</td>\n",
       "      <td>3.0</td>\n",
       "      <td>24.0</td>\n",
       "      <td>0.0</td>\n",
       "      <td>5.0</td>\n",
       "      <td>0.0</td>\n",
       "    </tr>\n",
       "    <tr>\n",
       "      <th>2</th>\n",
       "      <td>6</td>\n",
       "      <td>3</td>\n",
       "      <td>14</td>\n",
       "      <td>1</td>\n",
       "      <td>7</td>\n",
       "      <td>14</td>\n",
       "      <td>5.0</td>\n",
       "      <td>232.0</td>\n",
       "      <td>2.125</td>\n",
       "      <td>2.636089</td>\n",
       "      <td>...</td>\n",
       "      <td>210.831236</td>\n",
       "      <td>24.0</td>\n",
       "      <td>0.0</td>\n",
       "      <td>0.0</td>\n",
       "      <td>9.0</td>\n",
       "      <td>3.0</td>\n",
       "      <td>24.0</td>\n",
       "      <td>0.0</td>\n",
       "      <td>5.0</td>\n",
       "      <td>0.0</td>\n",
       "    </tr>\n",
       "    <tr>\n",
       "      <th>3</th>\n",
       "      <td>0</td>\n",
       "      <td>3</td>\n",
       "      <td>14</td>\n",
       "      <td>1</td>\n",
       "      <td>7</td>\n",
       "      <td>14</td>\n",
       "      <td>5.0</td>\n",
       "      <td>232.0</td>\n",
       "      <td>2.125</td>\n",
       "      <td>2.636089</td>\n",
       "      <td>...</td>\n",
       "      <td>210.831236</td>\n",
       "      <td>24.0</td>\n",
       "      <td>0.0</td>\n",
       "      <td>0.0</td>\n",
       "      <td>9.0</td>\n",
       "      <td>3.0</td>\n",
       "      <td>24.0</td>\n",
       "      <td>0.0</td>\n",
       "      <td>5.0</td>\n",
       "      <td>0.0</td>\n",
       "    </tr>\n",
       "    <tr>\n",
       "      <th>4</th>\n",
       "      <td>0</td>\n",
       "      <td>3</td>\n",
       "      <td>14</td>\n",
       "      <td>1</td>\n",
       "      <td>7</td>\n",
       "      <td>14</td>\n",
       "      <td>5.0</td>\n",
       "      <td>232.0</td>\n",
       "      <td>2.125</td>\n",
       "      <td>2.636089</td>\n",
       "      <td>...</td>\n",
       "      <td>210.831236</td>\n",
       "      <td>24.0</td>\n",
       "      <td>0.0</td>\n",
       "      <td>0.0</td>\n",
       "      <td>9.0</td>\n",
       "      <td>3.0</td>\n",
       "      <td>24.0</td>\n",
       "      <td>0.0</td>\n",
       "      <td>5.0</td>\n",
       "      <td>0.0</td>\n",
       "    </tr>\n",
       "  </tbody>\n",
       "</table>\n",
       "<p>5 rows × 95 columns</p>\n",
       "</div>"
      ],
      "text/plain": [
       "   MutatorClass  returnType  numExecuted  numTestCover  numAssertInTM  \\\n",
       "0             2           3           14             1              7   \n",
       "1             6           3           14             1              7   \n",
       "2             6           3           14             1              7   \n",
       "3             0           3           14             1              7   \n",
       "4             0           3           14             1              7   \n",
       "\n",
       "   numAssertInTC  ppnumberOfClasses  ppnumberOfStatements  ppavcc  \\\n",
       "0             14                5.0                 232.0   2.125   \n",
       "1             14                5.0                 232.0   2.125   \n",
       "2             14                5.0                 232.0   2.125   \n",
       "3             14                5.0                 232.0   2.125   \n",
       "4             14                5.0                 232.0   2.125   \n",
       "\n",
       "   pphalsteadCumulativeBugs  ...  mmhalsteadVolume  mmnumberOfOperands  \\\n",
       "0                  2.636089  ...        210.831236                24.0   \n",
       "1                  2.636089  ...        210.831236                24.0   \n",
       "2                  2.636089  ...        210.831236                24.0   \n",
       "3                  2.636089  ...        210.831236                24.0   \n",
       "4                  2.636089  ...        210.831236                24.0   \n",
       "\n",
       "   mminstanceVariablesReferenced  mmlocalInstanceVariablesReferenced  \\\n",
       "0                            0.0                                 0.0   \n",
       "1                            0.0                                 0.0   \n",
       "2                            0.0                                 0.0   \n",
       "3                            0.0                                 0.0   \n",
       "4                            0.0                                 0.0   \n",
       "\n",
       "   mmnumberOfVariableReferences  mmvariablesReferenced  mmnumberOfOperators  \\\n",
       "0                           9.0                    3.0                 24.0   \n",
       "1                           9.0                    3.0                 24.0   \n",
       "2                           9.0                    3.0                 24.0   \n",
       "3                           9.0                    3.0                 24.0   \n",
       "4                           9.0                    3.0                 24.0   \n",
       "\n",
       "   mmmaxDepthOfNesting  mmnumberOfExpressions  mmnumberOfLoops  \n",
       "0                  0.0                    5.0              0.0  \n",
       "1                  0.0                    5.0              0.0  \n",
       "2                  0.0                    5.0              0.0  \n",
       "3                  0.0                    5.0              0.0  \n",
       "4                  0.0                    5.0              0.0  \n",
       "\n",
       "[5 rows x 95 columns]"
      ]
     },
     "execution_count": 16,
     "metadata": {},
     "output_type": "execute_result"
    }
   ],
   "source": [
    "X_train.head()"
   ]
  },
  {
   "cell_type": "code",
   "execution_count": 17,
   "metadata": {},
   "outputs": [],
   "source": [
    "X_test = test_data.drop(\"Detected\", axis=1)"
   ]
  },
  {
   "cell_type": "code",
   "execution_count": 18,
   "metadata": {},
   "outputs": [],
   "source": [
    "y_test = test_data.Detected"
   ]
  },
  {
   "cell_type": "code",
   "execution_count": 19,
   "metadata": {},
   "outputs": [],
   "source": [
    "X_test['MutatorClass'] = X_test.MutatorClass.map(mutclscodes.get)"
   ]
  },
  {
   "cell_type": "code",
   "execution_count": 20,
   "metadata": {},
   "outputs": [],
   "source": [
    "X_test['returnType'] = X_test.returnType.map(retypecodes.get)"
   ]
  },
  {
   "cell_type": "code",
   "execution_count": 21,
   "metadata": {},
   "outputs": [
    {
     "data": {
      "text/html": [
       "<div>\n",
       "<style scoped>\n",
       "    .dataframe tbody tr th:only-of-type {\n",
       "        vertical-align: middle;\n",
       "    }\n",
       "\n",
       "    .dataframe tbody tr th {\n",
       "        vertical-align: top;\n",
       "    }\n",
       "\n",
       "    .dataframe thead th {\n",
       "        text-align: right;\n",
       "    }\n",
       "</style>\n",
       "<table border=\"1\" class=\"dataframe\">\n",
       "  <thead>\n",
       "    <tr style=\"text-align: right;\">\n",
       "      <th></th>\n",
       "      <th>MutatorClass</th>\n",
       "      <th>returnType</th>\n",
       "      <th>numExecuted</th>\n",
       "      <th>numTestCover</th>\n",
       "      <th>numAssertInTM</th>\n",
       "      <th>numAssertInTC</th>\n",
       "      <th>ppnumberOfClasses</th>\n",
       "      <th>ppnumberOfStatements</th>\n",
       "      <th>ppavcc</th>\n",
       "      <th>pphalsteadCumulativeBugs</th>\n",
       "      <th>...</th>\n",
       "      <th>mmhalsteadVolume</th>\n",
       "      <th>mmnumberOfOperands</th>\n",
       "      <th>mminstanceVariablesReferenced</th>\n",
       "      <th>mmlocalInstanceVariablesReferenced</th>\n",
       "      <th>mmnumberOfVariableReferences</th>\n",
       "      <th>mmvariablesReferenced</th>\n",
       "      <th>mmnumberOfOperators</th>\n",
       "      <th>mmmaxDepthOfNesting</th>\n",
       "      <th>mmnumberOfExpressions</th>\n",
       "      <th>mmnumberOfLoops</th>\n",
       "    </tr>\n",
       "  </thead>\n",
       "  <tbody>\n",
       "    <tr>\n",
       "      <th>0</th>\n",
       "      <td>5</td>\n",
       "      <td>0</td>\n",
       "      <td>32</td>\n",
       "      <td>16</td>\n",
       "      <td>2</td>\n",
       "      <td>2</td>\n",
       "      <td>3.0</td>\n",
       "      <td>152.0</td>\n",
       "      <td>1.258065</td>\n",
       "      <td>1.925253</td>\n",
       "      <td>...</td>\n",
       "      <td>50.189475</td>\n",
       "      <td>7.0</td>\n",
       "      <td>0.0</td>\n",
       "      <td>0.0</td>\n",
       "      <td>2.0</td>\n",
       "      <td>1.0</td>\n",
       "      <td>7.0</td>\n",
       "      <td>0.0</td>\n",
       "      <td>1.0</td>\n",
       "      <td>0.0</td>\n",
       "    </tr>\n",
       "    <tr>\n",
       "      <th>1</th>\n",
       "      <td>0</td>\n",
       "      <td>2</td>\n",
       "      <td>1</td>\n",
       "      <td>1</td>\n",
       "      <td>1</td>\n",
       "      <td>2</td>\n",
       "      <td>3.0</td>\n",
       "      <td>152.0</td>\n",
       "      <td>1.258065</td>\n",
       "      <td>1.925253</td>\n",
       "      <td>...</td>\n",
       "      <td>68.000000</td>\n",
       "      <td>7.0</td>\n",
       "      <td>1.0</td>\n",
       "      <td>0.0</td>\n",
       "      <td>1.0</td>\n",
       "      <td>1.0</td>\n",
       "      <td>10.0</td>\n",
       "      <td>0.0</td>\n",
       "      <td>1.0</td>\n",
       "      <td>0.0</td>\n",
       "    </tr>\n",
       "    <tr>\n",
       "      <th>2</th>\n",
       "      <td>4</td>\n",
       "      <td>2</td>\n",
       "      <td>1</td>\n",
       "      <td>1</td>\n",
       "      <td>1</td>\n",
       "      <td>2</td>\n",
       "      <td>3.0</td>\n",
       "      <td>152.0</td>\n",
       "      <td>1.258065</td>\n",
       "      <td>1.925253</td>\n",
       "      <td>...</td>\n",
       "      <td>68.000000</td>\n",
       "      <td>7.0</td>\n",
       "      <td>1.0</td>\n",
       "      <td>0.0</td>\n",
       "      <td>1.0</td>\n",
       "      <td>1.0</td>\n",
       "      <td>10.0</td>\n",
       "      <td>0.0</td>\n",
       "      <td>1.0</td>\n",
       "      <td>0.0</td>\n",
       "    </tr>\n",
       "    <tr>\n",
       "      <th>3</th>\n",
       "      <td>0</td>\n",
       "      <td>1</td>\n",
       "      <td>1</td>\n",
       "      <td>1</td>\n",
       "      <td>1</td>\n",
       "      <td>2</td>\n",
       "      <td>3.0</td>\n",
       "      <td>152.0</td>\n",
       "      <td>1.258065</td>\n",
       "      <td>1.925253</td>\n",
       "      <td>...</td>\n",
       "      <td>46.604513</td>\n",
       "      <td>5.0</td>\n",
       "      <td>0.0</td>\n",
       "      <td>0.0</td>\n",
       "      <td>0.0</td>\n",
       "      <td>0.0</td>\n",
       "      <td>8.0</td>\n",
       "      <td>0.0</td>\n",
       "      <td>1.0</td>\n",
       "      <td>0.0</td>\n",
       "    </tr>\n",
       "    <tr>\n",
       "      <th>4</th>\n",
       "      <td>4</td>\n",
       "      <td>1</td>\n",
       "      <td>1</td>\n",
       "      <td>1</td>\n",
       "      <td>1</td>\n",
       "      <td>2</td>\n",
       "      <td>3.0</td>\n",
       "      <td>152.0</td>\n",
       "      <td>1.258065</td>\n",
       "      <td>1.925253</td>\n",
       "      <td>...</td>\n",
       "      <td>46.604513</td>\n",
       "      <td>5.0</td>\n",
       "      <td>0.0</td>\n",
       "      <td>0.0</td>\n",
       "      <td>0.0</td>\n",
       "      <td>0.0</td>\n",
       "      <td>8.0</td>\n",
       "      <td>0.0</td>\n",
       "      <td>1.0</td>\n",
       "      <td>0.0</td>\n",
       "    </tr>\n",
       "  </tbody>\n",
       "</table>\n",
       "<p>5 rows × 95 columns</p>\n",
       "</div>"
      ],
      "text/plain": [
       "   MutatorClass  returnType  numExecuted  numTestCover  numAssertInTM  \\\n",
       "0             5           0           32            16              2   \n",
       "1             0           2            1             1              1   \n",
       "2             4           2            1             1              1   \n",
       "3             0           1            1             1              1   \n",
       "4             4           1            1             1              1   \n",
       "\n",
       "   numAssertInTC  ppnumberOfClasses  ppnumberOfStatements    ppavcc  \\\n",
       "0              2                3.0                 152.0  1.258065   \n",
       "1              2                3.0                 152.0  1.258065   \n",
       "2              2                3.0                 152.0  1.258065   \n",
       "3              2                3.0                 152.0  1.258065   \n",
       "4              2                3.0                 152.0  1.258065   \n",
       "\n",
       "   pphalsteadCumulativeBugs  ...  mmhalsteadVolume  mmnumberOfOperands  \\\n",
       "0                  1.925253  ...         50.189475                 7.0   \n",
       "1                  1.925253  ...         68.000000                 7.0   \n",
       "2                  1.925253  ...         68.000000                 7.0   \n",
       "3                  1.925253  ...         46.604513                 5.0   \n",
       "4                  1.925253  ...         46.604513                 5.0   \n",
       "\n",
       "   mminstanceVariablesReferenced  mmlocalInstanceVariablesReferenced  \\\n",
       "0                            0.0                                 0.0   \n",
       "1                            1.0                                 0.0   \n",
       "2                            1.0                                 0.0   \n",
       "3                            0.0                                 0.0   \n",
       "4                            0.0                                 0.0   \n",
       "\n",
       "   mmnumberOfVariableReferences  mmvariablesReferenced  mmnumberOfOperators  \\\n",
       "0                           2.0                    1.0                  7.0   \n",
       "1                           1.0                    1.0                 10.0   \n",
       "2                           1.0                    1.0                 10.0   \n",
       "3                           0.0                    0.0                  8.0   \n",
       "4                           0.0                    0.0                  8.0   \n",
       "\n",
       "   mmmaxDepthOfNesting  mmnumberOfExpressions  mmnumberOfLoops  \n",
       "0                  0.0                    1.0              0.0  \n",
       "1                  0.0                    1.0              0.0  \n",
       "2                  0.0                    1.0              0.0  \n",
       "3                  0.0                    1.0              0.0  \n",
       "4                  0.0                    1.0              0.0  \n",
       "\n",
       "[5 rows x 95 columns]"
      ]
     },
     "execution_count": 21,
     "metadata": {},
     "output_type": "execute_result"
    }
   ],
   "source": [
    "X_test.head()"
   ]
  },
  {
   "cell_type": "code",
   "execution_count": 22,
   "metadata": {},
   "outputs": [],
   "source": [
    "names = ['numExecuted','MutatorClass','numAssertInTC','cchalsteadCumulativeBugs','numAssertInTM','mmhalsteadDifficulty','ppavcc','numTestCover','ppnumberOfMethods','ppmaintainabilityIndexNC','ccmaintainabilityIndexNC','ccmaintainabilityIndex']"
   ]
  },
  {
   "cell_type": "code",
   "execution_count": 23,
   "metadata": {},
   "outputs": [
    {
     "data": {
      "text/plain": [
       "12"
      ]
     },
     "execution_count": 23,
     "metadata": {},
     "output_type": "execute_result"
    }
   ],
   "source": [
    "len(names)"
   ]
  },
  {
   "cell_type": "code",
   "execution_count": 24,
   "metadata": {},
   "outputs": [],
   "source": [
    "X_train = X_train[names]"
   ]
  },
  {
   "cell_type": "code",
   "execution_count": 25,
   "metadata": {},
   "outputs": [],
   "source": [
    "X_valid = X_valid[names]"
   ]
  },
  {
   "cell_type": "code",
   "execution_count": 26,
   "metadata": {},
   "outputs": [],
   "source": [
    "X_test = X_test[names]"
   ]
  },
  {
   "cell_type": "code",
   "execution_count": 27,
   "metadata": {},
   "outputs": [],
   "source": [
    "from imblearn.over_sampling import ADASYN"
   ]
  },
  {
   "cell_type": "code",
   "execution_count": 28,
   "metadata": {},
   "outputs": [],
   "source": [
    "sm = ADASYN(random_state=42, n_jobs=-1)"
   ]
  },
  {
   "cell_type": "code",
   "execution_count": 29,
   "metadata": {},
   "outputs": [
    {
     "name": "stdout",
     "output_type": "stream",
     "text": [
      "Wall time: 19.8 s\n"
     ]
    }
   ],
   "source": [
    "%time X_res, y_res = sm.fit_resample(X_train, y_train)"
   ]
  },
  {
   "cell_type": "code",
   "execution_count": 30,
   "metadata": {},
   "outputs": [],
   "source": [
    "X_res = pd.concat([X_res, X_valid], ignore_index=True,axis=0)"
   ]
  },
  {
   "cell_type": "code",
   "execution_count": 31,
   "metadata": {},
   "outputs": [],
   "source": [
    "y_res = pd.concat([y_res, y_valid], ignore_index=True,axis=0)"
   ]
  },
  {
   "cell_type": "code",
   "execution_count": 32,
   "metadata": {},
   "outputs": [
    {
     "data": {
      "text/plain": [
       "0.5045664069480312"
      ]
     },
     "execution_count": 32,
     "metadata": {},
     "output_type": "execute_result"
    }
   ],
   "source": [
    "y_res.sum()/y_res.shape[0]"
   ]
  },
  {
   "cell_type": "code",
   "execution_count": 33,
   "metadata": {},
   "outputs": [
    {
     "data": {
      "text/html": [
       "<div>\n",
       "<style scoped>\n",
       "    .dataframe tbody tr th:only-of-type {\n",
       "        vertical-align: middle;\n",
       "    }\n",
       "\n",
       "    .dataframe tbody tr th {\n",
       "        vertical-align: top;\n",
       "    }\n",
       "\n",
       "    .dataframe thead th {\n",
       "        text-align: right;\n",
       "    }\n",
       "</style>\n",
       "<table border=\"1\" class=\"dataframe\">\n",
       "  <thead>\n",
       "    <tr style=\"text-align: right;\">\n",
       "      <th></th>\n",
       "      <th>numExecuted</th>\n",
       "      <th>MutatorClass</th>\n",
       "      <th>numAssertInTC</th>\n",
       "      <th>cchalsteadCumulativeBugs</th>\n",
       "      <th>numAssertInTM</th>\n",
       "      <th>mmhalsteadDifficulty</th>\n",
       "      <th>ppavcc</th>\n",
       "      <th>numTestCover</th>\n",
       "      <th>ppnumberOfMethods</th>\n",
       "      <th>ppmaintainabilityIndexNC</th>\n",
       "      <th>ccmaintainabilityIndexNC</th>\n",
       "      <th>ccmaintainabilityIndex</th>\n",
       "    </tr>\n",
       "  </thead>\n",
       "  <tbody>\n",
       "    <tr>\n",
       "      <th>0</th>\n",
       "      <td>14</td>\n",
       "      <td>2</td>\n",
       "      <td>14</td>\n",
       "      <td>0.593518</td>\n",
       "      <td>7</td>\n",
       "      <td>13.200000</td>\n",
       "      <td>2.125000</td>\n",
       "      <td>1</td>\n",
       "      <td>16.0</td>\n",
       "      <td>97.125062</td>\n",
       "      <td>99.687474</td>\n",
       "      <td>67.465811</td>\n",
       "    </tr>\n",
       "    <tr>\n",
       "      <th>1</th>\n",
       "      <td>14</td>\n",
       "      <td>6</td>\n",
       "      <td>14</td>\n",
       "      <td>0.593518</td>\n",
       "      <td>7</td>\n",
       "      <td>13.200000</td>\n",
       "      <td>2.125000</td>\n",
       "      <td>1</td>\n",
       "      <td>16.0</td>\n",
       "      <td>97.125062</td>\n",
       "      <td>99.687474</td>\n",
       "      <td>67.465811</td>\n",
       "    </tr>\n",
       "    <tr>\n",
       "      <th>2</th>\n",
       "      <td>14</td>\n",
       "      <td>6</td>\n",
       "      <td>14</td>\n",
       "      <td>0.593518</td>\n",
       "      <td>7</td>\n",
       "      <td>13.200000</td>\n",
       "      <td>2.125000</td>\n",
       "      <td>1</td>\n",
       "      <td>16.0</td>\n",
       "      <td>97.125062</td>\n",
       "      <td>99.687474</td>\n",
       "      <td>67.465811</td>\n",
       "    </tr>\n",
       "    <tr>\n",
       "      <th>3</th>\n",
       "      <td>14</td>\n",
       "      <td>0</td>\n",
       "      <td>14</td>\n",
       "      <td>0.593518</td>\n",
       "      <td>7</td>\n",
       "      <td>13.200000</td>\n",
       "      <td>2.125000</td>\n",
       "      <td>1</td>\n",
       "      <td>16.0</td>\n",
       "      <td>97.125062</td>\n",
       "      <td>99.687474</td>\n",
       "      <td>67.465811</td>\n",
       "    </tr>\n",
       "    <tr>\n",
       "      <th>4</th>\n",
       "      <td>14</td>\n",
       "      <td>0</td>\n",
       "      <td>14</td>\n",
       "      <td>0.593518</td>\n",
       "      <td>7</td>\n",
       "      <td>13.200000</td>\n",
       "      <td>2.125000</td>\n",
       "      <td>1</td>\n",
       "      <td>16.0</td>\n",
       "      <td>97.125062</td>\n",
       "      <td>99.687474</td>\n",
       "      <td>67.465811</td>\n",
       "    </tr>\n",
       "    <tr>\n",
       "      <th>...</th>\n",
       "      <td>...</td>\n",
       "      <td>...</td>\n",
       "      <td>...</td>\n",
       "      <td>...</td>\n",
       "      <td>...</td>\n",
       "      <td>...</td>\n",
       "      <td>...</td>\n",
       "      <td>...</td>\n",
       "      <td>...</td>\n",
       "      <td>...</td>\n",
       "      <td>...</td>\n",
       "      <td>...</td>\n",
       "    </tr>\n",
       "    <tr>\n",
       "      <th>1449384</th>\n",
       "      <td>2</td>\n",
       "      <td>1</td>\n",
       "      <td>98</td>\n",
       "      <td>0.155134</td>\n",
       "      <td>98</td>\n",
       "      <td>14.086957</td>\n",
       "      <td>1.315789</td>\n",
       "      <td>1</td>\n",
       "      <td>19.0</td>\n",
       "      <td>105.285969</td>\n",
       "      <td>117.480534</td>\n",
       "      <td>67.481784</td>\n",
       "    </tr>\n",
       "    <tr>\n",
       "      <th>1449385</th>\n",
       "      <td>2</td>\n",
       "      <td>1</td>\n",
       "      <td>98</td>\n",
       "      <td>0.155134</td>\n",
       "      <td>98</td>\n",
       "      <td>14.086957</td>\n",
       "      <td>1.315789</td>\n",
       "      <td>1</td>\n",
       "      <td>19.0</td>\n",
       "      <td>105.285969</td>\n",
       "      <td>117.480534</td>\n",
       "      <td>67.481784</td>\n",
       "    </tr>\n",
       "    <tr>\n",
       "      <th>1449386</th>\n",
       "      <td>2</td>\n",
       "      <td>1</td>\n",
       "      <td>98</td>\n",
       "      <td>0.155134</td>\n",
       "      <td>98</td>\n",
       "      <td>14.086957</td>\n",
       "      <td>1.315789</td>\n",
       "      <td>1</td>\n",
       "      <td>19.0</td>\n",
       "      <td>105.285969</td>\n",
       "      <td>117.480534</td>\n",
       "      <td>67.481784</td>\n",
       "    </tr>\n",
       "    <tr>\n",
       "      <th>1449387</th>\n",
       "      <td>2</td>\n",
       "      <td>1</td>\n",
       "      <td>98</td>\n",
       "      <td>0.155134</td>\n",
       "      <td>98</td>\n",
       "      <td>14.086957</td>\n",
       "      <td>1.315789</td>\n",
       "      <td>1</td>\n",
       "      <td>19.0</td>\n",
       "      <td>105.285969</td>\n",
       "      <td>117.480534</td>\n",
       "      <td>67.481784</td>\n",
       "    </tr>\n",
       "    <tr>\n",
       "      <th>1449388</th>\n",
       "      <td>1</td>\n",
       "      <td>4</td>\n",
       "      <td>98</td>\n",
       "      <td>0.155134</td>\n",
       "      <td>98</td>\n",
       "      <td>14.086957</td>\n",
       "      <td>1.315789</td>\n",
       "      <td>1</td>\n",
       "      <td>19.0</td>\n",
       "      <td>105.285969</td>\n",
       "      <td>117.480534</td>\n",
       "      <td>67.481784</td>\n",
       "    </tr>\n",
       "  </tbody>\n",
       "</table>\n",
       "<p>1449389 rows × 12 columns</p>\n",
       "</div>"
      ],
      "text/plain": [
       "         numExecuted  MutatorClass  numAssertInTC  cchalsteadCumulativeBugs  \\\n",
       "0                 14             2             14                  0.593518   \n",
       "1                 14             6             14                  0.593518   \n",
       "2                 14             6             14                  0.593518   \n",
       "3                 14             0             14                  0.593518   \n",
       "4                 14             0             14                  0.593518   \n",
       "...              ...           ...            ...                       ...   \n",
       "1449384            2             1             98                  0.155134   \n",
       "1449385            2             1             98                  0.155134   \n",
       "1449386            2             1             98                  0.155134   \n",
       "1449387            2             1             98                  0.155134   \n",
       "1449388            1             4             98                  0.155134   \n",
       "\n",
       "         numAssertInTM  mmhalsteadDifficulty    ppavcc  numTestCover  \\\n",
       "0                    7             13.200000  2.125000             1   \n",
       "1                    7             13.200000  2.125000             1   \n",
       "2                    7             13.200000  2.125000             1   \n",
       "3                    7             13.200000  2.125000             1   \n",
       "4                    7             13.200000  2.125000             1   \n",
       "...                ...                   ...       ...           ...   \n",
       "1449384             98             14.086957  1.315789             1   \n",
       "1449385             98             14.086957  1.315789             1   \n",
       "1449386             98             14.086957  1.315789             1   \n",
       "1449387             98             14.086957  1.315789             1   \n",
       "1449388             98             14.086957  1.315789             1   \n",
       "\n",
       "         ppnumberOfMethods  ppmaintainabilityIndexNC  \\\n",
       "0                     16.0                 97.125062   \n",
       "1                     16.0                 97.125062   \n",
       "2                     16.0                 97.125062   \n",
       "3                     16.0                 97.125062   \n",
       "4                     16.0                 97.125062   \n",
       "...                    ...                       ...   \n",
       "1449384               19.0                105.285969   \n",
       "1449385               19.0                105.285969   \n",
       "1449386               19.0                105.285969   \n",
       "1449387               19.0                105.285969   \n",
       "1449388               19.0                105.285969   \n",
       "\n",
       "         ccmaintainabilityIndexNC  ccmaintainabilityIndex  \n",
       "0                       99.687474               67.465811  \n",
       "1                       99.687474               67.465811  \n",
       "2                       99.687474               67.465811  \n",
       "3                       99.687474               67.465811  \n",
       "4                       99.687474               67.465811  \n",
       "...                           ...                     ...  \n",
       "1449384                117.480534               67.481784  \n",
       "1449385                117.480534               67.481784  \n",
       "1449386                117.480534               67.481784  \n",
       "1449387                117.480534               67.481784  \n",
       "1449388                117.480534               67.481784  \n",
       "\n",
       "[1449389 rows x 12 columns]"
      ]
     },
     "execution_count": 33,
     "metadata": {},
     "output_type": "execute_result"
    }
   ],
   "source": [
    "X_res"
   ]
  },
  {
   "cell_type": "code",
   "execution_count": 34,
   "metadata": {},
   "outputs": [],
   "source": [
    "from sklearn.ensemble import RandomForestClassifier"
   ]
  },
  {
   "cell_type": "code",
   "execution_count": 35,
   "metadata": {},
   "outputs": [],
   "source": [
    "rf = RandomForestClassifier(n_estimators=100, max_features=0.7, oob_score=True, random_state=42, n_jobs=-1)"
   ]
  },
  {
   "cell_type": "code",
   "execution_count": 36,
   "metadata": {},
   "outputs": [
    {
     "name": "stdout",
     "output_type": "stream",
     "text": [
      "Wall time: 4min 24s\n"
     ]
    },
    {
     "data": {
      "text/plain": [
       "RandomForestClassifier(bootstrap=True, ccp_alpha=0.0, class_weight=None,\n",
       "                       criterion='gini', max_depth=None, max_features=0.7,\n",
       "                       max_leaf_nodes=None, max_samples=None,\n",
       "                       min_impurity_decrease=0.0, min_impurity_split=None,\n",
       "                       min_samples_leaf=1, min_samples_split=2,\n",
       "                       min_weight_fraction_leaf=0.0, n_estimators=100,\n",
       "                       n_jobs=-1, oob_score=True, random_state=42, verbose=0,\n",
       "                       warm_start=False)"
      ]
     },
     "execution_count": 36,
     "metadata": {},
     "output_type": "execute_result"
    }
   ],
   "source": [
    "%time rf.fit(X_res, y_res)"
   ]
  },
  {
   "cell_type": "code",
   "execution_count": 37,
   "metadata": {},
   "outputs": [],
   "source": [
    "from sklearn.metrics import roc_auc_score"
   ]
  },
  {
   "cell_type": "code",
   "execution_count": 38,
   "metadata": {},
   "outputs": [],
   "source": [
    "def print_score(m):\n",
    "    res = [m.score(X_train, y_train), m.score(X_test, y_test), roc_auc_score(y_test, m.predict(X_test))]\n",
    "    if hasattr(m, 'oob_score_'): res.append(m.oob_score_)\n",
    "    print(res)"
   ]
  },
  {
   "cell_type": "code",
   "execution_count": 39,
   "metadata": {},
   "outputs": [
    {
     "name": "stdout",
     "output_type": "stream",
     "text": [
      "              precision    recall  f1-score   support\n",
      "\n",
      "       False       0.49      0.63      0.55     20633\n",
      "        True       0.76      0.64      0.69     37843\n",
      "\n",
      "    accuracy                           0.63     58476\n",
      "   macro avg       0.62      0.63      0.62     58476\n",
      "weighted avg       0.66      0.63      0.64     58476\n",
      "\n"
     ]
    }
   ],
   "source": [
    "from sklearn.metrics import classification_report\n",
    "print(classification_report(y_test,  rf.predict(X_test)))"
   ]
  },
  {
   "cell_type": "code",
   "execution_count": 40,
   "metadata": {},
   "outputs": [
    {
     "name": "stdout",
     "output_type": "stream",
     "text": [
      "[0.9083900554103171, 0.6346535330733977, 0.6327711546087227, 0.854705672528217]\n"
     ]
    }
   ],
   "source": [
    "print_score(rf)"
   ]
  },
  {
   "cell_type": "code",
   "execution_count": 41,
   "metadata": {},
   "outputs": [],
   "source": [
    "with open(dPath / \"pa_exp_12.pkl\", 'wb') as filename:\n",
    "    pickle.dump(rf,filename)"
   ]
  },
  {
   "cell_type": "code",
   "execution_count": 42,
   "metadata": {},
   "outputs": [
    {
     "data": {
      "text/plain": [
       "array([0.16593852, 0.0915172 , 0.07750163, 0.0823309 , 0.07685676,\n",
       "       0.11846555, 0.08418802, 0.05553012, 0.06559387, 0.06384832,\n",
       "       0.05862493, 0.05960419])"
      ]
     },
     "execution_count": 42,
     "metadata": {},
     "output_type": "execute_result"
    }
   ],
   "source": [
    "rf.feature_importances_"
   ]
  },
  {
   "cell_type": "code",
   "execution_count": 43,
   "metadata": {},
   "outputs": [],
   "source": [
    "names = X_train.columns"
   ]
  },
  {
   "cell_type": "code",
   "execution_count": 44,
   "metadata": {},
   "outputs": [],
   "source": [
    "feat_importances = pd.Series(rf.feature_importances_, index=names)\n",
    "feat_importances.sort_values(ascending=False,inplace=True)"
   ]
  },
  {
   "cell_type": "code",
   "execution_count": 45,
   "metadata": {},
   "outputs": [
    {
     "data": {
      "text/plain": [
       "numExecuted                 0.165939\n",
       "mmhalsteadDifficulty        0.118466\n",
       "MutatorClass                0.091517\n",
       "ppavcc                      0.084188\n",
       "cchalsteadCumulativeBugs    0.082331\n",
       "numAssertInTC               0.077502\n",
       "numAssertInTM               0.076857\n",
       "ppnumberOfMethods           0.065594\n",
       "ppmaintainabilityIndexNC    0.063848\n",
       "ccmaintainabilityIndex      0.059604\n",
       "ccmaintainabilityIndexNC    0.058625\n",
       "numTestCover                0.055530\n",
       "dtype: float64"
      ]
     },
     "execution_count": 45,
     "metadata": {},
     "output_type": "execute_result"
    }
   ],
   "source": [
    "feat_importances"
   ]
  },
  {
   "cell_type": "code",
   "execution_count": 46,
   "metadata": {},
   "outputs": [],
   "source": [
    "feat_importances.to_excel(dPath / \"pa_feat_importances_12.xlsx\")"
   ]
  },
  {
   "cell_type": "code",
   "execution_count": 47,
   "metadata": {},
   "outputs": [
    {
     "data": {
      "text/plain": [
       "0.6728279828034219"
      ]
     },
     "execution_count": 47,
     "metadata": {},
     "output_type": "execute_result"
    }
   ],
   "source": [
    "y_train.sum() / y_train.shape[0]"
   ]
  },
  {
   "cell_type": "code",
   "execution_count": 54,
   "metadata": {},
   "outputs": [
    {
     "data": {
      "text/plain": [
       "0.6328767328061515"
      ]
     },
     "execution_count": 54,
     "metadata": {},
     "output_type": "execute_result"
    }
   ],
   "source": [
    "from sklearn import metrics\n",
    "metrics.roc_auc_score(y_test, rf.predict_proba(X_test)[:,1] >= 0.5)"
   ]
  },
  {
   "cell_type": "code",
   "execution_count": 49,
   "metadata": {},
   "outputs": [
    {
     "data": {
      "text/plain": [
       "0.2655423092174456"
      ]
     },
     "execution_count": 49,
     "metadata": {},
     "output_type": "execute_result"
    }
   ],
   "source": [
    "metrics.balanced_accuracy_score(y_test, rf.predict(X_test), adjusted=True)"
   ]
  },
  {
   "cell_type": "code",
   "execution_count": 50,
   "metadata": {},
   "outputs": [
    {
     "data": {
      "text/plain": [
       "0.2548375715418029"
      ]
     },
     "execution_count": 50,
     "metadata": {},
     "output_type": "execute_result"
    }
   ],
   "source": [
    "metrics.matthews_corrcoef(y_test, rf.predict(X_test))"
   ]
  },
  {
   "cell_type": "code",
   "execution_count": 51,
   "metadata": {},
   "outputs": [
    {
     "data": {
      "text/plain": [
       "12.618725340267137"
      ]
     },
     "execution_count": 51,
     "metadata": {},
     "output_type": "execute_result"
    }
   ],
   "source": [
    "metrics.log_loss(y_test, rf.predict(X_test))"
   ]
  },
  {
   "cell_type": "code",
   "execution_count": 52,
   "metadata": {},
   "outputs": [
    {
     "data": {
      "text/plain": [
       "0.36534646692660233"
      ]
     },
     "execution_count": 52,
     "metadata": {},
     "output_type": "execute_result"
    }
   ],
   "source": [
    "metrics.zero_one_loss(y_test, rf.predict(X_test))"
   ]
  },
  {
   "cell_type": "code",
   "execution_count": null,
   "metadata": {},
   "outputs": [],
   "source": [
    "with open(dPath / \"test_files.pkl\", 'rb') as filename:\n",
    "    test_files = pickle.load(filename)"
   ]
  },
  {
   "cell_type": "code",
   "execution_count": null,
   "metadata": {},
   "outputs": [],
   "source": [
    "li = []\n",
    "for file in test_files:\n",
    "    df = pd.read_csv(file)\n",
    "    df = df.replace('?',np.NaN)\n",
    "    df[df.columns[3:]] = df[df.columns[3:]].apply(pd.to_numeric)\n",
    "    df.dropna(inplace=True)\n",
    "    li.append(df)"
   ]
  },
  {
   "cell_type": "code",
   "execution_count": null,
   "metadata": {},
   "outputs": [],
   "source": [
    "test_data = pd.concat(li, ignore_index=True,axis=0)\n",
    "test_data = test_data.reset_index(drop=True)"
   ]
  },
  {
   "cell_type": "code",
   "execution_count": null,
   "metadata": {},
   "outputs": [],
   "source": [
    "X_test = test_data.drop(\"Detected\", axis=1)"
   ]
  },
  {
   "cell_type": "code",
   "execution_count": null,
   "metadata": {},
   "outputs": [],
   "source": [
    "X_test['MutatorClass'] = X_test.MutatorClass.map(mutclscodes.get)"
   ]
  },
  {
   "cell_type": "code",
   "execution_count": null,
   "metadata": {},
   "outputs": [],
   "source": [
    "y_test = test_data.Detected"
   ]
  },
  {
   "cell_type": "code",
   "execution_count": null,
   "metadata": {},
   "outputs": [],
   "source": [
    "X_test['returnType'] = X_test.returnType.map(retypecodes.get)"
   ]
  },
  {
   "cell_type": "code",
   "execution_count": null,
   "metadata": {},
   "outputs": [],
   "source": [
    "X_test = X_test[names]"
   ]
  },
  {
   "cell_type": "code",
   "execution_count": null,
   "metadata": {},
   "outputs": [],
   "source": [
    "from sklearn import metrics\n",
    "metrics.roc_auc_score(y_test, rf.predict_proba(X_test)[:,1] >= 0.5)"
   ]
  },
  {
   "cell_type": "code",
   "execution_count": null,
   "metadata": {},
   "outputs": [],
   "source": [
    "metrics.balanced_accuracy_score(y_test, rf.predict(X_test), adjusted=True)"
   ]
  },
  {
   "cell_type": "code",
   "execution_count": null,
   "metadata": {},
   "outputs": [],
   "source": [
    "metrics.matthews_corrcoef(y_test, rf.predict(X_test))"
   ]
  },
  {
   "cell_type": "code",
   "execution_count": null,
   "metadata": {},
   "outputs": [],
   "source": [
    "metrics.log_loss(y_test, rf.predict(X_test))"
   ]
  },
  {
   "cell_type": "code",
   "execution_count": null,
   "metadata": {},
   "outputs": [],
   "source": [
    "metrics.zero_one_loss(y_test, rf.predict(X_test))"
   ]
  },
  {
   "cell_type": "code",
   "execution_count": null,
   "metadata": {},
   "outputs": [],
   "source": [
    "metrics.precision_recall_fscore_support(y_test, rf.predict(X_test))"
   ]
  },
  {
   "cell_type": "code",
   "execution_count": null,
   "metadata": {},
   "outputs": [],
   "source": [
    "with open(dPath / \"rf_exp_original_12_paper.pkl\", 'rb') as filename:\n",
    "    rf = pickle.load(filename)"
   ]
  },
  {
   "cell_type": "code",
   "execution_count": null,
   "metadata": {},
   "outputs": [],
   "source": [
    "rf.feature_importances_"
   ]
  },
  {
   "cell_type": "code",
   "execution_count": null,
   "metadata": {},
   "outputs": [],
   "source": [
    "names = ['MutatorClass','numAssertInTC','numAssertInTM','numExecuted','numTestCover','ppavcc','pploc','ppmaintainabilityIndex','ppmaintainabilityIndexNC','ppnumberOfClasses','ppnumberOfStatements','pptcc']"
   ]
  },
  {
   "cell_type": "code",
   "execution_count": null,
   "metadata": {},
   "outputs": [],
   "source": [
    "feat_importances = pd.Series(rf.feature_importances_, index=names)\n",
    "feat_importances.sort_values(ascending=False,inplace=True)"
   ]
  },
  {
   "cell_type": "code",
   "execution_count": null,
   "metadata": {},
   "outputs": [],
   "source": [
    "feat_importances.to_excel(dPath / \"rf_feat_importances.xlsx\")"
   ]
  },
  {
   "cell_type": "code",
   "execution_count": null,
   "metadata": {},
   "outputs": [],
   "source": []
  }
 ],
 "metadata": {
  "kernelspec": {
   "display_name": "Python 3",
   "language": "python",
   "name": "python3"
  },
  "language_info": {
   "codemirror_mode": {
    "name": "ipython",
    "version": 3
   },
   "file_extension": ".py",
   "mimetype": "text/x-python",
   "name": "python",
   "nbconvert_exporter": "python",
   "pygments_lexer": "ipython3",
   "version": "3.7.4"
  }
 },
 "nbformat": 4,
 "nbformat_minor": 4
}

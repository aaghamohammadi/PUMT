{
 "cells": [
  {
   "cell_type": "code",
   "execution_count": 17,
   "metadata": {},
   "outputs": [],
   "source": [
    "import pandas as pd\n",
    "import numpy as np"
   ]
  },
  {
   "cell_type": "code",
   "execution_count": 2,
   "metadata": {},
   "outputs": [],
   "source": [
    "from pathlib import Path"
   ]
  },
  {
   "cell_type": "code",
   "execution_count": 3,
   "metadata": {},
   "outputs": [],
   "source": [
    "dPath = Path(\"../docs/dumps\")"
   ]
  },
  {
   "cell_type": "code",
   "execution_count": 4,
   "metadata": {},
   "outputs": [],
   "source": [
    "import pickle"
   ]
  },
  {
   "cell_type": "code",
   "execution_count": 5,
   "metadata": {},
   "outputs": [],
   "source": [
    "with open(dPath / \"train_data.pkl\", 'rb') as filename:\n",
    "    train_data = pickle.load(filename)"
   ]
  },
  {
   "cell_type": "code",
   "execution_count": 6,
   "metadata": {},
   "outputs": [],
   "source": [
    "with open(dPath / \"valid_data.pkl\", 'rb') as filename:\n",
    "    valid_data = pickle.load(filename)"
   ]
  },
  {
   "cell_type": "code",
   "execution_count": 7,
   "metadata": {},
   "outputs": [],
   "source": [
    "X_train = train_data.drop(\"Detected\", axis=1)"
   ]
  },
  {
   "cell_type": "code",
   "execution_count": 8,
   "metadata": {},
   "outputs": [],
   "source": [
    "y_train = train_data.Detected"
   ]
  },
  {
   "cell_type": "code",
   "execution_count": 9,
   "metadata": {},
   "outputs": [],
   "source": [
    "X_valid = valid_data.drop(\"Detected\", axis=1)"
   ]
  },
  {
   "cell_type": "code",
   "execution_count": 10,
   "metadata": {},
   "outputs": [],
   "source": [
    "y_valid = valid_data.Detected"
   ]
  },
  {
   "cell_type": "code",
   "execution_count": 11,
   "metadata": {},
   "outputs": [],
   "source": [
    "with open(dPath / \"rf_exp_02_names.pkl\", 'rb') as filename:\n",
    "    names = pickle.load(filename)"
   ]
  },
  {
   "cell_type": "code",
   "execution_count": 12,
   "metadata": {},
   "outputs": [],
   "source": [
    "X_train = X_train[names] "
   ]
  },
  {
   "cell_type": "code",
   "execution_count": 13,
   "metadata": {},
   "outputs": [],
   "source": [
    "X_valid = X_valid[names]"
   ]
  },
  {
   "cell_type": "code",
   "execution_count": 14,
   "metadata": {},
   "outputs": [
    {
     "data": {
      "text/html": [
       "<div>\n",
       "<style scoped>\n",
       "    .dataframe tbody tr th:only-of-type {\n",
       "        vertical-align: middle;\n",
       "    }\n",
       "\n",
       "    .dataframe tbody tr th {\n",
       "        vertical-align: top;\n",
       "    }\n",
       "\n",
       "    .dataframe thead th {\n",
       "        text-align: right;\n",
       "    }\n",
       "</style>\n",
       "<table border=\"1\" class=\"dataframe\">\n",
       "  <thead>\n",
       "    <tr style=\"text-align: right;\">\n",
       "      <th></th>\n",
       "      <th>numExecuted</th>\n",
       "      <th>MutatorClass</th>\n",
       "      <th>numAssertInTC</th>\n",
       "      <th>numTestCover</th>\n",
       "      <th>numAssertInTM</th>\n",
       "      <th>ppavcc</th>\n",
       "      <th>cchalsteadCumulativeBugs</th>\n",
       "      <th>cchalsteadCumulativeVolume</th>\n",
       "      <th>ppRVF</th>\n",
       "      <th>ppnumberOfMethods</th>\n",
       "      <th>...</th>\n",
       "      <th>cchalsteadEffort</th>\n",
       "      <th>ccmaintainabilityIndexNC</th>\n",
       "      <th>mmhalsteadVocabulary</th>\n",
       "      <th>pptcc</th>\n",
       "      <th>mmexternalMethodsCalled</th>\n",
       "      <th>ppinstability</th>\n",
       "      <th>ppmaxcc</th>\n",
       "      <th>mmhalsteadEffort</th>\n",
       "      <th>mmvariablesReferenced</th>\n",
       "      <th>ccunweightedClassSize</th>\n",
       "    </tr>\n",
       "  </thead>\n",
       "  <tbody>\n",
       "    <tr>\n",
       "      <th>0</th>\n",
       "      <td>14</td>\n",
       "      <td>2</td>\n",
       "      <td>14</td>\n",
       "      <td>1</td>\n",
       "      <td>7</td>\n",
       "      <td>2.125</td>\n",
       "      <td>0.593518</td>\n",
       "      <td>1780.554266</td>\n",
       "      <td>13.0</td>\n",
       "      <td>16.0</td>\n",
       "      <td>...</td>\n",
       "      <td>32644.005473</td>\n",
       "      <td>99.687474</td>\n",
       "      <td>21.0</td>\n",
       "      <td>34.0</td>\n",
       "      <td>1.0</td>\n",
       "      <td>0.666667</td>\n",
       "      <td>5.0</td>\n",
       "      <td>2782.972319</td>\n",
       "      <td>3.0</td>\n",
       "      <td>4.0</td>\n",
       "    </tr>\n",
       "    <tr>\n",
       "      <th>1</th>\n",
       "      <td>14</td>\n",
       "      <td>6</td>\n",
       "      <td>14</td>\n",
       "      <td>1</td>\n",
       "      <td>7</td>\n",
       "      <td>2.125</td>\n",
       "      <td>0.593518</td>\n",
       "      <td>1780.554266</td>\n",
       "      <td>13.0</td>\n",
       "      <td>16.0</td>\n",
       "      <td>...</td>\n",
       "      <td>32644.005473</td>\n",
       "      <td>99.687474</td>\n",
       "      <td>21.0</td>\n",
       "      <td>34.0</td>\n",
       "      <td>1.0</td>\n",
       "      <td>0.666667</td>\n",
       "      <td>5.0</td>\n",
       "      <td>2782.972319</td>\n",
       "      <td>3.0</td>\n",
       "      <td>4.0</td>\n",
       "    </tr>\n",
       "    <tr>\n",
       "      <th>2</th>\n",
       "      <td>14</td>\n",
       "      <td>6</td>\n",
       "      <td>14</td>\n",
       "      <td>1</td>\n",
       "      <td>7</td>\n",
       "      <td>2.125</td>\n",
       "      <td>0.593518</td>\n",
       "      <td>1780.554266</td>\n",
       "      <td>13.0</td>\n",
       "      <td>16.0</td>\n",
       "      <td>...</td>\n",
       "      <td>32644.005473</td>\n",
       "      <td>99.687474</td>\n",
       "      <td>21.0</td>\n",
       "      <td>34.0</td>\n",
       "      <td>1.0</td>\n",
       "      <td>0.666667</td>\n",
       "      <td>5.0</td>\n",
       "      <td>2782.972319</td>\n",
       "      <td>3.0</td>\n",
       "      <td>4.0</td>\n",
       "    </tr>\n",
       "    <tr>\n",
       "      <th>3</th>\n",
       "      <td>14</td>\n",
       "      <td>0</td>\n",
       "      <td>14</td>\n",
       "      <td>1</td>\n",
       "      <td>7</td>\n",
       "      <td>2.125</td>\n",
       "      <td>0.593518</td>\n",
       "      <td>1780.554266</td>\n",
       "      <td>13.0</td>\n",
       "      <td>16.0</td>\n",
       "      <td>...</td>\n",
       "      <td>32644.005473</td>\n",
       "      <td>99.687474</td>\n",
       "      <td>21.0</td>\n",
       "      <td>34.0</td>\n",
       "      <td>1.0</td>\n",
       "      <td>0.666667</td>\n",
       "      <td>5.0</td>\n",
       "      <td>2782.972319</td>\n",
       "      <td>3.0</td>\n",
       "      <td>4.0</td>\n",
       "    </tr>\n",
       "    <tr>\n",
       "      <th>4</th>\n",
       "      <td>14</td>\n",
       "      <td>0</td>\n",
       "      <td>14</td>\n",
       "      <td>1</td>\n",
       "      <td>7</td>\n",
       "      <td>2.125</td>\n",
       "      <td>0.593518</td>\n",
       "      <td>1780.554266</td>\n",
       "      <td>13.0</td>\n",
       "      <td>16.0</td>\n",
       "      <td>...</td>\n",
       "      <td>32644.005473</td>\n",
       "      <td>99.687474</td>\n",
       "      <td>21.0</td>\n",
       "      <td>34.0</td>\n",
       "      <td>1.0</td>\n",
       "      <td>0.666667</td>\n",
       "      <td>5.0</td>\n",
       "      <td>2782.972319</td>\n",
       "      <td>3.0</td>\n",
       "      <td>4.0</td>\n",
       "    </tr>\n",
       "  </tbody>\n",
       "</table>\n",
       "<p>5 rows × 38 columns</p>\n",
       "</div>"
      ],
      "text/plain": [
       "   numExecuted  MutatorClass  numAssertInTC  numTestCover  numAssertInTM  \\\n",
       "0           14             2             14             1              7   \n",
       "1           14             6             14             1              7   \n",
       "2           14             6             14             1              7   \n",
       "3           14             0             14             1              7   \n",
       "4           14             0             14             1              7   \n",
       "\n",
       "   ppavcc  cchalsteadCumulativeBugs  cchalsteadCumulativeVolume  ppRVF  \\\n",
       "0   2.125                  0.593518                 1780.554266   13.0   \n",
       "1   2.125                  0.593518                 1780.554266   13.0   \n",
       "2   2.125                  0.593518                 1780.554266   13.0   \n",
       "3   2.125                  0.593518                 1780.554266   13.0   \n",
       "4   2.125                  0.593518                 1780.554266   13.0   \n",
       "\n",
       "   ppnumberOfMethods  ...  cchalsteadEffort  ccmaintainabilityIndexNC  \\\n",
       "0               16.0  ...      32644.005473                 99.687474   \n",
       "1               16.0  ...      32644.005473                 99.687474   \n",
       "2               16.0  ...      32644.005473                 99.687474   \n",
       "3               16.0  ...      32644.005473                 99.687474   \n",
       "4               16.0  ...      32644.005473                 99.687474   \n",
       "\n",
       "   mmhalsteadVocabulary  pptcc  mmexternalMethodsCalled  ppinstability  \\\n",
       "0                  21.0   34.0                      1.0       0.666667   \n",
       "1                  21.0   34.0                      1.0       0.666667   \n",
       "2                  21.0   34.0                      1.0       0.666667   \n",
       "3                  21.0   34.0                      1.0       0.666667   \n",
       "4                  21.0   34.0                      1.0       0.666667   \n",
       "\n",
       "   ppmaxcc  mmhalsteadEffort  mmvariablesReferenced  ccunweightedClassSize  \n",
       "0      5.0       2782.972319                    3.0                    4.0  \n",
       "1      5.0       2782.972319                    3.0                    4.0  \n",
       "2      5.0       2782.972319                    3.0                    4.0  \n",
       "3      5.0       2782.972319                    3.0                    4.0  \n",
       "4      5.0       2782.972319                    3.0                    4.0  \n",
       "\n",
       "[5 rows x 38 columns]"
      ]
     },
     "execution_count": 14,
     "metadata": {},
     "output_type": "execute_result"
    }
   ],
   "source": [
    "X_train.head()"
   ]
  },
  {
   "cell_type": "code",
   "execution_count": 20,
   "metadata": {},
   "outputs": [],
   "source": [
    "import scipy.stats\n",
    "from scipy.cluster import hierarchy as hc\n",
    "import matplotlib.pyplot as plt"
   ]
  },
  {
   "cell_type": "code",
   "execution_count": 61,
   "metadata": {},
   "outputs": [
    {
     "data": {
      "image/png": "[encoded data removed]",
      "text/plain": [
       "<Figure size 1152x720 with 1 Axes>"
      ]
     },
     "metadata": {
      "needs_background": "light"
     },
     "output_type": "display_data"
    }
   ],
   "source": [
    "corr = np.round(scipy.stats.spearmanr(X_train).correlation, 4)\n",
    "corr_condensed = hc.distance.squareform(1-corr)\n",
    "z = hc.linkage(corr_condensed, method='average')\n",
    "fig = plt.figure(figsize=(16,10))\n",
    "dendrogram = hc.dendrogram(z, labels=X_train.columns, orientation='left', leaf_font_size=16)\n",
    "plt.show()"
   ]
  },
  {
   "cell_type": "code",
   "execution_count": 62,
   "metadata": {},
   "outputs": [
    {
     "data": {
      "text/plain": [
       "array([[ 8.        ,  9.        ,  0.1019    ,  2.        ],\n",
       "       [23.        , 30.        ,  0.1403    ,  3.        ],\n",
       "       [ 2.        ,  4.        ,  0.1546    ,  2.        ],\n",
       "       [13.        , 28.        ,  0.1839    ,  2.        ],\n",
       "       [10.        , 24.        ,  0.2829    ,  2.        ],\n",
       "       [ 6.        , 16.        ,  0.2999    ,  2.        ],\n",
       "       [ 0.        ,  3.        ,  0.3415    ,  2.        ],\n",
       "       [11.        , 22.        ,  0.3729    ,  2.        ],\n",
       "       [ 5.        , 27.        ,  0.3754    ,  2.        ],\n",
       "       [25.        , 33.        ,  0.39635   ,  3.        ],\n",
       "       [29.        , 35.        ,  0.4111    ,  3.        ],\n",
       "       [32.        , 36.        ,  0.503125  ,  4.        ],\n",
       "       [15.        , 34.        ,  0.50945   ,  3.        ],\n",
       "       [12.        , 42.        ,  0.5214    ,  4.        ],\n",
       "       [ 7.        , 38.        ,  0.60075   ,  3.        ],\n",
       "       [39.        , 44.        ,  0.67082222,  6.        ],\n",
       "       [21.        , 40.        ,  0.67496667,  4.        ],\n",
       "       [18.        , 37.        ,  0.7122    ,  3.        ],\n",
       "       [14.        , 31.        ,  0.7629    ,  4.        ],\n",
       "       [41.        , 48.        ,  0.80878125,  8.        ],\n",
       "       [17.        , 45.        ,  0.82626667,  7.        ],\n",
       "       [46.        , 50.        ,  0.83999286, 11.        ],\n",
       "       [49.        , 51.        ,  0.89243977, 19.        ],\n",
       "       [43.        , 47.        ,  0.92425833,  7.        ],\n",
       "       [19.        , 53.        ,  0.96704286,  8.        ],\n",
       "       [20.        , 52.        ,  0.96796316, 20.        ],\n",
       "       [ 1.        , 55.        ,  1.010325  , 21.        ],\n",
       "       [26.        , 56.        ,  1.01261905, 22.        ],\n",
       "       [54.        , 57.        ,  1.07756761, 30.        ]])"
      ]
     },
     "execution_count": 62,
     "metadata": {},
     "output_type": "execute_result"
    }
   ],
   "source": [
    "z"
   ]
  },
  {
   "cell_type": "code",
   "execution_count": 26,
   "metadata": {},
   "outputs": [],
   "source": [
    "from sklearn.ensemble import RandomForestClassifier"
   ]
  },
  {
   "cell_type": "code",
   "execution_count": 27,
   "metadata": {},
   "outputs": [],
   "source": [
    "rf = RandomForestClassifier(n_estimators=20, max_features=0.5, oob_score=True, random_state=42, n_jobs=-1)"
   ]
  },
  {
   "cell_type": "code",
   "execution_count": 54,
   "metadata": {},
   "outputs": [],
   "source": [
    "X_train.drop(['mmnumberOfExpressions'], axis=1,inplace=True)"
   ]
  },
  {
   "cell_type": "code",
   "execution_count": 55,
   "metadata": {},
   "outputs": [],
   "source": [
    "X_valid.drop(['mmnumberOfExpressions'], axis=1,inplace=True)"
   ]
  },
  {
   "cell_type": "code",
   "execution_count": 56,
   "metadata": {},
   "outputs": [
    {
     "name": "stdout",
     "output_type": "stream",
     "text": [
      "Wall time: 45 s\n"
     ]
    },
    {
     "name": "stderr",
     "output_type": "stream",
     "text": [
      "C:\\Users\\Alireza\\Anaconda3\\lib\\site-packages\\sklearn\\ensemble\\_forest.py:523: UserWarning: Some inputs do not have OOB scores. This probably means too few trees were used to compute any reliable oob estimates.\n",
      "  warn(\"Some inputs do not have OOB scores. \"\n",
      "C:\\Users\\Alireza\\Anaconda3\\lib\\site-packages\\sklearn\\ensemble\\_forest.py:528: RuntimeWarning: invalid value encountered in true_divide\n",
      "  predictions[k].sum(axis=1)[:, np.newaxis])\n"
     ]
    },
    {
     "data": {
      "text/plain": [
       "RandomForestClassifier(bootstrap=True, ccp_alpha=0.0, class_weight=None,\n",
       "                       criterion='gini', max_depth=None, max_features=0.5,\n",
       "                       max_leaf_nodes=None, max_samples=None,\n",
       "                       min_impurity_decrease=0.0, min_impurity_split=None,\n",
       "                       min_samples_leaf=1, min_samples_split=2,\n",
       "                       min_weight_fraction_leaf=0.0, n_estimators=20, n_jobs=-1,\n",
       "                       oob_score=True, random_state=42, verbose=0,\n",
       "                       warm_start=False)"
      ]
     },
     "execution_count": 56,
     "metadata": {},
     "output_type": "execute_result"
    }
   ],
   "source": [
    "%time rf.fit(X_train, y_train)"
   ]
  },
  {
   "cell_type": "code",
   "execution_count": 44,
   "metadata": {},
   "outputs": [],
   "source": [
    "from sklearn.metrics import roc_auc_score\n",
    "from sklearn.metrics import classification_report"
   ]
  },
  {
   "cell_type": "code",
   "execution_count": 45,
   "metadata": {},
   "outputs": [],
   "source": [
    "def print_score(m):\n",
    "    res = [m.score(X_train, y_train), m.score(X_valid, y_valid), roc_auc_score(y_valid, m.predict(X_valid))]\n",
    "    if hasattr(m, 'oob_score_'): res.append(m.oob_score_)\n",
    "    print(res)"
   ]
  },
  {
   "cell_type": "code",
   "execution_count": 46,
   "metadata": {},
   "outputs": [],
   "source": [
    "def conf_matr(m):\n",
    "    y_pred = m.predict(X_valid)\n",
    "    print(classification_report(y_valid, y_pred))"
   ]
  },
  {
   "cell_type": "code",
   "execution_count": 57,
   "metadata": {},
   "outputs": [
    {
     "name": "stdout",
     "output_type": "stream",
     "text": [
      "[0.9223988593622079, 0.7429921773142112, 0.5446785829854763, 0.846868189890089]\n"
     ]
    }
   ],
   "source": [
    "print_score(rf)"
   ]
  },
  {
   "cell_type": "code",
   "execution_count": 58,
   "metadata": {},
   "outputs": [
    {
     "name": "stdout",
     "output_type": "stream",
     "text": [
      "              precision    recall  f1-score   support\n",
      "\n",
      "       False       0.44      0.15      0.23     16657\n",
      "        True       0.77      0.94      0.85     50839\n",
      "\n",
      "    accuracy                           0.74     67496\n",
      "   macro avg       0.61      0.54      0.54     67496\n",
      "weighted avg       0.69      0.74      0.69     67496\n",
      "\n"
     ]
    }
   ],
   "source": [
    "conf_matr(rf)"
   ]
  },
  {
   "cell_type": "code",
   "execution_count": 64,
   "metadata": {},
   "outputs": [],
   "source": [
    "with open(dPath / \"rf_exp_03.pkl\", 'wb') as filename:\n",
    "    pickle.dump(rf,filename)"
   ]
  },
  {
   "cell_type": "code",
   "execution_count": 59,
   "metadata": {},
   "outputs": [],
   "source": [
    "names = X_train.columns"
   ]
  },
  {
   "cell_type": "code",
   "execution_count": 50,
   "metadata": {},
   "outputs": [],
   "source": [
    "feat_importances = pd.Series(rf.feature_importances_, index=names)\n",
    "feat_importances.sort_values(ascending=False,inplace=True)"
   ]
  },
  {
   "cell_type": "code",
   "execution_count": 60,
   "metadata": {},
   "outputs": [
    {
     "data": {
      "text/plain": [
       "numExecuted                      0.120864\n",
       "MutatorClass                     0.106782\n",
       "numAssertInTC                    0.074692\n",
       "numAssertInTM                    0.050178\n",
       "cchalsteadCumulativeBugs         0.044208\n",
       "ppavcc                           0.041874\n",
       "numTestCover                     0.039487\n",
       "mmhalsteadDifficulty             0.036803\n",
       "mmnumberOfExpressions            0.035592\n",
       "ppmaxcc                          0.031525\n",
       "ppnumberOfMethods                0.030909\n",
       "ppmaintainabilityIndexNC         0.025194\n",
       "ccmaintainabilityIndex           0.023816\n",
       "mmvariablesReferenced            0.023152\n",
       "ccmaintainabilityIndexNC         0.022815\n",
       "ppinstability                    0.021580\n",
       "ppRVF                            0.021372\n",
       "pploc                            0.021305\n",
       "ccunweightedClassSize            0.020806\n",
       "ccexternalMethodCalls            0.020449\n",
       "ppnumberOfClasses                0.020050\n",
       "mmexternalMethodsCalled          0.019684\n",
       "ppmaintainabilityIndex           0.019589\n",
       "mminstanceVariablesReferenced    0.019245\n",
       "ccimportedPackages               0.018235\n",
       "ppdistance                       0.017376\n",
       "returnType                       0.016373\n",
       "ppabstractness                   0.015321\n",
       "ccfanIn                          0.014279\n",
       "ppfanout                         0.013657\n",
       "ppfanin                          0.012788\n",
       "dtype: float64"
      ]
     },
     "execution_count": 60,
     "metadata": {},
     "output_type": "execute_result"
    }
   ],
   "source": [
    "feat_importances"
   ]
  },
  {
   "cell_type": "code",
   "execution_count": 65,
   "metadata": {},
   "outputs": [],
   "source": [
    "with open(dPath / \"rf_exp_03_names.pkl\", 'wb') as filename:\n",
    "    pickle.dump(names,filename)"
   ]
  },
  {
   "cell_type": "code",
   "execution_count": null,
   "metadata": {},
   "outputs": [],
   "source": []
  }
 ],
 "metadata": {
  "kernelspec": {
   "display_name": "Python 3",
   "language": "python",
   "name": "python3"
  },
  "language_info": {
   "codemirror_mode": {
    "name": "ipython",
    "version": 3
   },
   "file_extension": ".py",
   "mimetype": "text/x-python",
   "name": "python",
   "nbconvert_exporter": "python",
   "pygments_lexer": "ipython3",
   "version": "3.7.4"
  }
 },
 "nbformat": 4,
 "nbformat_minor": 4
}

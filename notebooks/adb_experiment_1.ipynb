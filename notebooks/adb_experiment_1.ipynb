{
 "cells": [
  {
   "cell_type": "code",
   "execution_count": 25,
   "metadata": {},
   "outputs": [],
   "source": [
    "import pandas as pd\n",
    "import numpy as np"
   ]
  },
  {
   "cell_type": "code",
   "execution_count": 26,
   "metadata": {},
   "outputs": [],
   "source": [
    "from pathlib import Path"
   ]
  },
  {
   "cell_type": "code",
   "execution_count": 27,
   "metadata": {},
   "outputs": [],
   "source": [
    "dPath = Path(\"../docs/dumps\")"
   ]
  },
  {
   "cell_type": "code",
   "execution_count": 28,
   "metadata": {},
   "outputs": [],
   "source": [
    "import pickle"
   ]
  },
  {
   "cell_type": "code",
   "execution_count": 29,
   "metadata": {},
   "outputs": [],
   "source": [
    "with open(dPath / \"train_data.pkl\", 'rb') as filename:\n",
    "    train_data = pickle.load(filename)"
   ]
  },
  {
   "cell_type": "code",
   "execution_count": 30,
   "metadata": {},
   "outputs": [],
   "source": [
    "with open(dPath / \"valid_data.pkl\", 'rb') as filename:\n",
    "    valid_data = pickle.load(filename)"
   ]
  },
  {
   "cell_type": "code",
   "execution_count": 31,
   "metadata": {},
   "outputs": [],
   "source": [
    "X_train = train_data.drop(\"Detected\", axis=1)"
   ]
  },
  {
   "cell_type": "code",
   "execution_count": 32,
   "metadata": {},
   "outputs": [],
   "source": [
    "y_train = train_data.Detected"
   ]
  },
  {
   "cell_type": "code",
   "execution_count": 33,
   "metadata": {},
   "outputs": [],
   "source": [
    "X_valid = valid_data.drop(\"Detected\", axis=1)"
   ]
  },
  {
   "cell_type": "code",
   "execution_count": 34,
   "metadata": {},
   "outputs": [],
   "source": [
    "y_valid = valid_data.Detected"
   ]
  },
  {
   "cell_type": "code",
   "execution_count": 35,
   "metadata": {},
   "outputs": [],
   "source": [
    "with open(dPath / \"rf_exp_04_names.pkl\", 'rb') as filename:\n",
    "    names = pickle.load(filename)"
   ]
  },
  {
   "cell_type": "code",
   "execution_count": 36,
   "metadata": {},
   "outputs": [],
   "source": [
    "X_train = X_train[names] "
   ]
  },
  {
   "cell_type": "code",
   "execution_count": 37,
   "metadata": {},
   "outputs": [],
   "source": [
    "X_valid = X_valid[names]"
   ]
  },
  {
   "cell_type": "code",
   "execution_count": 38,
   "metadata": {},
   "outputs": [
    {
     "data": {
      "text/html": [
       "<div>\n",
       "<style scoped>\n",
       "    .dataframe tbody tr th:only-of-type {\n",
       "        vertical-align: middle;\n",
       "    }\n",
       "\n",
       "    .dataframe tbody tr th {\n",
       "        vertical-align: top;\n",
       "    }\n",
       "\n",
       "    .dataframe thead th {\n",
       "        text-align: right;\n",
       "    }\n",
       "</style>\n",
       "<table border=\"1\" class=\"dataframe\">\n",
       "  <thead>\n",
       "    <tr style=\"text-align: right;\">\n",
       "      <th></th>\n",
       "      <th>numExecuted</th>\n",
       "      <th>MutatorClass</th>\n",
       "      <th>numAssertInTC</th>\n",
       "      <th>numTestCover</th>\n",
       "      <th>numAssertInTM</th>\n",
       "      <th>ppavcc</th>\n",
       "      <th>cchalsteadCumulativeBugs</th>\n",
       "      <th>cchalsteadCumulativeVolume</th>\n",
       "      <th>ppRVF</th>\n",
       "      <th>ppnumberOfMethods</th>\n",
       "      <th>...</th>\n",
       "      <th>cchalsteadEffort</th>\n",
       "      <th>ccmaintainabilityIndexNC</th>\n",
       "      <th>mmhalsteadVocabulary</th>\n",
       "      <th>pptcc</th>\n",
       "      <th>mmexternalMethodsCalled</th>\n",
       "      <th>ppinstability</th>\n",
       "      <th>ppmaxcc</th>\n",
       "      <th>mmhalsteadEffort</th>\n",
       "      <th>mmvariablesReferenced</th>\n",
       "      <th>ccunweightedClassSize</th>\n",
       "    </tr>\n",
       "  </thead>\n",
       "  <tbody>\n",
       "    <tr>\n",
       "      <th>0</th>\n",
       "      <td>14</td>\n",
       "      <td>2</td>\n",
       "      <td>14</td>\n",
       "      <td>1</td>\n",
       "      <td>7</td>\n",
       "      <td>2.125</td>\n",
       "      <td>0.593518</td>\n",
       "      <td>1780.554266</td>\n",
       "      <td>13.0</td>\n",
       "      <td>16.0</td>\n",
       "      <td>...</td>\n",
       "      <td>32644.005473</td>\n",
       "      <td>99.687474</td>\n",
       "      <td>21.0</td>\n",
       "      <td>34.0</td>\n",
       "      <td>1.0</td>\n",
       "      <td>0.666667</td>\n",
       "      <td>5.0</td>\n",
       "      <td>2782.972319</td>\n",
       "      <td>3.0</td>\n",
       "      <td>4.0</td>\n",
       "    </tr>\n",
       "    <tr>\n",
       "      <th>1</th>\n",
       "      <td>14</td>\n",
       "      <td>6</td>\n",
       "      <td>14</td>\n",
       "      <td>1</td>\n",
       "      <td>7</td>\n",
       "      <td>2.125</td>\n",
       "      <td>0.593518</td>\n",
       "      <td>1780.554266</td>\n",
       "      <td>13.0</td>\n",
       "      <td>16.0</td>\n",
       "      <td>...</td>\n",
       "      <td>32644.005473</td>\n",
       "      <td>99.687474</td>\n",
       "      <td>21.0</td>\n",
       "      <td>34.0</td>\n",
       "      <td>1.0</td>\n",
       "      <td>0.666667</td>\n",
       "      <td>5.0</td>\n",
       "      <td>2782.972319</td>\n",
       "      <td>3.0</td>\n",
       "      <td>4.0</td>\n",
       "    </tr>\n",
       "    <tr>\n",
       "      <th>2</th>\n",
       "      <td>14</td>\n",
       "      <td>6</td>\n",
       "      <td>14</td>\n",
       "      <td>1</td>\n",
       "      <td>7</td>\n",
       "      <td>2.125</td>\n",
       "      <td>0.593518</td>\n",
       "      <td>1780.554266</td>\n",
       "      <td>13.0</td>\n",
       "      <td>16.0</td>\n",
       "      <td>...</td>\n",
       "      <td>32644.005473</td>\n",
       "      <td>99.687474</td>\n",
       "      <td>21.0</td>\n",
       "      <td>34.0</td>\n",
       "      <td>1.0</td>\n",
       "      <td>0.666667</td>\n",
       "      <td>5.0</td>\n",
       "      <td>2782.972319</td>\n",
       "      <td>3.0</td>\n",
       "      <td>4.0</td>\n",
       "    </tr>\n",
       "    <tr>\n",
       "      <th>3</th>\n",
       "      <td>14</td>\n",
       "      <td>0</td>\n",
       "      <td>14</td>\n",
       "      <td>1</td>\n",
       "      <td>7</td>\n",
       "      <td>2.125</td>\n",
       "      <td>0.593518</td>\n",
       "      <td>1780.554266</td>\n",
       "      <td>13.0</td>\n",
       "      <td>16.0</td>\n",
       "      <td>...</td>\n",
       "      <td>32644.005473</td>\n",
       "      <td>99.687474</td>\n",
       "      <td>21.0</td>\n",
       "      <td>34.0</td>\n",
       "      <td>1.0</td>\n",
       "      <td>0.666667</td>\n",
       "      <td>5.0</td>\n",
       "      <td>2782.972319</td>\n",
       "      <td>3.0</td>\n",
       "      <td>4.0</td>\n",
       "    </tr>\n",
       "    <tr>\n",
       "      <th>4</th>\n",
       "      <td>14</td>\n",
       "      <td>0</td>\n",
       "      <td>14</td>\n",
       "      <td>1</td>\n",
       "      <td>7</td>\n",
       "      <td>2.125</td>\n",
       "      <td>0.593518</td>\n",
       "      <td>1780.554266</td>\n",
       "      <td>13.0</td>\n",
       "      <td>16.0</td>\n",
       "      <td>...</td>\n",
       "      <td>32644.005473</td>\n",
       "      <td>99.687474</td>\n",
       "      <td>21.0</td>\n",
       "      <td>34.0</td>\n",
       "      <td>1.0</td>\n",
       "      <td>0.666667</td>\n",
       "      <td>5.0</td>\n",
       "      <td>2782.972319</td>\n",
       "      <td>3.0</td>\n",
       "      <td>4.0</td>\n",
       "    </tr>\n",
       "  </tbody>\n",
       "</table>\n",
       "<p>5 rows × 38 columns</p>\n",
       "</div>"
      ],
      "text/plain": [
       "   numExecuted  MutatorClass  numAssertInTC  numTestCover  numAssertInTM  \\\n",
       "0           14             2             14             1              7   \n",
       "1           14             6             14             1              7   \n",
       "2           14             6             14             1              7   \n",
       "3           14             0             14             1              7   \n",
       "4           14             0             14             1              7   \n",
       "\n",
       "   ppavcc  cchalsteadCumulativeBugs  cchalsteadCumulativeVolume  ppRVF  \\\n",
       "0   2.125                  0.593518                 1780.554266   13.0   \n",
       "1   2.125                  0.593518                 1780.554266   13.0   \n",
       "2   2.125                  0.593518                 1780.554266   13.0   \n",
       "3   2.125                  0.593518                 1780.554266   13.0   \n",
       "4   2.125                  0.593518                 1780.554266   13.0   \n",
       "\n",
       "   ppnumberOfMethods  ...  cchalsteadEffort  ccmaintainabilityIndexNC  \\\n",
       "0               16.0  ...      32644.005473                 99.687474   \n",
       "1               16.0  ...      32644.005473                 99.687474   \n",
       "2               16.0  ...      32644.005473                 99.687474   \n",
       "3               16.0  ...      32644.005473                 99.687474   \n",
       "4               16.0  ...      32644.005473                 99.687474   \n",
       "\n",
       "   mmhalsteadVocabulary  pptcc  mmexternalMethodsCalled  ppinstability  \\\n",
       "0                  21.0   34.0                      1.0       0.666667   \n",
       "1                  21.0   34.0                      1.0       0.666667   \n",
       "2                  21.0   34.0                      1.0       0.666667   \n",
       "3                  21.0   34.0                      1.0       0.666667   \n",
       "4                  21.0   34.0                      1.0       0.666667   \n",
       "\n",
       "   ppmaxcc  mmhalsteadEffort  mmvariablesReferenced  ccunweightedClassSize  \n",
       "0      5.0       2782.972319                    3.0                    4.0  \n",
       "1      5.0       2782.972319                    3.0                    4.0  \n",
       "2      5.0       2782.972319                    3.0                    4.0  \n",
       "3      5.0       2782.972319                    3.0                    4.0  \n",
       "4      5.0       2782.972319                    3.0                    4.0  \n",
       "\n",
       "[5 rows x 38 columns]"
      ]
     },
     "execution_count": 38,
     "metadata": {},
     "output_type": "execute_result"
    }
   ],
   "source": [
    "X_train.head()"
   ]
  },
  {
   "cell_type": "code",
   "execution_count": 39,
   "metadata": {},
   "outputs": [],
   "source": [
    "from imblearn.over_sampling import ADASYN"
   ]
  },
  {
   "cell_type": "code",
   "execution_count": 40,
   "metadata": {},
   "outputs": [],
   "source": [
    "sm = ADASYN(random_state=42, n_jobs=-1,  n_neighbors=5)"
   ]
  },
  {
   "cell_type": "code",
   "execution_count": 41,
   "metadata": {},
   "outputs": [
    {
     "name": "stdout",
     "output_type": "stream",
     "text": [
      "Wall time: 54.5 s\n"
     ]
    }
   ],
   "source": [
    "%time X_res, y_res = sm.fit_resample(X_train, y_train)"
   ]
  },
  {
   "cell_type": "code",
   "execution_count": 42,
   "metadata": {},
   "outputs": [],
   "source": [
    "from sklearn.ensemble import AdaBoostClassifier\n",
    "from sklearn.tree import DecisionTreeClassifier"
   ]
  },
  {
   "cell_type": "code",
   "execution_count": 43,
   "metadata": {},
   "outputs": [],
   "source": [
    "adb = AdaBoostClassifier(base_estimator=DecisionTreeClassifier(max_depth=3), n_estimators=50, random_state=42)"
   ]
  },
  {
   "cell_type": "code",
   "execution_count": 54,
   "metadata": {},
   "outputs": [
    {
     "name": "stdout",
     "output_type": "stream",
     "text": [
      "Wall time: 7min 20s\n"
     ]
    },
    {
     "data": {
      "text/plain": [
       "AdaBoostClassifier(algorithm='SAMME.R',\n",
       "                   base_estimator=DecisionTreeClassifier(ccp_alpha=0.0,\n",
       "                                                         class_weight=None,\n",
       "                                                         criterion='gini',\n",
       "                                                         max_depth=3,\n",
       "                                                         max_features=None,\n",
       "                                                         max_leaf_nodes=None,\n",
       "                                                         min_impurity_decrease=0.0,\n",
       "                                                         min_impurity_split=None,\n",
       "                                                         min_samples_leaf=1,\n",
       "                                                         min_samples_split=2,\n",
       "                                                         min_weight_fraction_leaf=0.0,\n",
       "                                                         presort='deprecated',\n",
       "                                                         random_state=None,\n",
       "                                                         splitter='best'),\n",
       "                   learning_rate=1.0, n_estimators=50, random_state=42)"
      ]
     },
     "execution_count": 54,
     "metadata": {},
     "output_type": "execute_result"
    }
   ],
   "source": [
    "%time adb.fit(X_res, y_res)"
   ]
  },
  {
   "cell_type": "code",
   "execution_count": 55,
   "metadata": {},
   "outputs": [],
   "source": [
    "from sklearn.metrics import roc_auc_score\n",
    "from sklearn.metrics import classification_report"
   ]
  },
  {
   "cell_type": "code",
   "execution_count": 56,
   "metadata": {},
   "outputs": [],
   "source": [
    "def print_score(m):\n",
    "    res = [m.score(X_train, y_train), m.score(X_valid, y_valid), roc_auc_score(y_valid, m.predict(X_valid))]\n",
    "    if hasattr(m, 'oob_score_'): res.append(m.oob_score_)\n",
    "    print(res)"
   ]
  },
  {
   "cell_type": "code",
   "execution_count": 57,
   "metadata": {},
   "outputs": [],
   "source": [
    "def conf_matr(m):\n",
    "    y_pred = m.predict(X_valid)\n",
    "    print(classification_report(y_valid, y_pred))"
   ]
  },
  {
   "cell_type": "code",
   "execution_count": 58,
   "metadata": {},
   "outputs": [
    {
     "name": "stdout",
     "output_type": "stream",
     "text": [
      "[0.7311838269900847, 0.6688692663268935, 0.6063974395812252]\n"
     ]
    }
   ],
   "source": [
    "print_score(adb)"
   ]
  },
  {
   "cell_type": "code",
   "execution_count": 59,
   "metadata": {},
   "outputs": [
    {
     "name": "stdout",
     "output_type": "stream",
     "text": [
      "              precision    recall  f1-score   support\n",
      "\n",
      "       False       0.37      0.48      0.42     16657\n",
      "        True       0.81      0.73      0.77     50839\n",
      "\n",
      "    accuracy                           0.67     67496\n",
      "   macro avg       0.59      0.61      0.59     67496\n",
      "weighted avg       0.70      0.67      0.68     67496\n",
      "\n"
     ]
    }
   ],
   "source": [
    "conf_matr(adb)"
   ]
  },
  {
   "cell_type": "code",
   "execution_count": 60,
   "metadata": {},
   "outputs": [],
   "source": [
    "with open(dPath / \"adb_exp_01.pkl\", 'wb') as filename:\n",
    "    pickle.dump(adb,filename)"
   ]
  },
  {
   "cell_type": "code",
   "execution_count": 61,
   "metadata": {},
   "outputs": [],
   "source": [
    "names = X_train.columns"
   ]
  },
  {
   "cell_type": "code",
   "execution_count": 62,
   "metadata": {},
   "outputs": [],
   "source": [
    "feat_importances = pd.Series(adb.feature_importances_, index=names)\n",
    "feat_importances.sort_values(ascending=False,inplace=True)"
   ]
  },
  {
   "cell_type": "code",
   "execution_count": 63,
   "metadata": {},
   "outputs": [
    {
     "data": {
      "text/plain": [
       "MutatorClass                     0.073829\n",
       "mminstanceVariablesReferenced    0.057197\n",
       "numAssertInTM                    0.052347\n",
       "mmvariablesReferenced            0.048652\n",
       "mmnumberOfExpressions            0.047272\n",
       "pploc                            0.041975\n",
       "ppnumberOfClasses                0.041739\n",
       "ppavcc                           0.038246\n",
       "mmexternalMethodsCalled          0.035979\n",
       "numTestCover                     0.035207\n",
       "numExecuted                      0.033950\n",
       "ccimportedPackages               0.032654\n",
       "numAssertInTC                    0.031179\n",
       "ccfanIn                          0.030213\n",
       "pptcc                            0.027669\n",
       "ppmaxcc                          0.027300\n",
       "ppfanin                          0.026992\n",
       "ppmaintainabilityIndex           0.026113\n",
       "ppnumberOfMethods                0.025350\n",
       "ccmaintainabilityIndex           0.024119\n",
       "ppRVF                            0.023071\n",
       "ppinstability                    0.022948\n",
       "cchalsteadEffort                 0.021569\n",
       "ppmaintainabilityIndexNC         0.019262\n",
       "mmhalsteadVocabulary             0.017050\n",
       "ccunweightedClassSize            0.015336\n",
       "mmhalsteadDifficulty             0.015135\n",
       "ccexternalMethodCalls            0.013728\n",
       "ppabstractness                   0.013524\n",
       "returnType                       0.013357\n",
       "cchalsteadCumulativeVolume       0.013203\n",
       "cchalsteadCumulativeBugs         0.010004\n",
       "ppnumberOfStatements             0.009032\n",
       "ppfanout                         0.008503\n",
       "ppdistance                       0.008329\n",
       "ccnumberOfStatements             0.007914\n",
       "ccmaintainabilityIndexNC         0.005480\n",
       "mmhalsteadEffort                 0.004574\n",
       "dtype: float64"
      ]
     },
     "execution_count": 63,
     "metadata": {},
     "output_type": "execute_result"
    }
   ],
   "source": [
    "feat_importances"
   ]
  },
  {
   "cell_type": "code",
   "execution_count": 64,
   "metadata": {},
   "outputs": [],
   "source": [
    "with open(dPath / \"adb_exp_01_names.pkl\", 'wb') as filename:\n",
    "    pickle.dump(names,filename)"
   ]
  }
 ],
 "metadata": {
  "kernelspec": {
   "display_name": "Python 3",
   "language": "python",
   "name": "python3"
  },
  "language_info": {
   "codemirror_mode": {
    "name": "ipython",
    "version": 3
   },
   "file_extension": ".py",
   "mimetype": "text/x-python",
   "name": "python",
   "nbconvert_exporter": "python",
   "pygments_lexer": "ipython3",
   "version": "3.7.4"
  }
 },
 "nbformat": 4,
 "nbformat_minor": 4
}

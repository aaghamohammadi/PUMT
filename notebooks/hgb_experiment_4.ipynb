{
 "cells": [
  {
   "cell_type": "code",
   "execution_count": 1,
   "metadata": {},
   "outputs": [],
   "source": [
    "import pandas as pd\n",
    "import numpy as np\n",
    "from tqdm import tqdm_notebook as tqdm"
   ]
  },
  {
   "cell_type": "code",
   "execution_count": 2,
   "metadata": {},
   "outputs": [],
   "source": [
    "from pathlib import Path"
   ]
  },
  {
   "cell_type": "code",
   "execution_count": 3,
   "metadata": {},
   "outputs": [],
   "source": [
    "dPath = Path(\"../docs/dumps\")"
   ]
  },
  {
   "cell_type": "code",
   "execution_count": 4,
   "metadata": {},
   "outputs": [],
   "source": [
    "import pickle"
   ]
  },
  {
   "cell_type": "code",
   "execution_count": 5,
   "metadata": {},
   "outputs": [],
   "source": [
    "with open(dPath / \"train_data.pkl\", 'rb') as filename:\n",
    "    train_data = pickle.load(filename)"
   ]
  },
  {
   "cell_type": "code",
   "execution_count": 6,
   "metadata": {},
   "outputs": [],
   "source": [
    "with open(dPath / \"valid_data.pkl\", 'rb') as filename:\n",
    "    valid_data = pickle.load(filename)"
   ]
  },
  {
   "cell_type": "code",
   "execution_count": 7,
   "metadata": {},
   "outputs": [],
   "source": [
    "with open(dPath / \"not_running.pkl\", 'rb') as filename:\n",
    "    not_running = pickle.load(filename)"
   ]
  },
  {
   "cell_type": "code",
   "execution_count": 8,
   "metadata": {},
   "outputs": [],
   "source": [
    "X_train = train_data.drop(\"Detected\", axis=1)"
   ]
  },
  {
   "cell_type": "code",
   "execution_count": 9,
   "metadata": {},
   "outputs": [],
   "source": [
    "y_train = train_data.Detected"
   ]
  },
  {
   "cell_type": "code",
   "execution_count": 10,
   "metadata": {},
   "outputs": [],
   "source": [
    "X_valid = valid_data.drop(\"Detected\", axis=1)"
   ]
  },
  {
   "cell_type": "code",
   "execution_count": 11,
   "metadata": {},
   "outputs": [],
   "source": [
    "y_valid = valid_data.Detected"
   ]
  },
  {
   "cell_type": "code",
   "execution_count": 12,
   "metadata": {},
   "outputs": [],
   "source": [
    "with open(dPath / \"rf_exp_05_names.pkl\", 'rb') as filename:\n",
    "    names = pickle.load(filename)"
   ]
  },
  {
   "cell_type": "code",
   "execution_count": 13,
   "metadata": {},
   "outputs": [],
   "source": [
    "X_train = X_train[names] "
   ]
  },
  {
   "cell_type": "code",
   "execution_count": 14,
   "metadata": {},
   "outputs": [],
   "source": [
    "X_valid = X_valid[names]"
   ]
  },
  {
   "cell_type": "code",
   "execution_count": 15,
   "metadata": {},
   "outputs": [
    {
     "data": {
      "text/html": [
       "<div>\n",
       "<style scoped>\n",
       "    .dataframe tbody tr th:only-of-type {\n",
       "        vertical-align: middle;\n",
       "    }\n",
       "\n",
       "    .dataframe tbody tr th {\n",
       "        vertical-align: top;\n",
       "    }\n",
       "\n",
       "    .dataframe thead th {\n",
       "        text-align: right;\n",
       "    }\n",
       "</style>\n",
       "<table border=\"1\" class=\"dataframe\">\n",
       "  <thead>\n",
       "    <tr style=\"text-align: right;\">\n",
       "      <th></th>\n",
       "      <th>numExecuted</th>\n",
       "      <th>MutatorClass</th>\n",
       "      <th>numAssertInTC</th>\n",
       "      <th>numTestCover</th>\n",
       "      <th>numAssertInTM</th>\n",
       "      <th>ppavcc</th>\n",
       "      <th>cchalsteadCumulativeBugs</th>\n",
       "      <th>cchalsteadCumulativeVolume</th>\n",
       "      <th>ppRVF</th>\n",
       "      <th>ppnumberOfMethods</th>\n",
       "      <th>...</th>\n",
       "      <th>cchalsteadEffort</th>\n",
       "      <th>ccmaintainabilityIndexNC</th>\n",
       "      <th>mmhalsteadVocabulary</th>\n",
       "      <th>pptcc</th>\n",
       "      <th>mmexternalMethodsCalled</th>\n",
       "      <th>ppinstability</th>\n",
       "      <th>ppmaxcc</th>\n",
       "      <th>mmhalsteadEffort</th>\n",
       "      <th>mmvariablesReferenced</th>\n",
       "      <th>ccunweightedClassSize</th>\n",
       "    </tr>\n",
       "  </thead>\n",
       "  <tbody>\n",
       "    <tr>\n",
       "      <th>0</th>\n",
       "      <td>14</td>\n",
       "      <td>2</td>\n",
       "      <td>14</td>\n",
       "      <td>1</td>\n",
       "      <td>7</td>\n",
       "      <td>2.125</td>\n",
       "      <td>0.593518</td>\n",
       "      <td>1780.554266</td>\n",
       "      <td>13.0</td>\n",
       "      <td>16.0</td>\n",
       "      <td>...</td>\n",
       "      <td>32644.005473</td>\n",
       "      <td>99.687474</td>\n",
       "      <td>21.0</td>\n",
       "      <td>34.0</td>\n",
       "      <td>1.0</td>\n",
       "      <td>0.666667</td>\n",
       "      <td>5.0</td>\n",
       "      <td>2782.972319</td>\n",
       "      <td>3.0</td>\n",
       "      <td>4.0</td>\n",
       "    </tr>\n",
       "    <tr>\n",
       "      <th>1</th>\n",
       "      <td>14</td>\n",
       "      <td>6</td>\n",
       "      <td>14</td>\n",
       "      <td>1</td>\n",
       "      <td>7</td>\n",
       "      <td>2.125</td>\n",
       "      <td>0.593518</td>\n",
       "      <td>1780.554266</td>\n",
       "      <td>13.0</td>\n",
       "      <td>16.0</td>\n",
       "      <td>...</td>\n",
       "      <td>32644.005473</td>\n",
       "      <td>99.687474</td>\n",
       "      <td>21.0</td>\n",
       "      <td>34.0</td>\n",
       "      <td>1.0</td>\n",
       "      <td>0.666667</td>\n",
       "      <td>5.0</td>\n",
       "      <td>2782.972319</td>\n",
       "      <td>3.0</td>\n",
       "      <td>4.0</td>\n",
       "    </tr>\n",
       "    <tr>\n",
       "      <th>2</th>\n",
       "      <td>14</td>\n",
       "      <td>6</td>\n",
       "      <td>14</td>\n",
       "      <td>1</td>\n",
       "      <td>7</td>\n",
       "      <td>2.125</td>\n",
       "      <td>0.593518</td>\n",
       "      <td>1780.554266</td>\n",
       "      <td>13.0</td>\n",
       "      <td>16.0</td>\n",
       "      <td>...</td>\n",
       "      <td>32644.005473</td>\n",
       "      <td>99.687474</td>\n",
       "      <td>21.0</td>\n",
       "      <td>34.0</td>\n",
       "      <td>1.0</td>\n",
       "      <td>0.666667</td>\n",
       "      <td>5.0</td>\n",
       "      <td>2782.972319</td>\n",
       "      <td>3.0</td>\n",
       "      <td>4.0</td>\n",
       "    </tr>\n",
       "    <tr>\n",
       "      <th>3</th>\n",
       "      <td>14</td>\n",
       "      <td>0</td>\n",
       "      <td>14</td>\n",
       "      <td>1</td>\n",
       "      <td>7</td>\n",
       "      <td>2.125</td>\n",
       "      <td>0.593518</td>\n",
       "      <td>1780.554266</td>\n",
       "      <td>13.0</td>\n",
       "      <td>16.0</td>\n",
       "      <td>...</td>\n",
       "      <td>32644.005473</td>\n",
       "      <td>99.687474</td>\n",
       "      <td>21.0</td>\n",
       "      <td>34.0</td>\n",
       "      <td>1.0</td>\n",
       "      <td>0.666667</td>\n",
       "      <td>5.0</td>\n",
       "      <td>2782.972319</td>\n",
       "      <td>3.0</td>\n",
       "      <td>4.0</td>\n",
       "    </tr>\n",
       "    <tr>\n",
       "      <th>4</th>\n",
       "      <td>14</td>\n",
       "      <td>0</td>\n",
       "      <td>14</td>\n",
       "      <td>1</td>\n",
       "      <td>7</td>\n",
       "      <td>2.125</td>\n",
       "      <td>0.593518</td>\n",
       "      <td>1780.554266</td>\n",
       "      <td>13.0</td>\n",
       "      <td>16.0</td>\n",
       "      <td>...</td>\n",
       "      <td>32644.005473</td>\n",
       "      <td>99.687474</td>\n",
       "      <td>21.0</td>\n",
       "      <td>34.0</td>\n",
       "      <td>1.0</td>\n",
       "      <td>0.666667</td>\n",
       "      <td>5.0</td>\n",
       "      <td>2782.972319</td>\n",
       "      <td>3.0</td>\n",
       "      <td>4.0</td>\n",
       "    </tr>\n",
       "  </tbody>\n",
       "</table>\n",
       "<p>5 rows × 38 columns</p>\n",
       "</div>"
      ],
      "text/plain": [
       "   numExecuted  MutatorClass  numAssertInTC  numTestCover  numAssertInTM  \\\n",
       "0           14             2             14             1              7   \n",
       "1           14             6             14             1              7   \n",
       "2           14             6             14             1              7   \n",
       "3           14             0             14             1              7   \n",
       "4           14             0             14             1              7   \n",
       "\n",
       "   ppavcc  cchalsteadCumulativeBugs  cchalsteadCumulativeVolume  ppRVF  \\\n",
       "0   2.125                  0.593518                 1780.554266   13.0   \n",
       "1   2.125                  0.593518                 1780.554266   13.0   \n",
       "2   2.125                  0.593518                 1780.554266   13.0   \n",
       "3   2.125                  0.593518                 1780.554266   13.0   \n",
       "4   2.125                  0.593518                 1780.554266   13.0   \n",
       "\n",
       "   ppnumberOfMethods  ...  cchalsteadEffort  ccmaintainabilityIndexNC  \\\n",
       "0               16.0  ...      32644.005473                 99.687474   \n",
       "1               16.0  ...      32644.005473                 99.687474   \n",
       "2               16.0  ...      32644.005473                 99.687474   \n",
       "3               16.0  ...      32644.005473                 99.687474   \n",
       "4               16.0  ...      32644.005473                 99.687474   \n",
       "\n",
       "   mmhalsteadVocabulary  pptcc  mmexternalMethodsCalled  ppinstability  \\\n",
       "0                  21.0   34.0                      1.0       0.666667   \n",
       "1                  21.0   34.0                      1.0       0.666667   \n",
       "2                  21.0   34.0                      1.0       0.666667   \n",
       "3                  21.0   34.0                      1.0       0.666667   \n",
       "4                  21.0   34.0                      1.0       0.666667   \n",
       "\n",
       "   ppmaxcc  mmhalsteadEffort  mmvariablesReferenced  ccunweightedClassSize  \n",
       "0      5.0       2782.972319                    3.0                    4.0  \n",
       "1      5.0       2782.972319                    3.0                    4.0  \n",
       "2      5.0       2782.972319                    3.0                    4.0  \n",
       "3      5.0       2782.972319                    3.0                    4.0  \n",
       "4      5.0       2782.972319                    3.0                    4.0  \n",
       "\n",
       "[5 rows x 38 columns]"
      ]
     },
     "execution_count": 15,
     "metadata": {},
     "output_type": "execute_result"
    }
   ],
   "source": [
    "X_train.head()"
   ]
  },
  {
   "cell_type": "code",
   "execution_count": 16,
   "metadata": {},
   "outputs": [],
   "source": [
    "from imblearn.over_sampling import ADASYN"
   ]
  },
  {
   "cell_type": "code",
   "execution_count": 17,
   "metadata": {},
   "outputs": [],
   "source": [
    "sm = ADASYN(random_state=42, n_jobs=-1,  n_neighbors=5)"
   ]
  },
  {
   "cell_type": "code",
   "execution_count": 18,
   "metadata": {},
   "outputs": [
    {
     "name": "stdout",
     "output_type": "stream",
     "text": [
      "Wall time: 51.5 s\n"
     ]
    }
   ],
   "source": [
    "%time X_res, y_res = sm.fit_resample(X_train, y_train)"
   ]
  },
  {
   "cell_type": "code",
   "execution_count": 19,
   "metadata": {},
   "outputs": [],
   "source": [
    "X_train_not_running = not_running.drop(\"Detected\", axis=1)"
   ]
  },
  {
   "cell_type": "code",
   "execution_count": 20,
   "metadata": {},
   "outputs": [],
   "source": [
    "y_train_not_running = not_running.Detected"
   ]
  },
  {
   "cell_type": "code",
   "execution_count": 21,
   "metadata": {},
   "outputs": [],
   "source": [
    "X_train_not_running = X_train_not_running[names]"
   ]
  },
  {
   "cell_type": "code",
   "execution_count": 22,
   "metadata": {},
   "outputs": [],
   "source": [
    "X_train = pd.concat([X_res,X_train_not_running,X_valid], ignore_index=True,axis=0)"
   ]
  },
  {
   "cell_type": "code",
   "execution_count": 23,
   "metadata": {},
   "outputs": [],
   "source": [
    "y_train = pd.concat([y_res,y_train_not_running,y_valid], ignore_index=True,axis=0)"
   ]
  },
  {
   "cell_type": "code",
   "execution_count": 24,
   "metadata": {},
   "outputs": [
    {
     "data": {
      "text/plain": [
       "0.48736511651307735"
      ]
     },
     "execution_count": 24,
     "metadata": {},
     "output_type": "execute_result"
    }
   ],
   "source": [
    "y_train.sum()/y_train.shape[0]"
   ]
  },
  {
   "cell_type": "code",
   "execution_count": 25,
   "metadata": {},
   "outputs": [],
   "source": [
    "from sklearn.experimental import enable_hist_gradient_boosting \n",
    "from sklearn.ensemble  import HistGradientBoostingClassifier"
   ]
  },
  {
   "cell_type": "code",
   "execution_count": 26,
   "metadata": {},
   "outputs": [
    {
     "name": "stderr",
     "output_type": "stream",
     "text": [
      "C:\\Users\\Alireza\\Anaconda3\\lib\\site-packages\\ipykernel_launcher.py:4: TqdmDeprecationWarning: This function will be removed in tqdm==5.0.0\n",
      "Please use `tqdm.notebook.tqdm` instead of `tqdm.tqdm_notebook`\n",
      "  after removing the cwd from sys.path.\n"
     ]
    },
    {
     "data": {
      "application/vnd.jupyter.widget-view+json": {
       "model_id": "8cb98a238e9c48b59ac05e09c4ae6329",
       "version_major": 2,
       "version_minor": 0
      },
      "text/plain": [
       "HBox(children=(FloatProgress(value=0.0, max=50.0), HTML(value='')))"
      ]
     },
     "metadata": {},
     "output_type": "display_data"
    },
    {
     "name": "stdout",
     "output_type": "stream",
     "text": [
      "\n"
     ]
    }
   ],
   "source": [
    "models = []\n",
    "np.random.seed(42)\n",
    "\n",
    "for i in tqdm(range(50)):\n",
    "    \n",
    "    hgb = HistGradientBoostingClassifier(random_state=np.random.randint(2 ** 10), max_iter=3600, validation_fraction=None)\n",
    "\n",
    "    hgb.fit(X_train, y_train)\n",
    "    models.append(hgb)"
   ]
  },
  {
   "cell_type": "code",
   "execution_count": 27,
   "metadata": {},
   "outputs": [],
   "source": [
    "with open(dPath / \"hgb_exp_04_stacking.pkl\", 'wb') as filename:\n",
    "    pickle.dump(models,filename)"
   ]
  },
  {
   "cell_type": "code",
   "execution_count": null,
   "metadata": {},
   "outputs": [],
   "source": []
  }
 ],
 "metadata": {
  "kernelspec": {
   "display_name": "Python 3",
   "language": "python",
   "name": "python3"
  },
  "language_info": {
   "codemirror_mode": {
    "name": "ipython",
    "version": 3
   },
   "file_extension": ".py",
   "mimetype": "text/x-python",
   "name": "python",
   "nbconvert_exporter": "python",
   "pygments_lexer": "ipython3",
   "version": "3.7.4"
  }
 },
 "nbformat": 4,
 "nbformat_minor": 4
}

{
 "cells": [
  {
   "cell_type": "code",
   "execution_count": 1,
   "metadata": {},
   "outputs": [],
   "source": [
    "import pandas as pd\n",
    "import numpy as np\n",
    "from tqdm import tqdm_notebook as tqdm"
   ]
  },
  {
   "cell_type": "code",
   "execution_count": 2,
   "metadata": {},
   "outputs": [],
   "source": [
    "from pathlib import Path"
   ]
  },
  {
   "cell_type": "code",
   "execution_count": 3,
   "metadata": {},
   "outputs": [],
   "source": [
    "dPath = Path(\"../docs/dumps\")"
   ]
  },
  {
   "cell_type": "code",
   "execution_count": 4,
   "metadata": {},
   "outputs": [],
   "source": [
    "import pickle"
   ]
  },
  {
   "cell_type": "code",
   "execution_count": 5,
   "metadata": {},
   "outputs": [],
   "source": [
    "with open(dPath / \"test_data.pkl\", 'rb') as filename:\n",
    "    test_data = pickle.load(filename)"
   ]
  },
  {
   "cell_type": "code",
   "execution_count": 6,
   "metadata": {},
   "outputs": [],
   "source": [
    "with open(dPath / \"mutclslabels.pkl\", 'rb') as filename:\n",
    "    mutclslabels = pickle.load(filename)\n",
    "    \n",
    "with open(dPath / \"retypelabels.pkl\", 'rb') as filename:\n",
    "    retypelabels = pickle.load(filename)"
   ]
  },
  {
   "cell_type": "code",
   "execution_count": 7,
   "metadata": {},
   "outputs": [],
   "source": [
    "with open(dPath / \"rf_exp_05_names.pkl\", 'rb') as filename:\n",
    "    names = pickle.load(filename)"
   ]
  },
  {
   "cell_type": "code",
   "execution_count": 78,
   "metadata": {},
   "outputs": [],
   "source": [
    "with open(dPath / \"hgb_exp_02_stacking.pkl\", 'rb') as filename:\n",
    "    models = pickle.load(filename)"
   ]
  },
  {
   "cell_type": "code",
   "execution_count": 9,
   "metadata": {},
   "outputs": [],
   "source": [
    "X_test = test_data.drop(\"Detected\", axis=1)"
   ]
  },
  {
   "cell_type": "code",
   "execution_count": 10,
   "metadata": {},
   "outputs": [],
   "source": [
    "y_test = test_data.Detected"
   ]
  },
  {
   "cell_type": "code",
   "execution_count": 11,
   "metadata": {},
   "outputs": [],
   "source": [
    "X_test = X_test[names]"
   ]
  },
  {
   "cell_type": "code",
   "execution_count": 12,
   "metadata": {},
   "outputs": [],
   "source": [
    "mutclscodes = dict(zip(mutclslabels,range(len(mutclslabels))))"
   ]
  },
  {
   "cell_type": "code",
   "execution_count": 13,
   "metadata": {},
   "outputs": [],
   "source": [
    "retypecodes = dict(zip(retypelabels,range(len(retypelabels))))"
   ]
  },
  {
   "cell_type": "code",
   "execution_count": 14,
   "metadata": {},
   "outputs": [],
   "source": [
    "X_test.replace(mutclscodes, inplace=True)"
   ]
  },
  {
   "cell_type": "code",
   "execution_count": 15,
   "metadata": {},
   "outputs": [],
   "source": [
    "X_test.replace(retypecodes, inplace=True)"
   ]
  },
  {
   "cell_type": "code",
   "execution_count": 16,
   "metadata": {},
   "outputs": [
    {
     "data": {
      "text/html": [
       "<div>\n",
       "<style scoped>\n",
       "    .dataframe tbody tr th:only-of-type {\n",
       "        vertical-align: middle;\n",
       "    }\n",
       "\n",
       "    .dataframe tbody tr th {\n",
       "        vertical-align: top;\n",
       "    }\n",
       "\n",
       "    .dataframe thead th {\n",
       "        text-align: right;\n",
       "    }\n",
       "</style>\n",
       "<table border=\"1\" class=\"dataframe\">\n",
       "  <thead>\n",
       "    <tr style=\"text-align: right;\">\n",
       "      <th></th>\n",
       "      <th>numExecuted</th>\n",
       "      <th>MutatorClass</th>\n",
       "      <th>numAssertInTC</th>\n",
       "      <th>numTestCover</th>\n",
       "      <th>numAssertInTM</th>\n",
       "      <th>ppavcc</th>\n",
       "      <th>cchalsteadCumulativeBugs</th>\n",
       "      <th>cchalsteadCumulativeVolume</th>\n",
       "      <th>ppRVF</th>\n",
       "      <th>ppnumberOfMethods</th>\n",
       "      <th>...</th>\n",
       "      <th>cchalsteadEffort</th>\n",
       "      <th>ccmaintainabilityIndexNC</th>\n",
       "      <th>mmhalsteadVocabulary</th>\n",
       "      <th>pptcc</th>\n",
       "      <th>mmexternalMethodsCalled</th>\n",
       "      <th>ppinstability</th>\n",
       "      <th>ppmaxcc</th>\n",
       "      <th>mmhalsteadEffort</th>\n",
       "      <th>mmvariablesReferenced</th>\n",
       "      <th>ccunweightedClassSize</th>\n",
       "    </tr>\n",
       "  </thead>\n",
       "  <tbody>\n",
       "    <tr>\n",
       "      <th>0</th>\n",
       "      <td>32</td>\n",
       "      <td>5</td>\n",
       "      <td>2</td>\n",
       "      <td>16</td>\n",
       "      <td>2</td>\n",
       "      <td>1.258065</td>\n",
       "      <td>0.996047</td>\n",
       "      <td>2988.139644</td>\n",
       "      <td>16.0</td>\n",
       "      <td>31.0</td>\n",
       "      <td>...</td>\n",
       "      <td>31594.065211</td>\n",
       "      <td>117.568525</td>\n",
       "      <td>12.0</td>\n",
       "      <td>39.0</td>\n",
       "      <td>0.0</td>\n",
       "      <td>0.6</td>\n",
       "      <td>3.0</td>\n",
       "      <td>245.928428</td>\n",
       "      <td>1.0</td>\n",
       "      <td>12.0</td>\n",
       "    </tr>\n",
       "    <tr>\n",
       "      <th>1</th>\n",
       "      <td>1</td>\n",
       "      <td>0</td>\n",
       "      <td>2</td>\n",
       "      <td>1</td>\n",
       "      <td>1</td>\n",
       "      <td>1.258065</td>\n",
       "      <td>0.996047</td>\n",
       "      <td>2988.139644</td>\n",
       "      <td>16.0</td>\n",
       "      <td>31.0</td>\n",
       "      <td>...</td>\n",
       "      <td>31594.065211</td>\n",
       "      <td>117.568525</td>\n",
       "      <td>16.0</td>\n",
       "      <td>39.0</td>\n",
       "      <td>1.0</td>\n",
       "      <td>0.6</td>\n",
       "      <td>3.0</td>\n",
       "      <td>306.000000</td>\n",
       "      <td>1.0</td>\n",
       "      <td>12.0</td>\n",
       "    </tr>\n",
       "    <tr>\n",
       "      <th>2</th>\n",
       "      <td>1</td>\n",
       "      <td>4</td>\n",
       "      <td>2</td>\n",
       "      <td>1</td>\n",
       "      <td>1</td>\n",
       "      <td>1.258065</td>\n",
       "      <td>0.996047</td>\n",
       "      <td>2988.139644</td>\n",
       "      <td>16.0</td>\n",
       "      <td>31.0</td>\n",
       "      <td>...</td>\n",
       "      <td>31594.065211</td>\n",
       "      <td>117.568525</td>\n",
       "      <td>16.0</td>\n",
       "      <td>39.0</td>\n",
       "      <td>1.0</td>\n",
       "      <td>0.6</td>\n",
       "      <td>3.0</td>\n",
       "      <td>306.000000</td>\n",
       "      <td>1.0</td>\n",
       "      <td>12.0</td>\n",
       "    </tr>\n",
       "    <tr>\n",
       "      <th>3</th>\n",
       "      <td>1</td>\n",
       "      <td>0</td>\n",
       "      <td>2</td>\n",
       "      <td>1</td>\n",
       "      <td>1</td>\n",
       "      <td>1.258065</td>\n",
       "      <td>0.996047</td>\n",
       "      <td>2988.139644</td>\n",
       "      <td>16.0</td>\n",
       "      <td>31.0</td>\n",
       "      <td>...</td>\n",
       "      <td>31594.065211</td>\n",
       "      <td>117.568525</td>\n",
       "      <td>12.0</td>\n",
       "      <td>39.0</td>\n",
       "      <td>1.0</td>\n",
       "      <td>0.6</td>\n",
       "      <td>3.0</td>\n",
       "      <td>163.115794</td>\n",
       "      <td>0.0</td>\n",
       "      <td>12.0</td>\n",
       "    </tr>\n",
       "    <tr>\n",
       "      <th>4</th>\n",
       "      <td>1</td>\n",
       "      <td>4</td>\n",
       "      <td>2</td>\n",
       "      <td>1</td>\n",
       "      <td>1</td>\n",
       "      <td>1.258065</td>\n",
       "      <td>0.996047</td>\n",
       "      <td>2988.139644</td>\n",
       "      <td>16.0</td>\n",
       "      <td>31.0</td>\n",
       "      <td>...</td>\n",
       "      <td>31594.065211</td>\n",
       "      <td>117.568525</td>\n",
       "      <td>12.0</td>\n",
       "      <td>39.0</td>\n",
       "      <td>1.0</td>\n",
       "      <td>0.6</td>\n",
       "      <td>3.0</td>\n",
       "      <td>163.115794</td>\n",
       "      <td>0.0</td>\n",
       "      <td>12.0</td>\n",
       "    </tr>\n",
       "  </tbody>\n",
       "</table>\n",
       "<p>5 rows × 38 columns</p>\n",
       "</div>"
      ],
      "text/plain": [
       "   numExecuted  MutatorClass  numAssertInTC  numTestCover  numAssertInTM  \\\n",
       "0           32             5              2            16              2   \n",
       "1            1             0              2             1              1   \n",
       "2            1             4              2             1              1   \n",
       "3            1             0              2             1              1   \n",
       "4            1             4              2             1              1   \n",
       "\n",
       "     ppavcc  cchalsteadCumulativeBugs  cchalsteadCumulativeVolume  ppRVF  \\\n",
       "0  1.258065                  0.996047                 2988.139644   16.0   \n",
       "1  1.258065                  0.996047                 2988.139644   16.0   \n",
       "2  1.258065                  0.996047                 2988.139644   16.0   \n",
       "3  1.258065                  0.996047                 2988.139644   16.0   \n",
       "4  1.258065                  0.996047                 2988.139644   16.0   \n",
       "\n",
       "   ppnumberOfMethods  ...  cchalsteadEffort  ccmaintainabilityIndexNC  \\\n",
       "0               31.0  ...      31594.065211                117.568525   \n",
       "1               31.0  ...      31594.065211                117.568525   \n",
       "2               31.0  ...      31594.065211                117.568525   \n",
       "3               31.0  ...      31594.065211                117.568525   \n",
       "4               31.0  ...      31594.065211                117.568525   \n",
       "\n",
       "   mmhalsteadVocabulary  pptcc  mmexternalMethodsCalled  ppinstability  \\\n",
       "0                  12.0   39.0                      0.0            0.6   \n",
       "1                  16.0   39.0                      1.0            0.6   \n",
       "2                  16.0   39.0                      1.0            0.6   \n",
       "3                  12.0   39.0                      1.0            0.6   \n",
       "4                  12.0   39.0                      1.0            0.6   \n",
       "\n",
       "   ppmaxcc  mmhalsteadEffort  mmvariablesReferenced  ccunweightedClassSize  \n",
       "0      3.0        245.928428                    1.0                   12.0  \n",
       "1      3.0        306.000000                    1.0                   12.0  \n",
       "2      3.0        306.000000                    1.0                   12.0  \n",
       "3      3.0        163.115794                    0.0                   12.0  \n",
       "4      3.0        163.115794                    0.0                   12.0  \n",
       "\n",
       "[5 rows x 38 columns]"
      ]
     },
     "execution_count": 16,
     "metadata": {},
     "output_type": "execute_result"
    }
   ],
   "source": [
    "X_test.head()"
   ]
  },
  {
   "cell_type": "code",
   "execution_count": 79,
   "metadata": {},
   "outputs": [],
   "source": [
    "predictions = []\n",
    "for _model in models:\n",
    "    predictions.append(_model.predict_proba(X_test)[:,1])\n",
    "    \n",
    "hgbs_preds_test = np.vstack(predictions).T"
   ]
  },
  {
   "cell_type": "code",
   "execution_count": 80,
   "metadata": {},
   "outputs": [],
   "source": [
    "from scipy.stats.mstats import gmean"
   ]
  },
  {
   "cell_type": "code",
   "execution_count": 81,
   "metadata": {},
   "outputs": [],
   "source": [
    "hgbs_pred_test = hgbs_preds_test.mean(axis=1)"
   ]
  },
  {
   "cell_type": "code",
   "execution_count": 82,
   "metadata": {},
   "outputs": [],
   "source": [
    "from sklearn.metrics import classification_report\n",
    "from sklearn.metrics import average_precision_score, precision_score, recall_score\n",
    "from sklearn import metrics"
   ]
  },
  {
   "cell_type": "code",
   "execution_count": 83,
   "metadata": {},
   "outputs": [
    {
     "name": "stdout",
     "output_type": "stream",
     "text": [
      "              precision    recall  f1-score   support\n",
      "\n",
      "       False       0.53      0.53      0.53     20633\n",
      "        True       0.74      0.74      0.74     37843\n",
      "\n",
      "    accuracy                           0.67     58476\n",
      "   macro avg       0.64      0.64      0.64     58476\n",
      "weighted avg       0.67      0.67      0.67     58476\n",
      "\n"
     ]
    }
   ],
   "source": [
    "print(classification_report(y_test, hgbs_pred_test >=0.50))"
   ]
  },
  {
   "cell_type": "code",
   "execution_count": 84,
   "metadata": {},
   "outputs": [
    {
     "name": "stdout",
     "output_type": "stream",
     "text": [
      "0.719736286534185\n"
     ]
    }
   ],
   "source": [
    "print(average_precision_score(y_test, hgbs_pred_test >= 0.5, average='micro'))"
   ]
  },
  {
   "cell_type": "code",
   "execution_count": 85,
   "metadata": {},
   "outputs": [
    {
     "data": {
      "text/plain": [
       "0.63810694481887"
      ]
     },
     "execution_count": 85,
     "metadata": {},
     "output_type": "execute_result"
    }
   ],
   "source": [
    "metrics.roc_auc_score(y_test, hgbs_pred_test >= 0.5)"
   ]
  },
  {
   "cell_type": "code",
   "execution_count": 86,
   "metadata": {},
   "outputs": [],
   "source": [
    "with open(dPath / \"hgbs_exp_02_preds.pkl\", 'wb') as filename:\n",
    "    pickle.dump(hgbs_pred_test,filename)"
   ]
  },
  {
   "cell_type": "code",
   "execution_count": 87,
   "metadata": {},
   "outputs": [
    {
     "data": {
      "text/plain": [
       "array([0.59613989, 0.67995785, 0.66607214, ..., 0.40060204, 0.62277501,\n",
       "       0.58070451])"
      ]
     },
     "execution_count": 87,
     "metadata": {},
     "output_type": "execute_result"
    }
   ],
   "source": [
    "hgbs_pred_test"
   ]
  },
  {
   "cell_type": "code",
   "execution_count": 91,
   "metadata": {},
   "outputs": [
    {
     "data": {
      "text/plain": [
       "array([0.03809655, 0.03988613, 0.04194271, ..., 0.04019107, 0.04404042,\n",
       "       0.04473847])"
      ]
     },
     "execution_count": 91,
     "metadata": {},
     "output_type": "execute_result"
    }
   ],
   "source": [
    "np.std(hgbs_preds_test, axis=1)"
   ]
  },
  {
   "cell_type": "code",
   "execution_count": null,
   "metadata": {},
   "outputs": [],
   "source": []
  }
 ],
 "metadata": {
  "kernelspec": {
   "display_name": "Python 3",
   "language": "python",
   "name": "python3"
  },
  "language_info": {
   "codemirror_mode": {
    "name": "ipython",
    "version": 3
   },
   "file_extension": ".py",
   "mimetype": "text/x-python",
   "name": "python",
   "nbconvert_exporter": "python",
   "pygments_lexer": "ipython3",
   "version": "3.7.4"
  }
 },
 "nbformat": 4,
 "nbformat_minor": 4
}
